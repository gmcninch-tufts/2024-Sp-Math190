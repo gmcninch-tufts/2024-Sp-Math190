{
 "cells": [
  {
   "cell_type": "code",
   "execution_count": 8,
   "id": "edd26bfd-e3c3-4050-98da-5f664095045e",
   "metadata": {},
   "outputs": [
    {
     "data": {
      "text/plain": [
       "[False, False, False, False, False, False, False]"
      ]
     },
     "execution_count": 8,
     "metadata": {},
     "output_type": "execute_result"
    }
   ],
   "source": [
    "R.<T> = PolynomialRing(ZZ)\n",
    "f=T^3+1\n",
    "\n",
    "[ PolynomialRing(GF(p),T)(f).is_irreducible() for p in [2,3,5,7,11,13,17]]"
   ]
  },
  {
   "cell_type": "code",
   "execution_count": 10,
   "id": "90628777-c801-430d-962f-2555bdcfcf45",
   "metadata": {},
   "outputs": [
    {
     "data": {
      "text/plain": [
       "[(1, 3), (2, 4), (3, 8), (4, 2), (5, 0), (6, 3), (7, 4), (8, 8), (9, 2)]"
      ]
     },
     "execution_count": 10,
     "metadata": {},
     "output_type": "execute_result"
    }
   ],
   "source": [
    "[ (i,mod(4^i - 1,11)) for i in range(1,10)] "
   ]
  },
  {
   "cell_type": "code",
   "execution_count": null,
   "id": "dd0be573-8e41-4fd9-b256-3e41f8a064c9",
   "metadata": {},
   "outputs": [],
   "source": []
  }
 ],
 "metadata": {
  "kernelspec": {
   "display_name": "SageMath 10.2",
   "language": "sage",
   "name": "sagemath"
  },
  "language_info": {
   "codemirror_mode": {
    "name": "ipython",
    "version": 3
   },
   "file_extension": ".py",
   "mimetype": "text/x-python",
   "name": "python",
   "nbconvert_exporter": "python",
   "pygments_lexer": "ipython3",
   "version": "3.11.6"
  }
 },
 "nbformat": 4,
 "nbformat_minor": 5
}
