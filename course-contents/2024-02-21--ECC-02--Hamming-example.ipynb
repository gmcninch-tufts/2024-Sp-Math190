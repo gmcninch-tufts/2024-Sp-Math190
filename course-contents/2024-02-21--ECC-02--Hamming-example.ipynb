{
 "cells": [
  {
   "cell_type": "code",
   "execution_count": null,
   "id": "f87f5b10-93d0-4f84-971b-62d3bd551b1f",
   "metadata": {},
   "outputs": [],
   "source": [
    "k = GF(5)\n",
    "P = ProjectiveSpace(k,2)"
   ]
  },
  {
   "cell_type": "code",
   "execution_count": null,
   "id": "02207b19-dad4-449a-9b10-6d3e4eb46c28",
   "metadata": {},
   "outputs": [],
   "source": [
    "[p for p in P]"
   ]
  },
  {
   "cell_type": "code",
   "execution_count": null,
   "id": "f166afa0-abf6-4efa-8f1d-91d8777746b9",
   "metadata": {},
   "outputs": [],
   "source": [
    "H = matrix([p for p in P]).T"
   ]
  },
  {
   "cell_type": "code",
   "execution_count": null,
   "id": "e3f155d7-cadf-40f1-b4c8-126e368650df",
   "metadata": {},
   "outputs": [],
   "source": [
    "C = H.right_kernel();\n",
    "C"
   ]
  },
  {
   "cell_type": "code",
   "execution_count": null,
   "id": "0cc62e49-1289-45e7-ae2b-f69941305ca6",
   "metadata": {},
   "outputs": [],
   "source": [
    "C.basis()"
   ]
  }
 ],
 "metadata": {
  "kernelspec": {
   "display_name": "Python 3 (ipykernel)",
   "language": "python",
   "name": "python3"
  },
  "language_info": {
   "codemirror_mode": {
    "name": "ipython",
    "version": 3
   },
   "file_extension": ".py",
   "mimetype": "text/x-python",
   "name": "python",
   "nbconvert_exporter": "python",
   "pygments_lexer": "ipython3",
   "version": "3.11.6"
  }
 },
 "nbformat": 4,
 "nbformat_minor": 5
}
