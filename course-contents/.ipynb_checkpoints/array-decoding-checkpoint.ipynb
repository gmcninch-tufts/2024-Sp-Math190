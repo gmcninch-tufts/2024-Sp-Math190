{
 "cells": [
  {
   "cell_type": "markdown",
   "id": "9b87146b-aaa9-438b-b657-a430cf28f16d",
   "metadata": {},
   "source": [
    "Let's create a $[5,2]_2$ code."
   ]
  },
  {
   "cell_type": "code",
   "execution_count": 18,
   "id": "bf7044d3-bbb7-4acd-b0fb-bf569ece0551",
   "metadata": {},
   "outputs": [],
   "source": [
    "K = GF(2);\n",
    "V = VectorSpace(K,5)\n",
    "\n",
    "C= V.subspace([V([1,0,1,1,0]),\n",
    "               V([0,1,1,0,1])])\n",
    "\n",
    "W = V.subspace([V([0,0,1,0,0]),\n",
    "                V([0,0,0,1,0]),\n",
    "                V([0,0,0,0,1])])\n",
    "\n",
    "def weight(v):\n",
    "    r = [x for x in v if x != 0]\n",
    "    return len(r)\n"
   ]
  },
  {
   "cell_type": "code",
   "execution_count": 33,
   "id": "a53b2a8e-5067-437e-a740-ecc89e963869",
   "metadata": {},
   "outputs": [],
   "source": [
    "# build the coset of C with representative v, and sort the vectors in order of\n",
    "# increasing weight\n",
    "\n",
    "def coset(v):\n",
    "    c =  [ v + c for c in C ]\n",
    "    c.sort(key = lambda x: weight(x))\n",
    "    return list(c)"
   ]
  },
  {
   "cell_type": "markdown",
   "id": "67d4d0f1-5f9a-468b-8e02-2c5ef14b68f9",
   "metadata": {},
   "source": [
    "We build the *array* whose rows are the cosets of `C`. \n",
    "\n",
    "Notice that vectors in `W` provide a full set of coset representatives."
   ]
  },
  {
   "cell_type": "code",
   "execution_count": 36,
   "id": "fb7fda9f-767e-40d4-93e6-ea1d9146e2b0",
   "metadata": {},
   "outputs": [
    {
     "data": {
      "text/plain": [
       "[[(0, 0, 0, 0, 0), (1, 0, 1, 1, 0), (0, 1, 1, 0, 1), (1, 1, 0, 1, 1)],\n",
       " [(0, 0, 1, 0, 0), (1, 0, 0, 1, 0), (0, 1, 0, 0, 1), (1, 1, 1, 1, 1)],\n",
       " [(0, 0, 0, 1, 0), (1, 0, 1, 0, 0), (1, 1, 0, 0, 1), (0, 1, 1, 1, 1)],\n",
       " [(1, 0, 0, 0, 0), (0, 0, 1, 1, 0), (0, 1, 0, 1, 1), (1, 1, 1, 0, 1)],\n",
       " [(0, 0, 0, 0, 1), (0, 1, 1, 0, 0), (1, 1, 0, 1, 0), (1, 0, 1, 1, 1)],\n",
       " [(0, 1, 0, 0, 0), (0, 0, 1, 0, 1), (1, 0, 0, 1, 1), (1, 1, 1, 1, 0)],\n",
       " [(0, 0, 0, 1, 1), (1, 1, 0, 0, 0), (1, 0, 1, 0, 1), (0, 1, 1, 1, 0)],\n",
       " [(1, 0, 0, 0, 1), (0, 1, 0, 1, 0), (0, 0, 1, 1, 1), (1, 1, 1, 0, 0)]]"
      ]
     },
     "execution_count": 36,
     "metadata": {},
     "output_type": "execute_result"
    }
   ],
   "source": [
    "lookup = [ coset(w) for w in W ]\n",
    "lookup"
   ]
  },
  {
   "cell_type": "markdown",
   "id": "e6d6d0e8-691a-474e-a90b-da069afce532",
   "metadata": {},
   "source": [
    "In order to decode the vector `v`, we find the coset `c` containing `v`, and return\n",
    "`v - c[0]`."
   ]
  },
  {
   "cell_type": "code",
   "execution_count": 39,
   "id": "6b2603ca-773c-4842-ac4b-8dcb0bf01073",
   "metadata": {},
   "outputs": [],
   "source": [
    "def decode(w):\n",
    "    c = list(filter(lambda c: w in c,lookup))[0]\n",
    "    return w - c[0]"
   ]
  },
  {
   "cell_type": "code",
   "execution_count": 40,
   "id": "e5807ef0-9cea-4fec-84a6-8b59d7890cd7",
   "metadata": {},
   "outputs": [
    {
     "data": {
      "text/plain": [
       "(1, 0, 1, 1, 0)"
      ]
     },
     "execution_count": 40,
     "metadata": {},
     "output_type": "execute_result"
    }
   ],
   "source": [
    "decode(V([1,0,1,1,0]))\n"
   ]
  },
  {
   "cell_type": "code",
   "execution_count": 42,
   "id": "db683153-2c55-40f1-a562-9ba2bbbe8265",
   "metadata": {},
   "outputs": [
    {
     "data": {
      "text/plain": [
       "(1, 1, 0, 1, 1)"
      ]
     },
     "execution_count": 42,
     "metadata": {},
     "output_type": "execute_result"
    }
   ],
   "source": [
    "decode(V([1,1,1,1,1]))"
   ]
  },
  {
   "cell_type": "code",
   "execution_count": null,
   "id": "5f4c85fe-7d1c-4f22-8e4e-f83b1f273690",
   "metadata": {},
   "outputs": [],
   "source": []
  }
 ],
 "metadata": {
  "kernelspec": {
   "display_name": "SageMath 10.2",
   "language": "sage",
   "name": "sagemath"
  },
  "language_info": {
   "codemirror_mode": {
    "name": "ipython",
    "version": 3
   },
   "file_extension": ".py",
   "mimetype": "text/x-python",
   "name": "python",
   "nbconvert_exporter": "python",
   "pygments_lexer": "ipython3",
   "version": "3.11.6"
  }
 },
 "nbformat": 4,
 "nbformat_minor": 5
}
