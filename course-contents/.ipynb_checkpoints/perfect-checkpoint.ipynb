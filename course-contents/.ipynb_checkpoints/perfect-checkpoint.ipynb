{
 "cells": [
  {
   "cell_type": "code",
   "execution_count": 1,
   "id": "5fc31a20-8754-4e06-ab81-f6e852a9864f",
   "metadata": {},
   "outputs": [],
   "source": [
    "def delta(n,q,m):\n",
    "    return sum([ binomial(n,j) * (q-1)**j for j in range(m+1) ])"
   ]
  },
  {
   "cell_type": "markdown",
   "id": "0d8b90f3-d65e-41e9-8b81-7d1971bfcab0",
   "metadata": {},
   "source": [
    "Let $C \\subset A^n$ be a code of minimal distance $d$\n",
    "and set $t = (d-1)/2$; so that $C$ \"corrects up to $t$ errors\".\n",
    "\n",
    "$C$ is *perfect* if $|C| \\cdot \\delta(t) = q^n.$\n",
    "\n",
    "For this to hold, of course, we must have $\\delta(t) \\mid q^n$.\n",
    "\n",
    "Let's see some possibilities:"
   ]
  },
  {
   "cell_type": "code",
   "execution_count": 19,
   "id": "508a1bb9-81e7-46f1-8991-e0430c7f5a01",
   "metadata": {},
   "outputs": [],
   "source": [
    "def test(n,q,t):\n",
    "    return Mod(q^n,delta(n,q,t)) == 0"
   ]
  },
  {
   "cell_type": "code",
   "execution_count": 20,
   "id": "0a5db808-854b-41f9-a56d-62807c686561",
   "metadata": {},
   "outputs": [
    {
     "data": {
      "text/plain": [
       "[1, 2, 5, 90]"
      ]
     },
     "execution_count": 20,
     "metadata": {},
     "output_type": "execute_result"
    }
   ],
   "source": [
    "q = 2\n",
    "t = 2\n",
    "\n",
    "list(filter(lambda n: test(n,q,t),range(1,200)))\n"
   ]
  },
  {
   "cell_type": "markdown",
   "id": "4311d7c8-35b3-4eb4-87c1-cedb894f62d6",
   "metadata": {},
   "source": [
    "In fact, there is no perfect binary code of length 90 with $t = 2$."
   ]
  },
  {
   "cell_type": "code",
   "execution_count": 23,
   "id": "07b0bfa8-27c6-469d-9db6-9f2331e99f32",
   "metadata": {},
   "outputs": [
    {
     "data": {
      "text/plain": [
       "[1, 2, 3, 7, 23]"
      ]
     },
     "execution_count": 23,
     "metadata": {},
     "output_type": "execute_result"
    }
   ],
   "source": [
    "q = 2\n",
    "t = 3\n",
    "list(filter(lambda n: test(n,q,t), range(1,200)))"
   ]
  },
  {
   "cell_type": "code",
   "execution_count": 21,
   "id": "ff5cbe81-1f1b-4faf-8494-ccd3f56d7482",
   "metadata": {},
   "outputs": [
    {
     "data": {
      "text/plain": [
       "[1, 2, 11]"
      ]
     },
     "execution_count": 21,
     "metadata": {},
     "output_type": "execute_result"
    }
   ],
   "source": [
    "q=3\n",
    "t=2\n",
    "list(filter(lambda n: test(n,q,t),range(1,200)))\n"
   ]
  }
 ],
 "metadata": {
  "kernelspec": {
   "display_name": "SageMath 10.2",
   "language": "sage",
   "name": "sagemath"
  },
  "language_info": {
   "codemirror_mode": {
    "name": "ipython",
    "version": 3
   },
   "file_extension": ".py",
   "mimetype": "text/x-python",
   "name": "python",
   "nbconvert_exporter": "python",
   "pygments_lexer": "ipython3",
   "version": "3.11.6"
  }
 },
 "nbformat": 4,
 "nbformat_minor": 5
}
