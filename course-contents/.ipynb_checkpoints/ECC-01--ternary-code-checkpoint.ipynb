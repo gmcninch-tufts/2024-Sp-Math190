{
 "cells": [
  {
   "cell_type": "markdown",
   "id": "cbd8dfbb-a7a6-4625-a20b-9485c0ee5784",
   "metadata": {},
   "source": [
    "Let's create the field `k` having 3 elements, and the standard vector space `V=k^9`"
   ]
  },
  {
   "cell_type": "code",
   "execution_count": null,
   "id": "09733ac0",
   "metadata": {},
   "outputs": [],
   "source": [
    "k = GF(27);\n",
    "V = VectorSpace(k,9)\n",
    "print(k)\n",
    "print(V)"
   ]
  },
  {
   "cell_type": "markdown",
   "id": "346b536e-bea2-4eca-913b-34546ab988d6",
   "metadata": {},
   "source": [
    "Now let's create a certain 3 dimensional subspace `C` of `V` -- a *code* -- essentially by giving its *generator matrix*."
   ]
  },
  {
   "cell_type": "code",
   "execution_count": null,
   "id": "608f1b47-5c84-4891-a87c-e01c637a0ba9",
   "metadata": {},
   "outputs": [],
   "source": [
    "C= V.subspace([V([1,0,0,1,1,0,1,1,2]),\n",
    "               V([0,1,0,1,0,1,1,2,1]),\n",
    "               V([0,0,1,0,1,1,2,1,1])])\n",
    "C.basis()"
   ]
  },
  {
   "cell_type": "markdown",
   "id": "56a08972-551e-4aef-9f2e-92b02977bb5e",
   "metadata": {},
   "source": [
    "In order to manipulate the generator matrix *as a matrix*, we create the `MatrixSpace` of the right dimensions, and *coerce* the basis of `C` into a matrix:"
   ]
  },
  {
   "cell_type": "code",
   "execution_count": null,
   "id": "5e4b4bb2",
   "metadata": {},
   "outputs": [],
   "source": [
    "MM = MatrixSpace(k,3,9)\n",
    "G = MM.matrix(C.basis())\n",
    "G"
   ]
  },
  {
   "cell_type": "code",
   "execution_count": null,
   "id": "21fa69bf",
   "metadata": {},
   "outputs": [],
   "source": [
    "def weight(v):\n",
    "    r = [x for x in v if x != 0]\n",
    "    return len(r)\n",
    "\n",
    "min([ weight(v) for v in C if v != 0])"
   ]
  },
  {
   "cell_type": "markdown",
   "id": "1ca415b2-b2df-45e6-903a-1973f84a946d",
   "metadata": {},
   "source": [
    "Let's extract the matrix `A` which is the `3 x 6` matrix\n",
    "for which \n",
    "\n",
    "`G = [ I3 | A ]`"
   ]
  },
  {
   "cell_type": "code",
   "execution_count": null,
   "id": "fbd3d4b4-209f-469c-beb2-3b6393f640cf",
   "metadata": {},
   "outputs": [],
   "source": [
    "A = MatrixSpace(k,3,6).matrix([b[3:9] for b in G])\n",
    "A"
   ]
  },
  {
   "cell_type": "markdown",
   "id": "b02c3e25-0379-4f31-ac53-c9a7f2597ff1",
   "metadata": {},
   "source": [
    "And let's make the `parity check matrix` for `C`"
   ]
  },
  {
   "cell_type": "code",
   "execution_count": null,
   "id": "3bfef95a-0e31-4b98-a295-a8e0c438535d",
   "metadata": {},
   "outputs": [],
   "source": [
    "i6=MatrixSpace(k,6,6).one()\n",
    "H=block_matrix([[-A.transpose(),i6]],\n",
    "               subdivide=False)        \n",
    "\n",
    "H"
   ]
  },
  {
   "cell_type": "markdown",
   "id": "cf9f107d-9bbf-4281-b367-6f2ae6a5019c",
   "metadata": {},
   "source": [
    "And let's check that `H * G.T == 0`"
   ]
  },
  {
   "cell_type": "code",
   "execution_count": null,
   "id": "96a53a64-52b7-4f6a-a7d0-a8015aa5b2f5",
   "metadata": {},
   "outputs": [],
   "source": [
    "H * G.T == 0"
   ]
  },
  {
   "cell_type": "code",
   "execution_count": null,
   "id": "6630f1e6-ef5f-4dba-8fa8-c4dbaa00e89c",
   "metadata": {},
   "outputs": [],
   "source": [
    "rank(H)"
   ]
  },
  {
   "cell_type": "markdown",
   "id": "85e4c66d-1a8b-41d6-ac34-3f286c082adf",
   "metadata": {},
   "source": [
    "And indeed, if we use `SAGE` to check the `right_kernel` of the matrix `H`, we get exactly the subspace `C`.\n"
   ]
  },
  {
   "cell_type": "code",
   "execution_count": null,
   "id": "f3272c71-9b0e-461e-b05c-d35b2dc5676a",
   "metadata": {},
   "outputs": [],
   "source": [
    "H.right_kernel() == C"
   ]
  }
 ],
 "metadata": {
  "kernelspec": {
   "display_name": "SageMath 10.2",
   "language": "sage",
   "name": "sagemath"
  },
  "language_info": {
   "codemirror_mode": {
    "name": "ipython",
    "version": 3
   },
   "file_extension": ".py",
   "mimetype": "text/x-python",
   "name": "python",
   "nbconvert_exporter": "python",
   "pygments_lexer": "ipython3",
   "version": "3.11.6"
  }
 },
 "nbformat": 4,
 "nbformat_minor": 5
}
