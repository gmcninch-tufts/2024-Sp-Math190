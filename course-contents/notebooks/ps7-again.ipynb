{
 "cells": [
  {
   "cell_type": "code",
   "execution_count": 4,
   "id": "bbc593e3-12e6-46ee-b9de-6ad69260ea91",
   "metadata": {},
   "outputs": [
    {
     "data": {
      "text/plain": [
       "(T^5 + z2*T^4 + T^3 + T^2 + (z2 + 1)*T + 1,\n",
       " T^5 + (z2 + 1)*T^4 + T^3 + T^2 + z2*T + 1)"
      ]
     },
     "execution_count": 4,
     "metadata": {},
     "output_type": "execute_result"
    }
   ],
   "source": [
    "k = GF(4)\n",
    "R.<T> = PolynomialRing(k)\n",
    "\n",
    "f = T^11 - 1\n",
    "\n",
    "ff = f.factor()\n",
    "\n",
    "g,_ = ff[1]\n",
    "h,_ = ff[2]\n",
    "\n",
    "(g,h)"
   ]
  },
  {
   "cell_type": "code",
   "execution_count": 5,
   "id": "e4e49b6f-8c10-4499-a961-37ec417ae0bc",
   "metadata": {},
   "outputs": [
    {
     "data": {
      "text/plain": [
       "[5, 5]"
      ]
     },
     "execution_count": 5,
     "metadata": {},
     "output_type": "execute_result"
    }
   ],
   "source": [
    "V = VectorSpace(k,11)\n",
    "\n",
    "def pad(ll,n):\n",
    "    # pad the list ll with 0's to make it have length n\n",
    "    x = len(ll)\n",
    "    if x < n:\n",
    "        return ll + (n-x)*[0]\n",
    "    else:\n",
    "        return ll[0:n]\n",
    "\n",
    "def vectorize(p,n):\n",
    "    # make a vector of length n out of a polynomial\n",
    "    coeffs = p.coefficients(sparse=False)\n",
    "    return V(pad(coeffs,n))\n",
    "\n",
    "\n",
    "def mkCode(p):\n",
    "    # vectorize the polynomial T^i * p and use the  vectors as a basis for the code C\n",
    "    # I'm assuming deg p = 5...\n",
    "    return V.subspace([ vectorize( T^i * p, 11) for i in range(6) ])\n",
    "\n",
    "C1 = mkCode(g)\n",
    "C2 = mkCode(h)\n",
    "\n",
    "def weight(v):\n",
    "    r = [x for x in v if x != 0]\n",
    "    return len(r)\n",
    "\n",
    "def min_distance(D):\n",
    "    # brute-force computation of minimal distance of D\n",
    "    return min([ weight(v) for v in D if v != 0])\n",
    "\n",
    "[ min_distance(c) for c in [C1,C2]]"
   ]
  },
  {
   "cell_type": "code",
   "execution_count": null,
   "id": "7e10e4ed-871e-4410-b50c-636cb11bb98f",
   "metadata": {},
   "outputs": [],
   "source": []
  }
 ],
 "metadata": {
  "kernelspec": {
   "display_name": "Python 3 (ipykernel)",
   "language": "python",
   "name": "python3"
  },
  "language_info": {
   "codemirror_mode": {
    "name": "ipython",
    "version": 3
   },
   "file_extension": ".py",
   "mimetype": "text/x-python",
   "name": "python",
   "nbconvert_exporter": "python",
   "pygments_lexer": "ipython3",
   "version": "3.11.6"
  }
 },
 "nbformat": 4,
 "nbformat_minor": 5
}
