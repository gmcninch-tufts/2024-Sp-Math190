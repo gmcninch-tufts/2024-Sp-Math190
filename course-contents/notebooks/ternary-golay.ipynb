{
 "cells": [
  {
   "cell_type": "code",
   "execution_count": 1,
   "id": "f20e233b-3ffa-4bfa-a302-b11990230459",
   "metadata": {},
   "outputs": [],
   "source": [
    "k = GF(3)\n",
    "R.<T> = PolynomialRing(k)\n",
    "\n",
    "F = T^11 -1\n",
    "\n",
    "I = R.ideal([F])\n",
    "\n",
    "A= R.quotient(I)"
   ]
  },
  {
   "cell_type": "markdown",
   "id": "c634654c-2c9d-45a7-804e-0f8310a1f446",
   "metadata": {},
   "source": [
    "The smallest $j$ for which that $\\mathbb{F}_{3^j}$ contains a root of $f$ is $j=5$:"
   ]
  },
  {
   "cell_type": "code",
   "execution_count": 2,
   "id": "e66766ee-26df-4d6f-bbac-121257ef97a5",
   "metadata": {},
   "outputs": [
    {
     "data": {
      "text/plain": [
       "[(0, 0), (1, 2), (2, 8), (3, 4), (4, 3), (5, 0)]"
      ]
     },
     "execution_count": 2,
     "metadata": {},
     "output_type": "execute_result"
    }
   ],
   "source": [
    "[ (i,mod(3^i -1,11)) for i in range(6) ]"
   ]
  },
  {
   "cell_type": "markdown",
   "id": "a4b43dff-b1aa-4fab-814f-638a2024aee4",
   "metadata": {},
   "source": [
    "Now, the field $\\ell=\\mathbb{F}_{3^5}$ has multiplicative group of order $3^5 - 1 = 242$:"
   ]
  },
  {
   "cell_type": "code",
   "execution_count": 3,
   "id": "4c529dca-b965-4aba-af54-c50e9ba0e864",
   "metadata": {},
   "outputs": [
    {
     "data": {
      "text/plain": [
       "242"
      ]
     },
     "execution_count": 3,
     "metadata": {},
     "output_type": "execute_result"
    }
   ],
   "source": [
    "3^5 - 1"
   ]
  },
  {
   "cell_type": "markdown",
   "id": "24e62e0e-3a84-487f-a9f1-1109b474454d",
   "metadata": {},
   "source": [
    "Let's get a generator for the multiplicative group $\\ell^\\times = \\mathbb{F}_{3^5}^\\times$:"
   ]
  },
  {
   "cell_type": "code",
   "execution_count": 4,
   "id": "15301b8b-e7cd-47b5-93c1-2ec79a4b1830",
   "metadata": {},
   "outputs": [
    {
     "data": {
      "text/plain": [
       "True"
      ]
     },
     "execution_count": 4,
     "metadata": {},
     "output_type": "execute_result"
    }
   ],
   "source": [
    "l.<z> = GF(3^5)\n",
    "\n",
    "# let's make sure z is our desired generator:\n",
    "multiplicative_order(z) == 3^5 - 1"
   ]
  },
  {
   "cell_type": "markdown",
   "id": "5113d9bc-98d7-4e93-806f-5c131f1a7f1f",
   "metadata": {},
   "source": [
    "Using `z` we can find a primitive 11th root of unity in $\\ell$:"
   ]
  },
  {
   "cell_type": "code",
   "execution_count": 26,
   "id": "ad3202f5-6b42-4b3d-896a-698b58ab6087",
   "metadata": {},
   "outputs": [
    {
     "data": {
      "text/plain": [
       "True"
      ]
     },
     "execution_count": 26,
     "metadata": {},
     "output_type": "execute_result"
    }
   ],
   "source": [
    "a = z^((3^5-1)/11)\n",
    "\n",
    "# confirming...\n",
    "multiplicative_order(a) == 11"
   ]
  },
  {
   "cell_type": "markdown",
   "id": "67be2412-7a45-4c05-bca6-f25bfcc0ba70",
   "metadata": {},
   "source": [
    "Now, the minimal polynomial of `a` over $\\mathbb{F}_3$ must have degree 5. What are its roots?\n",
    "\n",
    "Well, if `a` is a root, also `a^3` is a root since the mapping $\\alpha \\mapsto \\alpha^3$ is in the Galois group of $\\mathbb{F}_{3^5}$ over $\\mathbb{F}_3$. Similary, `a^(3^i)` is a root for every natural number `i`.\n",
    "\n",
    "But of course `a^(3^5) = a` since 11 divides `3^5 -1`."
   ]
  },
  {
   "cell_type": "code",
   "execution_count": 6,
   "id": "f00026a3-1f6c-4142-ad17-aa46e05150e4",
   "metadata": {},
   "outputs": [
    {
     "data": {
      "text/plain": [
       "[('a^(3^0)=', 2*z^3 + 2*z^2 + z + 1),\n",
       " ('a^(3^1)=', z^4 + z^3 + 2*z^2 + 2),\n",
       " ('a^(3^2)=', z^3 + 2*z + 1),\n",
       " ('a^(3^3)=', 2*z^4 + 2*z^3 + z),\n",
       " ('a^(3^4)=', 2*z^2 + 2*z + 1)]"
      ]
     },
     "execution_count": 6,
     "metadata": {},
     "output_type": "execute_result"
    }
   ],
   "source": [
    "# let's display  the roots of the minimal polynomial of a:\n",
    "[( f\"a^(3^{i})=\" , a^(3^i) ) for i in range(5) ]"
   ]
  },
  {
   "cell_type": "code",
   "execution_count": 7,
   "id": "f86f3189-d8f5-49aa-906b-99f0d90b924f",
   "metadata": {},
   "outputs": [
    {
     "data": {
      "text/plain": [
       "T^5 + T^4 + 2*T^3 + T^2 + 2"
      ]
     },
     "execution_count": 7,
     "metadata": {},
     "output_type": "execute_result"
    }
   ],
   "source": [
    "# the monic minimal polynomial is the product of the linear factors corresponding to these roots. Namely\n",
    "\n",
    "g = product([T - a^(3^i) for i in range(5)])\n",
    "g"
   ]
  },
  {
   "cell_type": "markdown",
   "id": "4b356f70-5d70-42bd-880b-8ae1fe906e02",
   "metadata": {},
   "source": [
    "Note that this polynomial has coefficients in $\\mathbb{F}_3$!"
   ]
  },
  {
   "cell_type": "markdown",
   "id": "0142c97e-941b-4a5d-b669-7df034c4b439",
   "metadata": {},
   "source": [
    "In addition to the trivial root $1$, there are still another 5 roots to $T^{11} - 1$ in $\\ell = \\mathbb{F}_{3^5}$ to account for.\n",
    "\n",
    "Well, the roots of $T^{11} - 1$ in $\\ell$ are precisely the elements of the multiplicative subgroup $\\langle a \\rangle$.\n",
    "\n",
    "So what we really need is a good description of the roots of $f$.\n",
    "\n",
    "So we need to describe the set of exponents $1,3,3^2,3^3,3^4$ modulo $11$."
   ]
  },
  {
   "cell_type": "code",
   "execution_count": 8,
   "id": "b288fa79-521f-4f62-ae39-3b151439cde0",
   "metadata": {},
   "outputs": [
    {
     "data": {
      "text/plain": [
       "[1, 3, 9, 5, 4]"
      ]
     },
     "execution_count": 8,
     "metadata": {},
     "output_type": "execute_result"
    }
   ],
   "source": [
    "S1 = [ mod(3^i,11) for i in range(5) ]\n",
    "S1"
   ]
  },
  {
   "cell_type": "markdown",
   "id": "5f3a1d88-740b-4ed5-b98f-4ae1a6445eca",
   "metadata": {},
   "source": [
    "This shows that the roots of $f$ are exactly $a^i$ for $i$ in `S=[1, 3, 9, 5, 4]`\n",
    "\n",
    "The set `S` is called a *cyclotomic coset*.\n",
    "\n",
    "Note that $a^2$ is a root of $T^{11} - 1$ but is not a root of $f$. So we need to consider the cyclotomic coset containing 2, namely:"
   ]
  },
  {
   "cell_type": "code",
   "execution_count": 9,
   "id": "703bed95-a9e9-462b-a58c-108bdcc30a7f",
   "metadata": {},
   "outputs": [
    {
     "data": {
      "text/plain": [
       "[2, 6, 7, 10, 8]"
      ]
     },
     "execution_count": 9,
     "metadata": {},
     "output_type": "execute_result"
    }
   ],
   "source": [
    "S2 = [ mod(2*3^i,11) for i in range(5) ]\n",
    "S2"
   ]
  },
  {
   "cell_type": "markdown",
   "id": "c93df30f-cc74-4854-b2d9-c67bf62b89c9",
   "metadata": {},
   "source": [
    "The minimal polynomial $g$ of $a^2$ has roots $a^j$ for $j$ in [2, 6, 7, 10, 8]."
   ]
  },
  {
   "cell_type": "code",
   "execution_count": 10,
   "id": "bc3eb955-d39e-4df0-a320-da1ea7494120",
   "metadata": {},
   "outputs": [
    {
     "data": {
      "text/plain": [
       "T^5 + 2*T^3 + T^2 + 2*T + 2"
      ]
     },
     "execution_count": 10,
     "metadata": {},
     "output_type": "execute_result"
    }
   ],
   "source": [
    "h = product([T - a^j for j in S2])\n",
    "h"
   ]
  },
  {
   "cell_type": "markdown",
   "id": "693dea13-0edd-4a23-ad1a-18aa095881ff",
   "metadata": {},
   "source": [
    "Note that the `S1` and `S2` account for all but one of the roots of $T^{11}  -1$:"
   ]
  },
  {
   "cell_type": "code",
   "execution_count": 11,
   "id": "2ee3222d-1e79-4612-a8f3-2dee65d12194",
   "metadata": {},
   "outputs": [
    {
     "data": {
      "text/plain": [
       "True"
      ]
     },
     "execution_count": 11,
     "metadata": {},
     "output_type": "execute_result"
    }
   ],
   "source": [
    "set(S1 + S2) == set(range(1,11))"
   ]
  },
  {
   "cell_type": "markdown",
   "id": "9dba2199-5cea-4fa6-a413-ba7d5af81076",
   "metadata": {},
   "source": [
    "Since `g` and `fh` have no roots in common, their `gcd` is 1.\n",
    "\n",
    "Let's check that we have factored $T^{11} - 1$"
   ]
  },
  {
   "cell_type": "code",
   "execution_count": 12,
   "id": "ffce0aa3-19d2-43f8-bd51-3f1c02afb84b",
   "metadata": {},
   "outputs": [
    {
     "data": {
      "text/plain": [
       "True"
      ]
     },
     "execution_count": 12,
     "metadata": {},
     "output_type": "execute_result"
    }
   ],
   "source": [
    "(T-1)*g*h == T^11 -1"
   ]
  },
  {
   "cell_type": "code",
   "execution_count": 13,
   "id": "e76f75c4-8d4f-4e35-91cc-72db38ac8328",
   "metadata": {},
   "outputs": [
    {
     "data": {
      "text/plain": [
       "[False, False, True, True]"
      ]
     },
     "execution_count": 13,
     "metadata": {},
     "output_type": "execute_result"
    }
   ],
   "source": [
    "## as constructed, sage believes g and h to have coefficients in F_3^5, even though they\n",
    "## are really in F_3. We ask for versions of these polynomials whose coefficients are known to be in F_3:\n",
    "\n",
    "## coerce g and h into elements gg and hh of R = F_3[T]\n",
    "gg = R(g)  \n",
    "hh = R(h)  \n",
    "\n",
    "## note that g and h are reducible since they are in F_{3^5}[T], while gg and hh are irreducible\n",
    "\n",
    "[ p.is_irreducible() for p in [g,h,gg,hh] ]"
   ]
  },
  {
   "cell_type": "code",
   "execution_count": 24,
   "id": "76abf7d0-6677-4802-a88d-8e7fa04ea7a4",
   "metadata": {},
   "outputs": [
    {
     "data": {
      "text/plain": [
       "True"
      ]
     },
     "execution_count": 24,
     "metadata": {},
     "output_type": "execute_result"
    }
   ],
   "source": [
    "(T-1)*gg*hh == T^11 - 1"
   ]
  },
  {
   "cell_type": "markdown",
   "id": "6b7c1120-08a2-4ecd-adef-ad7901963079",
   "metadata": {},
   "source": [
    "Now, we can notice that `g` and `h` are related by:\n",
    "$h(T) = -T^5 g(1/T)$."
   ]
  },
  {
   "cell_type": "code",
   "execution_count": null,
   "id": "e7c5ab79-9be2-4e98-9915-220680db538e",
   "metadata": {},
   "outputs": [],
   "source": [
    "h == -T^5*g(T = 1/T)"
   ]
  },
  {
   "cell_type": "markdown",
   "id": "2ac93cfa-63b0-48c5-bd5b-56ed32be0df8",
   "metadata": {},
   "source": [
    "Since $\\deg g = \\deg h = 5$, the codes $C_1 = \\langle g \\rangle$ and $C_2 = \\langle h \\rangle$ are $[11,11-5]_3 = [11,6]_3$ codes."
   ]
  },
  {
   "cell_type": "markdown",
   "id": "48f121cd-edc9-49c9-811d-5e4ed2cf88f8",
   "metadata": {},
   "source": [
    "Let's compute their minimum distance.\n",
    "\n",
    "Using `sage` we can get the coefficients of a polynomial as follows:"
   ]
  },
  {
   "cell_type": "code",
   "execution_count": 29,
   "id": "809bc8d2-1aff-48e4-a4c7-f8a3625c2c11",
   "metadata": {},
   "outputs": [
    {
     "data": {
      "text/plain": [
       "[2, 0, 1, 2, 1, 1]"
      ]
     },
     "execution_count": 29,
     "metadata": {},
     "output_type": "execute_result"
    }
   ],
   "source": [
    "gg.coefficients(sparse=False)"
   ]
  },
  {
   "cell_type": "markdown",
   "id": "cfcb9912-0802-497a-9d34-6a3dc9b44d90",
   "metadata": {},
   "source": [
    "We'll use these coefficients to build the code as a vector space."
   ]
  },
  {
   "cell_type": "code",
   "execution_count": 27,
   "id": "ba4c66a0-96a5-47a5-b1f2-941462f9928f",
   "metadata": {},
   "outputs": [
    {
     "data": {
      "text/plain": [
       "Vector space of degree 11 and dimension 6 over Finite Field of size 3\n",
       "Basis matrix:\n",
       "[1 0 0 0 0 0 2 0 1 2 1]\n",
       "[0 1 0 0 0 0 1 2 2 2 1]\n",
       "[0 0 1 0 0 0 1 1 1 0 1]\n",
       "[0 0 0 1 0 0 1 1 0 2 2]\n",
       "[0 0 0 0 1 0 2 1 2 2 0]\n",
       "[0 0 0 0 0 1 0 2 1 2 2]"
      ]
     },
     "execution_count": 27,
     "metadata": {},
     "output_type": "execute_result"
    }
   ],
   "source": [
    "V = VectorSpace(k,11)\n",
    "#S = V.subspace([ (T^i * g).coefficients(sparse=False) for i in range(5) ])\n",
    "\n",
    "def pad(ll,n):\n",
    "    # pad the list ll with 0's to make it have length n\n",
    "    x = len(ll)\n",
    "    if x < n:\n",
    "        return ll + (n-x)*[0]\n",
    "    else:\n",
    "        return ll[0:n]\n",
    "\n",
    "def vectorize(p,n):\n",
    "    # make a vector of length n out of a polynomial\n",
    "    coeffs = p.coefficients(sparse=False)\n",
    "    return V(pad(coeffs,n))\n",
    "\n",
    "\n",
    "def mkCode(p):\n",
    "    # vectorize the polynomial T^i * p and use the  vectors as a basis for the code C\n",
    "    # I'm assuming deg p = 5...\n",
    "    return V.subspace([ vectorize( T^i * p, 11) for i in range(6) ])\n",
    "\n",
    "C1 = mkCode(gg)\n",
    "C2 = mkCode(hh)\n",
    "C1"
   ]
  },
  {
   "cell_type": "code",
   "execution_count": 21,
   "id": "c5350918-a0c2-46c3-9e6f-9d04b3a8bbb4",
   "metadata": {},
   "outputs": [
    {
     "data": {
      "text/plain": [
       "Vector space of degree 11 and dimension 6 over Finite Field of size 3\n",
       "Basis matrix:\n",
       "[1 0 0 0 0 0 2 2 1 2 0]\n",
       "[0 1 0 0 0 0 0 2 2 1 2]\n",
       "[0 0 1 0 0 0 2 2 0 1 1]\n",
       "[0 0 0 1 0 0 1 0 1 1 1]\n",
       "[0 0 0 0 1 0 1 2 2 2 1]\n",
       "[0 0 0 0 0 1 1 2 1 0 2]"
      ]
     },
     "execution_count": 21,
     "metadata": {},
     "output_type": "execute_result"
    }
   ],
   "source": [
    "C2"
   ]
  },
  {
   "cell_type": "code",
   "execution_count": 28,
   "id": "58db6d19-5e23-4375-9214-8c9bbc8f332a",
   "metadata": {},
   "outputs": [
    {
     "data": {
      "text/plain": [
       "[5, 5]"
      ]
     },
     "execution_count": 28,
     "metadata": {},
     "output_type": "execute_result"
    }
   ],
   "source": [
    "def weight(v):\n",
    "    r = [x for x in v if x != 0]\n",
    "    return len(r)\n",
    "\n",
    "def min_distance(D):\n",
    "    # brute-force computation of minimal distance of D\n",
    "    return min([ weight(v) for v in D if v != 0])\n",
    "\n",
    "[min_distance(C) for C in [C1,C2]]"
   ]
  },
  {
   "cell_type": "markdown",
   "id": "e1ec9a19-f530-4e87-a628-6ba7ed1c72fa",
   "metadata": {},
   "source": [
    "Thus `C` is an `[11,6,5]_3` code.\n",
    "\n",
    "We are going to explain why `C` is a *perfect* code. Recall that *perfect* means that `C` meets the *sphere-packing bound*.\n",
    "\n",
    "Recall that $$\\delta(m) = \\sum_{i=0}^m \\dbinom{n}{i} (q-1)^i$$\n",
    "\n",
    "The sphere-packing bound says that a `[n,k,d]_q` code satisfies\n",
    "\n",
    "$$|C| \\cdot \\delta(t) \\le q^n$$\n",
    "where $t = \\lfloor (d-1)/2 \\rfloor$.\n",
    "\n",
    "\n",
    "so that `C` is a perfect code provided that\n",
    "\n",
    "$$|C| \\cdot \\delta(t) = q^n.$$\n"
   ]
  },
  {
   "cell_type": "code",
   "execution_count": 15,
   "id": "03dc7568-51d5-4952-95e0-4aaee9905d7b",
   "metadata": {},
   "outputs": [
    {
     "data": {
      "text/plain": [
       "3^5"
      ]
     },
     "execution_count": 15,
     "metadata": {},
     "output_type": "execute_result"
    }
   ],
   "source": [
    "def delta(n,q,m):\n",
    "    return sum([ binomial(n,i)*(q-1)^i for i in range(m+1) ])\n",
    "\n",
    "t = floor((5-1)/2)\n",
    "\n",
    "delta(11,3,t).factor()"
   ]
  },
  {
   "cell_type": "code",
   "execution_count": 25,
   "id": "def80d4e-0212-4325-bd62-51beaacbc085",
   "metadata": {},
   "outputs": [
    {
     "data": {
      "text/plain": [
       "True"
      ]
     },
     "execution_count": 25,
     "metadata": {},
     "output_type": "execute_result"
    }
   ],
   "source": [
    "# the codes defined by g and by h are perfect\n",
    "\n",
    "3^6 * delta(11,3,t) == 3^11"
   ]
  },
  {
   "cell_type": "markdown",
   "id": "4a713bab-fc98-4eea-b4bd-1b2eb2e7f4fa",
   "metadata": {},
   "source": [
    "The main unsatisfying part of the above account is that we found the\n",
    "minimal distance of the codes via a brute force computation (we just\n",
    "made a list of the weights of the non-zero vector, and found the\n",
    "minimum of this list).\n",
    "\n",
    "A nicer is approach is as follows.\n",
    "\t\n",
    "Let $G$ be the generator matrix for (say) $C_1$."
   ]
  },
  {
   "cell_type": "code",
   "execution_count": 45,
   "id": "83f6e91d-8e03-45c8-9dd2-c6373f89fe4b",
   "metadata": {},
   "outputs": [
    {
     "data": {
      "text/plain": [
       "[2 0 1 2 1 1 0 0 0 0 0]\n",
       "[0 2 0 1 2 1 1 0 0 0 0]\n",
       "[0 0 2 0 1 2 1 1 0 0 0]\n",
       "[0 0 0 2 0 1 2 1 1 0 0]\n",
       "[0 0 0 0 2 0 1 2 1 1 0]\n",
       "[0 0 0 0 0 2 0 1 2 1 1]"
      ]
     },
     "execution_count": 45,
     "metadata": {},
     "output_type": "execute_result"
    }
   ],
   "source": [
    "G = MatrixSpace(k,6,11).matrix([ vectorize( T^i * g, 11) for i in range(6) ])\n",
    "G"
   ]
  },
  {
   "cell_type": "markdown",
   "id": "6929bbcf-236d-4f42-bab2-75e69a3cb28e",
   "metadata": {},
   "source": [
    "Now, adding a column of 1's to G determines a `[12,6]_3` code. which is *self-dual*."
   ]
  },
  {
   "cell_type": "code",
   "execution_count": 46,
   "id": "523b4573-57fb-4e88-8cbb-8e62b7322efe",
   "metadata": {},
   "outputs": [
    {
     "data": {
      "text/plain": [
       "[2 0 1 2 1 1 0 0 0 0 0 1]\n",
       "[0 2 0 1 2 1 1 0 0 0 0 1]\n",
       "[0 0 2 0 1 2 1 1 0 0 0 1]\n",
       "[0 0 0 2 0 1 2 1 1 0 0 1]\n",
       "[0 0 0 0 2 0 1 2 1 1 0 1]\n",
       "[0 0 0 0 0 2 0 1 2 1 1 1]"
      ]
     },
     "execution_count": 46,
     "metadata": {},
     "output_type": "execute_result"
    }
   ],
   "source": [
    "GG = MatrixSpace(k,6,12).matrix( [ list(row )+ [1] for row in G] )\n",
    "GG"
   ]
  },
  {
   "cell_type": "code",
   "execution_count": 47,
   "id": "83741278-c0f8-4963-a381-91b7251be571",
   "metadata": {},
   "outputs": [
    {
     "data": {
      "text/plain": [
       "[0 0 0 0 0 0]\n",
       "[0 0 0 0 0 0]\n",
       "[0 0 0 0 0 0]\n",
       "[0 0 0 0 0 0]\n",
       "[0 0 0 0 0 0]\n",
       "[0 0 0 0 0 0]"
      ]
     },
     "execution_count": 47,
     "metadata": {},
     "output_type": "execute_result"
    }
   ],
   "source": [
    "GG * GG.T"
   ]
  },
  {
   "cell_type": "markdown",
   "id": "524f576b-fa60-4287-9400-4375fccf7580",
   "metadata": {},
   "source": [
    "\n",
    "If `CC` denotes the code with generator matrix `GG`, then the computation `GG * GG.T` \n",
    "shows that `CC` is contained in the dual code `CC^perp`; since the dimension of `CC^perp`\n",
    "is 12-6 = 6, we conclude `CC = CC^perp`.\n",
    "\n",
    "Now we have\n",
    "\n",
    "**Lemma**  \n",
    "If $C$ is a self-dual code of length $n$ over the field $\\mathbb{F}_3$, then\n",
    "the weight of any codeword is a multiple of $3$.\n",
    "\t\n",
    "**Proof**  \n",
    "We first note that $1$ is the only non-zero square in $\\mathbb{F}_3$, since $1^2 = 2^2 = 1$.\n",
    "\n",
    "Let $\\mathbf{v} = (v_1,\\cdots,v_n) \\in V$ and let $J = \\{j \\mid v_j \\ne 0\\}$.\n",
    "\t\n",
    "Then $\\operatorname{weight}(\\mathbf{v}) = |J|$.\n",
    "\n",
    "Since $C$ is self-dual we have in particular\n",
    "$$\\langle \\mathbf{v} , \\mathbf{v} \\rangle = 0.$$\n",
    "\t\n",
    "Now notice that\n",
    "$$\\langle \\mathbf{v}, \\mathbf{v} \\rangle = \\sum_{j \\in J} (v_j)^2 = \\sum_{j \\in J} 1 = |J| \\pmod{3}.$$\n",
    "\t\n",
    "Thus we indeed find that $\\operatorname{weight}(\\mathbf{v}) = |J| \\equiv 0 \\pmod{3}$.\n",
    "\t"
   ]
  },
  {
   "cell_type": "code",
   "execution_count": 50,
   "id": "6d168cc0-cdc5-4430-9acd-a4ddebda076e",
   "metadata": {},
   "outputs": [
    {
     "data": {
      "text/plain": [
       "((0, 0, 0, 0, 0, 2, 0, 1, 2, 1, 1, 1), 6)"
      ]
     },
     "execution_count": 50,
     "metadata": {},
     "output_type": "execute_result"
    }
   ],
   "source": [
    "(GG[5],weight(GG[5]))"
   ]
  },
  {
   "cell_type": "code",
   "execution_count": null,
   "id": "3b775fde-fbc7-4883-98d3-aa9d6a6e9f33",
   "metadata": {},
   "outputs": [],
   "source": []
  }
 ],
 "metadata": {
  "kernelspec": {
   "display_name": "SageMath 10.2",
   "language": "sage",
   "name": "sagemath"
  },
  "language_info": {
   "codemirror_mode": {
    "name": "ipython",
    "version": 3
   },
   "file_extension": ".py",
   "mimetype": "text/x-python",
   "name": "python",
   "nbconvert_exporter": "python",
   "pygments_lexer": "ipython3",
   "version": "3.11.6"
  }
 },
 "nbformat": 4,
 "nbformat_minor": 5
}
