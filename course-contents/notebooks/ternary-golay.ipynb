{
 "cells": [
  {
   "cell_type": "code",
   "execution_count": 58,
   "id": "f20e233b-3ffa-4bfa-a302-b11990230459",
   "metadata": {},
   "outputs": [],
   "source": [
    "k = GF(3)\n",
    "R.<T> = PolynomialRing(k)\n",
    "\n",
    "F = T^11 -1\n",
    "\n",
    "I = R.ideal([F])\n",
    "\n",
    "A= R.quotient(I)"
   ]
  },
  {
   "cell_type": "markdown",
   "id": "c634654c-2c9d-45a7-804e-0f8310a1f446",
   "metadata": {},
   "source": [
    "The smallest $j$ for which that $\\mathbb{F}_{3^j}$ contains a root of $f$ is $j=5$:"
   ]
  },
  {
   "cell_type": "code",
   "execution_count": 14,
   "id": "e66766ee-26df-4d6f-bbac-121257ef97a5",
   "metadata": {},
   "outputs": [
    {
     "data": {
      "text/plain": [
       "[(0, 0), (1, 2), (2, 8), (3, 4), (4, 3), (5, 0)]"
      ]
     },
     "execution_count": 14,
     "metadata": {},
     "output_type": "execute_result"
    }
   ],
   "source": [
    "[ (i,mod(3^i -1,11)) for i in range(6) ]"
   ]
  },
  {
   "cell_type": "markdown",
   "id": "a4b43dff-b1aa-4fab-814f-638a2024aee4",
   "metadata": {},
   "source": [
    "Now, the field $\\ell=\\mathbb{F}_{3^5}$ has multiplicative group of order $3^5 - 1 = 242$:"
   ]
  },
  {
   "cell_type": "code",
   "execution_count": 17,
   "id": "4c529dca-b965-4aba-af54-c50e9ba0e864",
   "metadata": {},
   "outputs": [
    {
     "data": {
      "text/plain": [
       "242"
      ]
     },
     "execution_count": 17,
     "metadata": {},
     "output_type": "execute_result"
    }
   ],
   "source": [
    "3^5 - 1"
   ]
  },
  {
   "cell_type": "markdown",
   "id": "24e62e0e-3a84-487f-a9f1-1109b474454d",
   "metadata": {},
   "source": [
    "Let's get a generator for the multiplicative group $\\ell^\\times = \\mathbb{F}_{3^5}^\\times$:"
   ]
  },
  {
   "cell_type": "code",
   "execution_count": 24,
   "id": "15301b8b-e7cd-47b5-93c1-2ec79a4b1830",
   "metadata": {},
   "outputs": [
    {
     "data": {
      "text/plain": [
       "242"
      ]
     },
     "execution_count": 24,
     "metadata": {},
     "output_type": "execute_result"
    }
   ],
   "source": [
    "l.<z> = GF(3^5)\n",
    "multiplicative_order(z)"
   ]
  },
  {
   "cell_type": "markdown",
   "id": "5113d9bc-98d7-4e93-806f-5c131f1a7f1f",
   "metadata": {},
   "source": [
    "Using `z` we can find a primitive 11th root of unity in $\\ell$:"
   ]
  },
  {
   "cell_type": "code",
   "execution_count": 26,
   "id": "ad3202f5-6b42-4b3d-896a-698b58ab6087",
   "metadata": {},
   "outputs": [
    {
     "data": {
      "text/plain": [
       "11"
      ]
     },
     "execution_count": 26,
     "metadata": {},
     "output_type": "execute_result"
    }
   ],
   "source": [
    "a = z^(242/11)\n",
    "multiplicative_order(a)"
   ]
  },
  {
   "cell_type": "markdown",
   "id": "67be2412-7a45-4c05-bca6-f25bfcc0ba70",
   "metadata": {},
   "source": [
    "Now, the minimal polynomial of `a` over $\\mathbb{F}_3$ must have degree 5. What are its roots?\n",
    "\n",
    "Well, if `a` is a root, also `a^3` is a root. Similary, `a^(3^i)` is a root for every natural number `i`."
   ]
  },
  {
   "cell_type": "code",
   "execution_count": 57,
   "id": "f00026a3-1f6c-4142-ad17-aa46e05150e4",
   "metadata": {},
   "outputs": [
    {
     "data": {
      "text/plain": [
       "[('a^(3^0)', 2*z^3 + 2*z^2 + z + 1),\n",
       " ('a^(3^1)', z^4 + z^3 + 2*z^2 + 2),\n",
       " ('a^(3^2)', z^3 + 2*z + 1),\n",
       " ('a^(3^3)', 2*z^4 + 2*z^3 + z),\n",
       " ('a^(3^4)', 2*z^2 + 2*z + 1),\n",
       " ('a^(3^5)', 2*z^3 + 2*z^2 + z + 1)]"
      ]
     },
     "execution_count": 57,
     "metadata": {},
     "output_type": "execute_result"
    }
   ],
   "source": [
    "[( f\"a^(3^{i})\" , a^(3^i) ) for i in range(6)]"
   ]
  },
  {
   "cell_type": "code",
   "execution_count": 62,
   "id": "f86f3189-d8f5-49aa-906b-99f0d90b924f",
   "metadata": {},
   "outputs": [
    {
     "data": {
      "text/plain": [
       "T^5 + T^4 + 2*T^3 + T^2 + 2"
      ]
     },
     "execution_count": 62,
     "metadata": {},
     "output_type": "execute_result"
    }
   ],
   "source": [
    "# the monic minimal polynomial is the product of the linear factors corresponding to these roots. Namely\n",
    "\n",
    "g = product([T - a^(3^i) for i in range(5)])\n",
    "g"
   ]
  },
  {
   "cell_type": "markdown",
   "id": "4b356f70-5d70-42bd-880b-8ae1fe906e02",
   "metadata": {},
   "source": [
    "Note that this polynomial has coefficients in $\\mathbb{F}_3$!"
   ]
  },
  {
   "cell_type": "markdown",
   "id": "0142c97e-941b-4a5d-b669-7df034c4b439",
   "metadata": {},
   "source": [
    "In addition to the trivial root $1$, there are still another 5 roots to $T^{11} - 1$ in $\\ell = \\mathbb{F}_{3^5}$ to account for.\n",
    "\n",
    "Well, the roots of $T^{11} - 1$ in $\\ell$ are precisely the elements of the multiplicative subgroup $\\langle a \\rangle$.\n",
    "\n",
    "So what we really need is a good description of the roots of $f$.\n",
    "\n",
    "So we need to describe the set of exponents $1,3,3^2,3^3,3^4$ modulo $11$."
   ]
  },
  {
   "cell_type": "code",
   "execution_count": 35,
   "id": "b288fa79-521f-4f62-ae39-3b151439cde0",
   "metadata": {},
   "outputs": [
    {
     "data": {
      "text/plain": [
       "[1, 3, 9, 5, 4]"
      ]
     },
     "execution_count": 35,
     "metadata": {},
     "output_type": "execute_result"
    }
   ],
   "source": [
    "[ mod(3^i,11) for i in range(5) ]"
   ]
  },
  {
   "cell_type": "markdown",
   "id": "5f3a1d88-740b-4ed5-b98f-4ae1a6445eca",
   "metadata": {},
   "source": [
    "This shows that the roots of $f$ are exactly $a^i$ for $i$ in `S=[1, 3, 9, 5, 4]`\n",
    "\n",
    "The set `S` is called a *cyclotomic coset*.\n",
    "\n",
    "Note that $a^2$ is a root of $T^11 - 1$ but is not a root of $f$. So we need to consider the cyclotomic coset containing 2, namely:"
   ]
  },
  {
   "cell_type": "code",
   "execution_count": 37,
   "id": "703bed95-a9e9-462b-a58c-108bdcc30a7f",
   "metadata": {},
   "outputs": [
    {
     "data": {
      "text/plain": [
       "[2, 6, 7, 10, 8]"
      ]
     },
     "execution_count": 37,
     "metadata": {},
     "output_type": "execute_result"
    }
   ],
   "source": [
    "[ mod(2*3^i,11) for i in range(5) ]"
   ]
  },
  {
   "cell_type": "markdown",
   "id": "c93df30f-cc74-4854-b2d9-c67bf62b89c9",
   "metadata": {},
   "source": [
    "The minimal polynomial $g$ of $a^2$ has roots $a^j$ for $j$ in [2, 6, 7, 10, 8]."
   ]
  },
  {
   "cell_type": "code",
   "execution_count": 61,
   "id": "bc3eb955-d39e-4df0-a320-da1ea7494120",
   "metadata": {},
   "outputs": [
    {
     "data": {
      "text/plain": [
       "T^5 + 2*T^3 + T^2 + 2*T + 2"
      ]
     },
     "execution_count": 61,
     "metadata": {},
     "output_type": "execute_result"
    }
   ],
   "source": [
    "S1=[ mod(2*3^i,11) for i in range(5) ]\n",
    "h = product([T - a^j for j in S1])\n",
    "h"
   ]
  },
  {
   "cell_type": "markdown",
   "id": "9dba2199-5cea-4fa6-a413-ba7d5af81076",
   "metadata": {},
   "source": [
    "Since `g` and `fh have no roots in common, their `gcd` is 1.\n",
    "\n",
    "Let's check that we have factored $T^{11} - 1$"
   ]
  },
  {
   "cell_type": "code",
   "execution_count": 63,
   "id": "ffce0aa3-19d2-43f8-bd51-3f1c02afb84b",
   "metadata": {},
   "outputs": [
    {
     "data": {
      "text/plain": [
       "True"
      ]
     },
     "execution_count": 63,
     "metadata": {},
     "output_type": "execute_result"
    }
   ],
   "source": [
    "(T-1)*g*h == T^11 -1"
   ]
  },
  {
   "cell_type": "code",
   "execution_count": 44,
   "id": "fc365cee-3ccc-4ae1-889c-3e7a3b2245e6",
   "metadata": {},
   "outputs": [
    {
     "data": {
      "text/plain": [
       "Univariate Polynomial Ring in T over Finite Field in z of size 3^5"
      ]
     },
     "execution_count": 44,
     "metadata": {},
     "output_type": "execute_result"
    }
   ],
   "source": [
    "parent(f)"
   ]
  },
  {
   "cell_type": "code",
   "execution_count": 64,
   "id": "e76f75c4-8d4f-4e35-91cc-72db38ac8328",
   "metadata": {},
   "outputs": [
    {
     "data": {
      "text/plain": [
       "[True, True]"
      ]
     },
     "execution_count": 64,
     "metadata": {},
     "output_type": "execute_result"
    }
   ],
   "source": [
    "## as constructed, sage knows g and h to have coefficients in F_3^5, even though they\n",
    "## are really in F_3. We ask for versions whose coefficients are known to be in F_3:\n",
    "gg = R(g)\n",
    "hh = R(h)\n",
    "[ gg.is_irreducible(), hh.is_irreducible() ]"
   ]
  },
  {
   "cell_type": "code",
   "execution_count": 50,
   "id": "76abf7d0-6677-4802-a88d-8e7fa04ea7a4",
   "metadata": {},
   "outputs": [
    {
     "data": {
      "text/plain": [
       "True"
      ]
     },
     "execution_count": 50,
     "metadata": {},
     "output_type": "execute_result"
    }
   ],
   "source": [
    "(T-1)*ff*gg == T^11 - 1"
   ]
  },
  {
   "cell_type": "markdown",
   "id": "6b7c1120-08a2-4ecd-adef-ad7901963079",
   "metadata": {},
   "source": [
    "Now, let us notice that `g` and `h` are related by:\n",
    "$h(T) = -T^5 g(1/T)$."
   ]
  },
  {
   "cell_type": "code",
   "execution_count": 65,
   "id": "e7c5ab79-9be2-4e98-9915-220680db538e",
   "metadata": {},
   "outputs": [
    {
     "data": {
      "text/plain": [
       "True"
      ]
     },
     "execution_count": 65,
     "metadata": {},
     "output_type": "execute_result"
    }
   ],
   "source": [
    "h == -T^5*g(T = 1/T)"
   ]
  },
  {
   "cell_type": "markdown",
   "id": "2ac93cfa-63b0-48c5-bd5b-56ed32be0df8",
   "metadata": {},
   "source": [
    "Since $\\deg f = 5$, the code $C = \\langle f \\rangle$ is a $[11,11-5]_3 = [11,6]_3$ code."
   ]
  },
  {
   "cell_type": "markdown",
   "id": "48f121cd-edc9-49c9-811d-5e4ed2cf88f8",
   "metadata": {},
   "source": [
    "Let's compute its minimum distance.\n",
    "\n",
    "Using `sage` we can get the coefficients of a polynomial as follows:"
   ]
  },
  {
   "cell_type": "code",
   "execution_count": 67,
   "id": "809bc8d2-1aff-48e4-a4c7-f8a3625c2c11",
   "metadata": {},
   "outputs": [
    {
     "data": {
      "text/plain": [
       "[2, 0, 1, 2, 1, 1]"
      ]
     },
     "execution_count": 67,
     "metadata": {},
     "output_type": "execute_result"
    }
   ],
   "source": [
    "gg.coefficients(sparse=False)"
   ]
  },
  {
   "cell_type": "markdown",
   "id": "cfcb9912-0802-497a-9d34-6a3dc9b44d90",
   "metadata": {},
   "source": [
    "We'll use these coefficients to build the code as a vector space."
   ]
  },
  {
   "cell_type": "code",
   "execution_count": 74,
   "id": "ba4c66a0-96a5-47a5-b1f2-941462f9928f",
   "metadata": {},
   "outputs": [
    {
     "ename": "TypeError",
     "evalue": "each element of basis must be in the ambient vector space",
     "output_type": "error",
     "traceback": [
      "\u001b[0;31m---------------------------------------------------------------------------\u001b[0m",
      "\u001b[0;31mTypeError\u001b[0m                                 Traceback (most recent call last)",
      "File \u001b[0;32m~/miniforge3/envs/sage/lib/python3.11/site-packages/sage/modules/free_module.py:6513\u001b[0m, in \u001b[0;36mFreeModule_submodule_with_basis_pid.__init__\u001b[0;34m(self, ambient, basis, check, echelonize, echelonized_basis, already_echelonized, category)\u001b[0m\n\u001b[1;32m   6512\u001b[0m \u001b[38;5;28;01mtry\u001b[39;00m:\n\u001b[0;32m-> 6513\u001b[0m     basis \u001b[38;5;241m=\u001b[39m \u001b[43m[\u001b[49m\u001b[43mambient\u001b[49m\u001b[43m(\u001b[49m\u001b[43mx\u001b[49m\u001b[43m)\u001b[49m\u001b[43m \u001b[49m\u001b[38;5;28;43;01mfor\u001b[39;49;00m\u001b[43m \u001b[49m\u001b[43mx\u001b[49m\u001b[43m \u001b[49m\u001b[38;5;129;43;01min\u001b[39;49;00m\u001b[43m \u001b[49m\u001b[43mbasis\u001b[49m\u001b[43m]\u001b[49m\n\u001b[1;32m   6514\u001b[0m \u001b[38;5;28;01mexcept\u001b[39;00m \u001b[38;5;167;01mTypeError\u001b[39;00m:\n\u001b[1;32m   6515\u001b[0m     \u001b[38;5;66;03m# That failed, try the ambient vector space instead\u001b[39;00m\n",
      "File \u001b[0;32m~/miniforge3/envs/sage/lib/python3.11/site-packages/sage/modules/free_module.py:6513\u001b[0m, in \u001b[0;36m<listcomp>\u001b[0;34m(.0)\u001b[0m\n\u001b[1;32m   6512\u001b[0m \u001b[38;5;28;01mtry\u001b[39;00m:\n\u001b[0;32m-> 6513\u001b[0m     basis \u001b[38;5;241m=\u001b[39m [\u001b[43mambient\u001b[49m\u001b[43m(\u001b[49m\u001b[43mx\u001b[49m\u001b[43m)\u001b[49m \u001b[38;5;28;01mfor\u001b[39;00m x \u001b[38;5;129;01min\u001b[39;00m basis]\n\u001b[1;32m   6514\u001b[0m \u001b[38;5;28;01mexcept\u001b[39;00m \u001b[38;5;167;01mTypeError\u001b[39;00m:\n\u001b[1;32m   6515\u001b[0m     \u001b[38;5;66;03m# That failed, try the ambient vector space instead\u001b[39;00m\n",
      "File \u001b[0;32m~/miniforge3/envs/sage/lib/python3.11/site-packages/sage/structure/parent.pyx:901\u001b[0m, in \u001b[0;36msage.structure.parent.Parent.__call__ (build/cythonized/sage/structure/parent.c:12681)\u001b[0;34m()\u001b[0m\n\u001b[1;32m    900\u001b[0m if no_extra_args:\n\u001b[0;32m--> 901\u001b[0m     return mor._call_(x)\n\u001b[1;32m    902\u001b[0m else:\n",
      "File \u001b[0;32m~/miniforge3/envs/sage/lib/python3.11/site-packages/sage/structure/coerce_maps.pyx:163\u001b[0m, in \u001b[0;36msage.structure.coerce_maps.DefaultConvertMap_unique._call_ (build/cythonized/sage/structure/coerce_maps.c:6957)\u001b[0;34m()\u001b[0m\n\u001b[1;32m    162\u001b[0m     print(type(C._element_constructor), C._element_constructor)\n\u001b[0;32m--> 163\u001b[0m raise\n\u001b[1;32m    164\u001b[0m \n",
      "File \u001b[0;32m~/miniforge3/envs/sage/lib/python3.11/site-packages/sage/structure/coerce_maps.pyx:158\u001b[0m, in \u001b[0;36msage.structure.coerce_maps.DefaultConvertMap_unique._call_ (build/cythonized/sage/structure/coerce_maps.c:6849)\u001b[0;34m()\u001b[0m\n\u001b[1;32m    157\u001b[0m try:\n\u001b[0;32m--> 158\u001b[0m     return C._element_constructor(x)\n\u001b[1;32m    159\u001b[0m except Exception:\n",
      "File \u001b[0;32m~/miniforge3/envs/sage/lib/python3.11/site-packages/sage/modules/free_module.py:6380\u001b[0m, in \u001b[0;36mFreeModule_ambient_field._element_constructor_\u001b[0;34m(self, e, *args, **kwds)\u001b[0m\n\u001b[1;32m   6379\u001b[0m     \u001b[38;5;28;01mpass\u001b[39;00m\n\u001b[0;32m-> 6380\u001b[0m \u001b[38;5;28;01mreturn\u001b[39;00m \u001b[43mFreeModule_generic_field\u001b[49m\u001b[38;5;241;43m.\u001b[39;49m\u001b[43m_element_constructor_\u001b[49m\u001b[43m(\u001b[49m\u001b[38;5;28;43mself\u001b[39;49m\u001b[43m,\u001b[49m\u001b[43m \u001b[49m\u001b[43me\u001b[49m\u001b[43m,\u001b[49m\u001b[43m \u001b[49m\u001b[38;5;241;43m*\u001b[39;49m\u001b[43margs\u001b[49m\u001b[43m,\u001b[49m\u001b[43m \u001b[49m\u001b[38;5;241;43m*\u001b[39;49m\u001b[38;5;241;43m*\u001b[39;49m\u001b[43mkwds\u001b[49m\u001b[43m)\u001b[49m\n",
      "File \u001b[0;32m~/miniforge3/envs/sage/lib/python3.11/site-packages/sage/modules/free_module.py:2165\u001b[0m, in \u001b[0;36mFreeModule_generic._element_constructor_\u001b[0;34m(self, x, coerce, copy, check)\u001b[0m\n\u001b[1;32m   2164\u001b[0m \u001b[38;5;28;01mif\u001b[39;00m \u001b[38;5;28misinstance\u001b[39m(\u001b[38;5;28mself\u001b[39m, FreeModule_ambient):\n\u001b[0;32m-> 2165\u001b[0m     \u001b[38;5;28;01mreturn\u001b[39;00m \u001b[38;5;28;43mself\u001b[39;49m\u001b[38;5;241;43m.\u001b[39;49m\u001b[43melement_class\u001b[49m\u001b[43m(\u001b[49m\u001b[38;5;28;43mself\u001b[39;49m\u001b[43m,\u001b[49m\u001b[43m \u001b[49m\u001b[43mx\u001b[49m\u001b[43m,\u001b[49m\u001b[43m \u001b[49m\u001b[43mcoerce\u001b[49m\u001b[43m,\u001b[49m\u001b[43m \u001b[49m\u001b[43mcopy\u001b[49m\u001b[43m)\u001b[49m\n\u001b[1;32m   2166\u001b[0m \u001b[38;5;28;01mtry\u001b[39;00m:\n",
      "File \u001b[0;32m~/miniforge3/envs/sage/lib/python3.11/site-packages/sage/modules/vector_modn_dense.pyx:177\u001b[0m, in \u001b[0;36msage.modules.vector_modn_dense.Vector_modn_dense.__init__ (build/cythonized/sage/modules/vector_modn_dense.c:8597)\u001b[0;34m()\u001b[0m\n\u001b[1;32m    176\u001b[0m if len(x) != self._degree:\n\u001b[0;32m--> 177\u001b[0m     raise TypeError(\"x must be a list of the right length\")\n\u001b[1;32m    178\u001b[0m if coerce:\n",
      "\u001b[0;31mTypeError\u001b[0m: x must be a list of the right length",
      "\nDuring handling of the above exception, another exception occurred:\n",
      "\u001b[0;31mTypeError\u001b[0m                                 Traceback (most recent call last)",
      "File \u001b[0;32m~/miniforge3/envs/sage/lib/python3.11/site-packages/sage/modules/free_module.py:6519\u001b[0m, in \u001b[0;36mFreeModule_submodule_with_basis_pid.__init__\u001b[0;34m(self, ambient, basis, check, echelonize, echelonized_basis, already_echelonized, category)\u001b[0m\n\u001b[1;32m   6518\u001b[0m \u001b[38;5;28;01mtry\u001b[39;00m:\n\u001b[0;32m-> 6519\u001b[0m     basis \u001b[38;5;241m=\u001b[39m \u001b[43m[\u001b[49m\u001b[43mV\u001b[49m\u001b[43m(\u001b[49m\u001b[43mx\u001b[49m\u001b[43m)\u001b[49m\u001b[43m \u001b[49m\u001b[38;5;28;43;01mfor\u001b[39;49;00m\u001b[43m \u001b[49m\u001b[43mx\u001b[49m\u001b[43m \u001b[49m\u001b[38;5;129;43;01min\u001b[39;49;00m\u001b[43m \u001b[49m\u001b[43mbasis\u001b[49m\u001b[43m]\u001b[49m\n\u001b[1;32m   6520\u001b[0m \u001b[38;5;28;01mexcept\u001b[39;00m \u001b[38;5;167;01mTypeError\u001b[39;00m:\n",
      "File \u001b[0;32m~/miniforge3/envs/sage/lib/python3.11/site-packages/sage/modules/free_module.py:6519\u001b[0m, in \u001b[0;36m<listcomp>\u001b[0;34m(.0)\u001b[0m\n\u001b[1;32m   6518\u001b[0m \u001b[38;5;28;01mtry\u001b[39;00m:\n\u001b[0;32m-> 6519\u001b[0m     basis \u001b[38;5;241m=\u001b[39m [\u001b[43mV\u001b[49m\u001b[43m(\u001b[49m\u001b[43mx\u001b[49m\u001b[43m)\u001b[49m \u001b[38;5;28;01mfor\u001b[39;00m x \u001b[38;5;129;01min\u001b[39;00m basis]\n\u001b[1;32m   6520\u001b[0m \u001b[38;5;28;01mexcept\u001b[39;00m \u001b[38;5;167;01mTypeError\u001b[39;00m:\n",
      "File \u001b[0;32m~/miniforge3/envs/sage/lib/python3.11/site-packages/sage/structure/parent.pyx:901\u001b[0m, in \u001b[0;36msage.structure.parent.Parent.__call__ (build/cythonized/sage/structure/parent.c:12681)\u001b[0;34m()\u001b[0m\n\u001b[1;32m    900\u001b[0m if no_extra_args:\n\u001b[0;32m--> 901\u001b[0m     return mor._call_(x)\n\u001b[1;32m    902\u001b[0m else:\n",
      "File \u001b[0;32m~/miniforge3/envs/sage/lib/python3.11/site-packages/sage/structure/coerce_maps.pyx:163\u001b[0m, in \u001b[0;36msage.structure.coerce_maps.DefaultConvertMap_unique._call_ (build/cythonized/sage/structure/coerce_maps.c:6957)\u001b[0;34m()\u001b[0m\n\u001b[1;32m    162\u001b[0m     print(type(C._element_constructor), C._element_constructor)\n\u001b[0;32m--> 163\u001b[0m raise\n\u001b[1;32m    164\u001b[0m \n",
      "File \u001b[0;32m~/miniforge3/envs/sage/lib/python3.11/site-packages/sage/structure/coerce_maps.pyx:158\u001b[0m, in \u001b[0;36msage.structure.coerce_maps.DefaultConvertMap_unique._call_ (build/cythonized/sage/structure/coerce_maps.c:6849)\u001b[0;34m()\u001b[0m\n\u001b[1;32m    157\u001b[0m try:\n\u001b[0;32m--> 158\u001b[0m     return C._element_constructor(x)\n\u001b[1;32m    159\u001b[0m except Exception:\n",
      "File \u001b[0;32m~/miniforge3/envs/sage/lib/python3.11/site-packages/sage/modules/free_module.py:6380\u001b[0m, in \u001b[0;36mFreeModule_ambient_field._element_constructor_\u001b[0;34m(self, e, *args, **kwds)\u001b[0m\n\u001b[1;32m   6379\u001b[0m     \u001b[38;5;28;01mpass\u001b[39;00m\n\u001b[0;32m-> 6380\u001b[0m \u001b[38;5;28;01mreturn\u001b[39;00m \u001b[43mFreeModule_generic_field\u001b[49m\u001b[38;5;241;43m.\u001b[39;49m\u001b[43m_element_constructor_\u001b[49m\u001b[43m(\u001b[49m\u001b[38;5;28;43mself\u001b[39;49m\u001b[43m,\u001b[49m\u001b[43m \u001b[49m\u001b[43me\u001b[49m\u001b[43m,\u001b[49m\u001b[43m \u001b[49m\u001b[38;5;241;43m*\u001b[39;49m\u001b[43margs\u001b[49m\u001b[43m,\u001b[49m\u001b[43m \u001b[49m\u001b[38;5;241;43m*\u001b[39;49m\u001b[38;5;241;43m*\u001b[39;49m\u001b[43mkwds\u001b[49m\u001b[43m)\u001b[49m\n",
      "File \u001b[0;32m~/miniforge3/envs/sage/lib/python3.11/site-packages/sage/modules/free_module.py:2165\u001b[0m, in \u001b[0;36mFreeModule_generic._element_constructor_\u001b[0;34m(self, x, coerce, copy, check)\u001b[0m\n\u001b[1;32m   2164\u001b[0m \u001b[38;5;28;01mif\u001b[39;00m \u001b[38;5;28misinstance\u001b[39m(\u001b[38;5;28mself\u001b[39m, FreeModule_ambient):\n\u001b[0;32m-> 2165\u001b[0m     \u001b[38;5;28;01mreturn\u001b[39;00m \u001b[38;5;28;43mself\u001b[39;49m\u001b[38;5;241;43m.\u001b[39;49m\u001b[43melement_class\u001b[49m\u001b[43m(\u001b[49m\u001b[38;5;28;43mself\u001b[39;49m\u001b[43m,\u001b[49m\u001b[43m \u001b[49m\u001b[43mx\u001b[49m\u001b[43m,\u001b[49m\u001b[43m \u001b[49m\u001b[43mcoerce\u001b[49m\u001b[43m,\u001b[49m\u001b[43m \u001b[49m\u001b[43mcopy\u001b[49m\u001b[43m)\u001b[49m\n\u001b[1;32m   2166\u001b[0m \u001b[38;5;28;01mtry\u001b[39;00m:\n",
      "File \u001b[0;32m~/miniforge3/envs/sage/lib/python3.11/site-packages/sage/modules/vector_modn_dense.pyx:177\u001b[0m, in \u001b[0;36msage.modules.vector_modn_dense.Vector_modn_dense.__init__ (build/cythonized/sage/modules/vector_modn_dense.c:8597)\u001b[0;34m()\u001b[0m\n\u001b[1;32m    176\u001b[0m if len(x) != self._degree:\n\u001b[0;32m--> 177\u001b[0m     raise TypeError(\"x must be a list of the right length\")\n\u001b[1;32m    178\u001b[0m if coerce:\n",
      "\u001b[0;31mTypeError\u001b[0m: x must be a list of the right length",
      "\nDuring handling of the above exception, another exception occurred:\n",
      "\u001b[0;31mTypeError\u001b[0m                                 Traceback (most recent call last)",
      "Cell \u001b[0;32mIn[74], line 2\u001b[0m\n\u001b[1;32m      1\u001b[0m V \u001b[38;5;241m=\u001b[39m VectorSpace(k,Integer(\u001b[38;5;241m6\u001b[39m))\n\u001b[0;32m----> 2\u001b[0m S \u001b[38;5;241m=\u001b[39m \u001b[43mV\u001b[49m\u001b[38;5;241;43m.\u001b[39;49m\u001b[43msubspace\u001b[49m\u001b[43m(\u001b[49m\u001b[43m[\u001b[49m\u001b[43m \u001b[49m\u001b[43m(\u001b[49m\u001b[43mT\u001b[49m\u001b[38;5;241;43m*\u001b[39;49m\u001b[38;5;241;43m*\u001b[39;49m\u001b[43mi\u001b[49m\u001b[43m \u001b[49m\u001b[38;5;241;43m*\u001b[39;49m\u001b[43m \u001b[49m\u001b[43mg\u001b[49m\u001b[43m)\u001b[49m\u001b[38;5;241;43m.\u001b[39;49m\u001b[43mcoefficients\u001b[49m\u001b[43m(\u001b[49m\u001b[43msparse\u001b[49m\u001b[38;5;241;43m=\u001b[39;49m\u001b[38;5;28;43;01mFalse\u001b[39;49;00m\u001b[43m)\u001b[49m\u001b[43m \u001b[49m\u001b[38;5;28;43;01mfor\u001b[39;49;00m\u001b[43m \u001b[49m\u001b[43mi\u001b[49m\u001b[43m \u001b[49m\u001b[38;5;129;43;01min\u001b[39;49;00m\u001b[43m \u001b[49m\u001b[38;5;28;43mrange\u001b[39;49m\u001b[43m(\u001b[49m\u001b[43mInteger\u001b[49m\u001b[43m(\u001b[49m\u001b[38;5;241;43m5\u001b[39;49m\u001b[43m)\u001b[49m\u001b[43m)\u001b[49m\u001b[43m \u001b[49m\u001b[43m]\u001b[49m\u001b[43m)\u001b[49m\n",
      "File \u001b[0;32m~/miniforge3/envs/sage/lib/python3.11/site-packages/sage/modules/free_module.py:4688\u001b[0m, in \u001b[0;36mFreeModule_generic_field.subspace\u001b[0;34m(self, gens, check, already_echelonized)\u001b[0m\n\u001b[1;32m   4645\u001b[0m \u001b[38;5;28;01mdef\u001b[39;00m \u001b[38;5;21msubspace\u001b[39m(\u001b[38;5;28mself\u001b[39m, gens, check\u001b[38;5;241m=\u001b[39m\u001b[38;5;28;01mTrue\u001b[39;00m, already_echelonized\u001b[38;5;241m=\u001b[39m\u001b[38;5;28;01mFalse\u001b[39;00m):\n\u001b[1;32m   4646\u001b[0m \u001b[38;5;250m    \u001b[39m\u001b[38;5;124;03m\"\"\"\u001b[39;00m\n\u001b[1;32m   4647\u001b[0m \u001b[38;5;124;03m    Return the subspace of ``self`` spanned by the elements of gens.\u001b[39;00m\n\u001b[1;32m   4648\u001b[0m \n\u001b[0;32m   (...)\u001b[0m\n\u001b[1;32m   4686\u001b[0m \u001b[38;5;124;03m        ArithmeticError: argument gens (= [[1, 1, 0]]) does not generate a submodule of self\u001b[39;00m\n\u001b[1;32m   4687\u001b[0m \u001b[38;5;124;03m    \"\"\"\u001b[39;00m\n\u001b[0;32m-> 4688\u001b[0m     \u001b[38;5;28;01mreturn\u001b[39;00m \u001b[38;5;28;43mself\u001b[39;49m\u001b[38;5;241;43m.\u001b[39;49m\u001b[43msubmodule\u001b[49m\u001b[43m(\u001b[49m\u001b[43mgens\u001b[49m\u001b[43m,\u001b[49m\u001b[43m \u001b[49m\u001b[43mcheck\u001b[49m\u001b[38;5;241;43m=\u001b[39;49m\u001b[43mcheck\u001b[49m\u001b[43m,\u001b[49m\u001b[43m \u001b[49m\u001b[43malready_echelonized\u001b[49m\u001b[38;5;241;43m=\u001b[39;49m\u001b[43malready_echelonized\u001b[49m\u001b[43m)\u001b[49m\n",
      "File \u001b[0;32m~/miniforge3/envs/sage/lib/python3.11/site-packages/sage/modules/free_module.py:1749\u001b[0m, in \u001b[0;36mModule_free_ambient.submodule\u001b[0;34m(self, gens, check, already_echelonized)\u001b[0m\n\u001b[1;32m   1747\u001b[0m \u001b[38;5;28;01mif\u001b[39;00m \u001b[38;5;28misinstance\u001b[39m(gens, Module_free_ambient):\n\u001b[1;32m   1748\u001b[0m     gens \u001b[38;5;241m=\u001b[39m gens\u001b[38;5;241m.\u001b[39mgens()\n\u001b[0;32m-> 1749\u001b[0m V \u001b[38;5;241m=\u001b[39m \u001b[38;5;28;43mself\u001b[39;49m\u001b[38;5;241;43m.\u001b[39;49m\u001b[43mspan\u001b[49m\u001b[43m(\u001b[49m\u001b[43mgens\u001b[49m\u001b[43m,\u001b[49m\u001b[43m \u001b[49m\u001b[43mcheck\u001b[49m\u001b[38;5;241;43m=\u001b[39;49m\u001b[43mcheck\u001b[49m\u001b[43m,\u001b[49m\u001b[43m \u001b[49m\u001b[43malready_echelonized\u001b[49m\u001b[38;5;241;43m=\u001b[39;49m\u001b[43malready_echelonized\u001b[49m\u001b[43m)\u001b[49m\n\u001b[1;32m   1750\u001b[0m \u001b[38;5;28;01mif\u001b[39;00m check:\n\u001b[1;32m   1751\u001b[0m     \u001b[38;5;28;01mif\u001b[39;00m \u001b[38;5;129;01mnot\u001b[39;00m V\u001b[38;5;241m.\u001b[39mis_submodule(\u001b[38;5;28mself\u001b[39m):\n",
      "File \u001b[0;32m~/miniforge3/envs/sage/lib/python3.11/site-packages/sage/modules/free_module.py:1664\u001b[0m, in \u001b[0;36mModule_free_ambient.span\u001b[0;34m(self, gens, base_ring, check, already_echelonized)\u001b[0m\n\u001b[1;32m   1662\u001b[0m     gens \u001b[38;5;241m=\u001b[39m gens\u001b[38;5;241m.\u001b[39mgens()\n\u001b[1;32m   1663\u001b[0m \u001b[38;5;28;01mif\u001b[39;00m base_ring \u001b[38;5;129;01mis\u001b[39;00m \u001b[38;5;28;01mNone\u001b[39;00m \u001b[38;5;129;01mor\u001b[39;00m base_ring \u001b[38;5;129;01mis\u001b[39;00m \u001b[38;5;28mself\u001b[39m\u001b[38;5;241m.\u001b[39mbase_ring():\n\u001b[0;32m-> 1664\u001b[0m     \u001b[38;5;28;01mreturn\u001b[39;00m \u001b[38;5;28;43mself\u001b[39;49m\u001b[38;5;241;43m.\u001b[39;49m\u001b[43m_submodule_class\u001b[49m\u001b[43m(\u001b[49m\u001b[38;5;28;43mself\u001b[39;49m\u001b[38;5;241;43m.\u001b[39;49m\u001b[43mambient_module\u001b[49m\u001b[43m(\u001b[49m\u001b[43m)\u001b[49m\u001b[43m,\u001b[49m\u001b[43m \u001b[49m\u001b[43mgens\u001b[49m\u001b[43m,\u001b[49m\u001b[43m \u001b[49m\u001b[43mcheck\u001b[49m\u001b[38;5;241;43m=\u001b[39;49m\u001b[43mcheck\u001b[49m\u001b[43m,\u001b[49m\u001b[43m \u001b[49m\u001b[43malready_echelonized\u001b[49m\u001b[38;5;241;43m=\u001b[39;49m\u001b[43malready_echelonized\u001b[49m\u001b[43m)\u001b[49m\n\u001b[1;32m   1666\u001b[0m \u001b[38;5;66;03m# The base ring has changed\u001b[39;00m\n\u001b[1;32m   1667\u001b[0m \u001b[38;5;28;01mtry\u001b[39;00m:\n",
      "File \u001b[0;32m~/miniforge3/envs/sage/lib/python3.11/site-packages/sage/modules/free_module.py:7940\u001b[0m, in \u001b[0;36mFreeModule_submodule_field.__init__\u001b[0;34m(self, ambient, gens, check, already_echelonized, category)\u001b[0m\n\u001b[1;32m   7938\u001b[0m \u001b[38;5;28;01mif\u001b[39;00m is_FreeModule(gens):\n\u001b[1;32m   7939\u001b[0m     gens \u001b[38;5;241m=\u001b[39m gens\u001b[38;5;241m.\u001b[39mgens()\n\u001b[0;32m-> 7940\u001b[0m \u001b[43mFreeModule_submodule_with_basis_field\u001b[49m\u001b[38;5;241;43m.\u001b[39;49m\u001b[38;5;21;43m__init__\u001b[39;49m\u001b[43m(\u001b[49m\u001b[38;5;28;43mself\u001b[39;49m\u001b[43m,\u001b[49m\u001b[43m \u001b[49m\u001b[43mambient\u001b[49m\u001b[43m,\u001b[49m\u001b[43m \u001b[49m\u001b[43mbasis\u001b[49m\u001b[38;5;241;43m=\u001b[39;49m\u001b[43mgens\u001b[49m\u001b[43m,\u001b[49m\u001b[43m \u001b[49m\u001b[43mcheck\u001b[49m\u001b[38;5;241;43m=\u001b[39;49m\u001b[43mcheck\u001b[49m\u001b[43m,\u001b[49m\n\u001b[1;32m   7941\u001b[0m \u001b[43m    \u001b[49m\u001b[43mechelonize\u001b[49m\u001b[38;5;241;43m=\u001b[39;49m\u001b[38;5;129;43;01mnot\u001b[39;49;00m\u001b[43m \u001b[49m\u001b[43malready_echelonized\u001b[49m\u001b[43m,\u001b[49m\u001b[43m \u001b[49m\u001b[43malready_echelonized\u001b[49m\u001b[38;5;241;43m=\u001b[39;49m\u001b[43malready_echelonized\u001b[49m\u001b[43m,\u001b[49m\n\u001b[1;32m   7942\u001b[0m \u001b[43m    \u001b[49m\u001b[43mcategory\u001b[49m\u001b[38;5;241;43m=\u001b[39;49m\u001b[43mcategory\u001b[49m\u001b[43m)\u001b[49m\n",
      "File \u001b[0;32m~/miniforge3/envs/sage/lib/python3.11/site-packages/sage/modules/free_module.py:7740\u001b[0m, in \u001b[0;36mFreeModule_submodule_with_basis_field.__init__\u001b[0;34m(self, ambient, basis, check, echelonize, echelonized_basis, already_echelonized, category)\u001b[0m\n\u001b[1;32m   7724\u001b[0m \u001b[38;5;28;01mdef\u001b[39;00m \u001b[38;5;21m__init__\u001b[39m(\u001b[38;5;28mself\u001b[39m, ambient, basis, check\u001b[38;5;241m=\u001b[39m\u001b[38;5;28;01mTrue\u001b[39;00m,\n\u001b[1;32m   7725\u001b[0m     echelonize\u001b[38;5;241m=\u001b[39m\u001b[38;5;28;01mFalse\u001b[39;00m, echelonized_basis\u001b[38;5;241m=\u001b[39m\u001b[38;5;28;01mNone\u001b[39;00m, already_echelonized\u001b[38;5;241m=\u001b[39m\u001b[38;5;28;01mFalse\u001b[39;00m,\n\u001b[1;32m   7726\u001b[0m     category\u001b[38;5;241m=\u001b[39m\u001b[38;5;28;01mNone\u001b[39;00m):\n\u001b[1;32m   7727\u001b[0m \u001b[38;5;250m    \u001b[39m\u001b[38;5;124;03m\"\"\"\u001b[39;00m\n\u001b[1;32m   7728\u001b[0m \u001b[38;5;124;03m    Create a vector space with given basis.\u001b[39;00m\n\u001b[1;32m   7729\u001b[0m \n\u001b[0;32m   (...)\u001b[0m\n\u001b[1;32m   7738\u001b[0m \u001b[38;5;124;03m        [4 5 6]\u001b[39;00m\n\u001b[1;32m   7739\u001b[0m \u001b[38;5;124;03m    \"\"\"\u001b[39;00m\n\u001b[0;32m-> 7740\u001b[0m     \u001b[43mFreeModule_submodule_with_basis_pid\u001b[49m\u001b[38;5;241;43m.\u001b[39;49m\u001b[38;5;21;43m__init__\u001b[39;49m\u001b[43m(\u001b[49m\n\u001b[1;32m   7741\u001b[0m \u001b[43m        \u001b[49m\u001b[38;5;28;43mself\u001b[39;49m\u001b[43m,\u001b[49m\u001b[43m \u001b[49m\u001b[43mambient\u001b[49m\u001b[43m,\u001b[49m\u001b[43m \u001b[49m\u001b[43mbasis\u001b[49m\u001b[38;5;241;43m=\u001b[39;49m\u001b[43mbasis\u001b[49m\u001b[43m,\u001b[49m\u001b[43m \u001b[49m\u001b[43mcheck\u001b[49m\u001b[38;5;241;43m=\u001b[39;49m\u001b[43mcheck\u001b[49m\u001b[43m,\u001b[49m\u001b[43m \u001b[49m\u001b[43mechelonize\u001b[49m\u001b[38;5;241;43m=\u001b[39;49m\u001b[43mechelonize\u001b[49m\u001b[43m,\u001b[49m\n\u001b[1;32m   7742\u001b[0m \u001b[43m        \u001b[49m\u001b[43mechelonized_basis\u001b[49m\u001b[38;5;241;43m=\u001b[39;49m\u001b[43mechelonized_basis\u001b[49m\u001b[43m,\u001b[49m\u001b[43m \u001b[49m\u001b[43malready_echelonized\u001b[49m\u001b[38;5;241;43m=\u001b[39;49m\u001b[43malready_echelonized\u001b[49m\u001b[43m,\u001b[49m\n\u001b[1;32m   7743\u001b[0m \u001b[43m        \u001b[49m\u001b[43mcategory\u001b[49m\u001b[38;5;241;43m=\u001b[39;49m\u001b[43mcategory\u001b[49m\u001b[43m)\u001b[49m\n",
      "File \u001b[0;32m~/miniforge3/envs/sage/lib/python3.11/site-packages/sage/modules/free_module.py:6521\u001b[0m, in \u001b[0;36mFreeModule_submodule_with_basis_pid.__init__\u001b[0;34m(self, ambient, basis, check, echelonize, echelonized_basis, already_echelonized, category)\u001b[0m\n\u001b[1;32m   6519\u001b[0m         basis \u001b[38;5;241m=\u001b[39m [V(x) \u001b[38;5;28;01mfor\u001b[39;00m x \u001b[38;5;129;01min\u001b[39;00m basis]\n\u001b[1;32m   6520\u001b[0m     \u001b[38;5;28;01mexcept\u001b[39;00m \u001b[38;5;167;01mTypeError\u001b[39;00m:\n\u001b[0;32m-> 6521\u001b[0m         \u001b[38;5;28;01mraise\u001b[39;00m \u001b[38;5;167;01mTypeError\u001b[39;00m(\u001b[38;5;124m\"\u001b[39m\u001b[38;5;124meach element of basis must be in \u001b[39m\u001b[38;5;124m\"\u001b[39m\n\u001b[1;32m   6522\u001b[0m                         \u001b[38;5;124m\"\u001b[39m\u001b[38;5;124mthe ambient vector space\u001b[39m\u001b[38;5;124m\"\u001b[39m)\n\u001b[1;32m   6524\u001b[0m \u001b[38;5;28;01mif\u001b[39;00m echelonize \u001b[38;5;129;01mand\u001b[39;00m \u001b[38;5;129;01mnot\u001b[39;00m already_echelonized:\n\u001b[1;32m   6525\u001b[0m     basis \u001b[38;5;241m=\u001b[39m \u001b[38;5;28mself\u001b[39m\u001b[38;5;241m.\u001b[39m_echelonized_basis(ambient, basis)\n",
      "\u001b[0;31mTypeError\u001b[0m: each element of basis must be in the ambient vector space"
     ]
    }
   ],
   "source": [
    "V = VectorSpace(k,6)\n",
    "S = V.subspace([ (T^i * g).coefficients(sparse=False) for i in range(5) ])"
   ]
  },
  {
   "cell_type": "code",
   "execution_count": null,
   "id": "58db6d19-5e23-4375-9214-8c9bbc8f332a",
   "metadata": {},
   "outputs": [],
   "source": []
  }
 ],
 "metadata": {
  "kernelspec": {
   "display_name": "SageMath 10.2",
   "language": "sage",
   "name": "sagemath"
  },
  "language_info": {
   "codemirror_mode": {
    "name": "ipython",
    "version": 3
   },
   "file_extension": ".py",
   "mimetype": "text/x-python",
   "name": "python",
   "nbconvert_exporter": "python",
   "pygments_lexer": "ipython3",
   "version": "3.11.6"
  }
 },
 "nbformat": 4,
 "nbformat_minor": 5
}
