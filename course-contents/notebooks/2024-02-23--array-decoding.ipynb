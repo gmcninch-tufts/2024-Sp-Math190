{
 "cells": [
  {
   "cell_type": "markdown",
   "id": "9b87146b-aaa9-438b-b657-a430cf28f16d",
   "metadata": {},
   "source": [
    "Let's create a $[5,2,3]_3$ code."
   ]
  },
  {
   "cell_type": "code",
   "execution_count": 58,
   "id": "bf7044d3-bbb7-4acd-b0fb-bf569ece0551",
   "metadata": {},
   "outputs": [
    {
     "data": {
      "text/plain": [
       "3"
      ]
     },
     "execution_count": 58,
     "metadata": {},
     "output_type": "execute_result"
    }
   ],
   "source": [
    "K = GF(3);\n",
    "V = VectorSpace(K,5)\n",
    "\n",
    "C= V.subspace([V([1,0,1,1,0]),\n",
    "               V([0,1,1,0,1])])\n",
    "\n",
    "W = V.subspace([V([0,0,1,0,0]),\n",
    "                V([0,0,0,1,0]),\n",
    "                V([0,0,0,0,1])])\n",
    "\n",
    "def weight(v):\n",
    "    r = [x for x in v if x != 0]\n",
    "    return len(r)\n",
    "\n",
    "min([ weight(v) for v in C if v != 0])"
   ]
  },
  {
   "cell_type": "code",
   "execution_count": 49,
   "id": "a53b2a8e-5067-437e-a740-ecc89e963869",
   "metadata": {},
   "outputs": [],
   "source": [
    "# build the coset of C with representative v, and sort the vectors in order of\n",
    "# increasing weight\n",
    "\n",
    "def coset(v):\n",
    "    c =  [ v + c for c in C ]\n",
    "    c.sort(key = lambda x: weight(x))\n",
    "    return list(c)"
   ]
  },
  {
   "cell_type": "markdown",
   "id": "67d4d0f1-5f9a-468b-8e02-2c5ef14b68f9",
   "metadata": {},
   "source": [
    "We build the *array* whose rows are the cosets of `C`. \n",
    "\n",
    "Notice that vectors in `W` provide a full set of coset representatives."
   ]
  },
  {
   "cell_type": "code",
   "execution_count": 74,
   "id": "fb7fda9f-767e-40d4-93e6-ea1d9146e2b0",
   "metadata": {},
   "outputs": [],
   "source": [
    "lookup = [ coset(w) for w in W ]\n"
   ]
  },
  {
   "cell_type": "markdown",
   "id": "e6d6d0e8-691a-474e-a90b-da069afce532",
   "metadata": {},
   "source": [
    "In order to decode the vector `v`, we find the coset `c` containing `v`, and return\n",
    "`v - c[0]`."
   ]
  },
  {
   "cell_type": "code",
   "execution_count": 71,
   "id": "6b2603ca-773c-4842-ac4b-8dcb0bf01073",
   "metadata": {},
   "outputs": [],
   "source": [
    "def decode(w):\n",
    "    c = [x for x in lookup if w in x ][0]\n",
    "    return w - c[0]"
   ]
  },
  {
   "cell_type": "code",
   "execution_count": 76,
   "id": "e5807ef0-9cea-4fec-84a6-8b59d7890cd7",
   "metadata": {},
   "outputs": [
    {
     "data": {
      "text/plain": [
       "[((0, 0, 0, 0, 0), True),\n",
       " ((1, 0, 1, 1, 0), True),\n",
       " ((2, 0, 2, 2, 0), True),\n",
       " ((0, 1, 1, 0, 1), True),\n",
       " ((1, 1, 2, 1, 1), True),\n",
       " ((2, 1, 0, 2, 1), True),\n",
       " ((0, 2, 2, 0, 2), True),\n",
       " ((1, 2, 0, 1, 2), True),\n",
       " ((2, 2, 1, 2, 2), True)]"
      ]
     },
     "execution_count": 76,
     "metadata": {},
     "output_type": "execute_result"
    }
   ],
   "source": [
    "[ (c,c==decode(c)) for c in C ]\n"
   ]
  },
  {
   "cell_type": "markdown",
   "id": "48858715-1f56-41e0-8f42-444c775d25c4",
   "metadata": {},
   "source": [
    "We should be able to correct `(d-1)/2 = (3-1)/2 = 1` error."
   ]
  },
  {
   "cell_type": "code",
   "execution_count": 75,
   "id": "db683153-2c55-40f1-a562-9ba2bbbe8265",
   "metadata": {},
   "outputs": [
    {
     "data": {
      "text/plain": [
       "[((1, 0, 0, 0, 0),\n",
       "  [((1, 0, 0, 0, 0), (0, 0, 0, 0, 0), True),\n",
       "   ((2, 0, 1, 1, 0), (1, 0, 1, 1, 0), True),\n",
       "   ((0, 0, 2, 2, 0), (2, 0, 2, 2, 0), True),\n",
       "   ((1, 1, 1, 0, 1), (0, 1, 1, 0, 1), True),\n",
       "   ((2, 1, 2, 1, 1), (1, 1, 2, 1, 1), True),\n",
       "   ((0, 1, 0, 2, 1), (2, 1, 0, 2, 1), True),\n",
       "   ((1, 2, 2, 0, 2), (0, 2, 2, 0, 2), True),\n",
       "   ((2, 2, 0, 1, 2), (1, 2, 0, 1, 2), True),\n",
       "   ((0, 2, 1, 2, 2), (2, 2, 1, 2, 2), True)]),\n",
       " ((0, 1, 0, 0, 0),\n",
       "  [((0, 1, 0, 0, 0), (0, 0, 0, 0, 0), True),\n",
       "   ((1, 1, 1, 1, 0), (1, 0, 1, 1, 0), True),\n",
       "   ((2, 1, 2, 2, 0), (2, 0, 2, 2, 0), True),\n",
       "   ((0, 2, 1, 0, 1), (0, 1, 1, 0, 1), True),\n",
       "   ((1, 2, 2, 1, 1), (1, 1, 2, 1, 1), True),\n",
       "   ((2, 2, 0, 2, 1), (2, 1, 0, 2, 1), True),\n",
       "   ((0, 0, 2, 0, 2), (0, 2, 2, 0, 2), True),\n",
       "   ((1, 0, 0, 1, 2), (1, 2, 0, 1, 2), True),\n",
       "   ((2, 0, 1, 2, 2), (2, 2, 1, 2, 2), True)]),\n",
       " ((0, 0, 1, 0, 0),\n",
       "  [((0, 0, 1, 0, 0), (0, 0, 0, 0, 0), True),\n",
       "   ((1, 0, 2, 1, 0), (1, 0, 1, 1, 0), True),\n",
       "   ((2, 0, 0, 2, 0), (2, 0, 2, 2, 0), True),\n",
       "   ((0, 1, 2, 0, 1), (0, 1, 1, 0, 1), True),\n",
       "   ((1, 1, 0, 1, 1), (1, 1, 2, 1, 1), True),\n",
       "   ((2, 1, 1, 2, 1), (2, 1, 0, 2, 1), True),\n",
       "   ((0, 2, 0, 0, 2), (0, 2, 2, 0, 2), True),\n",
       "   ((1, 2, 1, 1, 2), (1, 2, 0, 1, 2), True),\n",
       "   ((2, 2, 2, 2, 2), (2, 2, 1, 2, 2), True)]),\n",
       " ((0, 0, 0, 1, 0),\n",
       "  [((0, 0, 0, 1, 0), (0, 0, 0, 0, 0), True),\n",
       "   ((1, 0, 1, 2, 0), (1, 0, 1, 1, 0), True),\n",
       "   ((2, 0, 2, 0, 0), (2, 0, 2, 2, 0), True),\n",
       "   ((0, 1, 1, 1, 1), (0, 1, 1, 0, 1), True),\n",
       "   ((1, 1, 2, 2, 1), (1, 1, 2, 1, 1), True),\n",
       "   ((2, 1, 0, 0, 1), (2, 1, 0, 2, 1), True),\n",
       "   ((0, 2, 2, 1, 2), (0, 2, 2, 0, 2), True),\n",
       "   ((1, 2, 0, 2, 2), (1, 2, 0, 1, 2), True),\n",
       "   ((2, 2, 1, 0, 2), (2, 2, 1, 2, 2), True)]),\n",
       " ((0, 0, 0, 0, 1),\n",
       "  [((0, 0, 0, 0, 1), (0, 0, 0, 0, 0), True),\n",
       "   ((1, 0, 1, 1, 1), (1, 0, 1, 1, 0), True),\n",
       "   ((2, 0, 2, 2, 1), (2, 0, 2, 2, 0), True),\n",
       "   ((0, 1, 1, 0, 2), (0, 1, 1, 0, 1), True),\n",
       "   ((1, 1, 2, 1, 2), (1, 1, 2, 1, 1), True),\n",
       "   ((2, 1, 0, 2, 2), (2, 1, 0, 2, 1), True),\n",
       "   ((0, 2, 2, 0, 0), (0, 2, 2, 0, 2), True),\n",
       "   ((1, 2, 0, 1, 0), (1, 2, 0, 1, 2), True),\n",
       "   ((2, 2, 1, 2, 0), (2, 2, 1, 2, 2), True)])]"
      ]
     },
     "execution_count": 75,
     "metadata": {},
     "output_type": "execute_result"
    }
   ],
   "source": [
    "# consider \"error vectors\" of weight 1\n",
    "\n",
    "[ (e,[(c+e, decode(c+e), decode(c+e) ==  c) for c in C]) for e in V.basis()]\n"
   ]
  },
  {
   "cell_type": "markdown",
   "id": "b6ffd00a-e29f-4a25-a8ab-125e960189b8",
   "metadata": {},
   "source": [
    "But: we shouldn't in general be able to correct 2 errors."
   ]
  },
  {
   "cell_type": "code",
   "execution_count": 69,
   "id": "5f4c85fe-7d1c-4f22-8e4e-f83b1f273690",
   "metadata": {},
   "outputs": [
    {
     "data": {
      "text/plain": [
       "[((0, 1, 1, 0, 0), (0, 1, 1, 0, 1), False),\n",
       " ((1, 1, 2, 1, 0), (1, 1, 2, 1, 1), False),\n",
       " ((2, 1, 0, 2, 0), (2, 1, 0, 2, 1), False),\n",
       " ((0, 2, 2, 0, 1), (0, 2, 2, 0, 2), False),\n",
       " ((1, 2, 0, 1, 1), (1, 2, 0, 1, 2), False),\n",
       " ((2, 2, 1, 2, 1), (2, 2, 1, 2, 2), False),\n",
       " ((0, 0, 0, 0, 2), (0, 0, 0, 0, 0), False),\n",
       " ((1, 0, 1, 1, 2), (1, 0, 1, 1, 0), False),\n",
       " ((2, 0, 2, 2, 2), (2, 0, 2, 2, 0), False)]"
      ]
     },
     "execution_count": 69,
     "metadata": {},
     "output_type": "execute_result"
    }
   ],
   "source": [
    "# consider an \"error vector\" with weight 2\n",
    "f = V([0,1,1,0,0])\n",
    "\n",
    "[ (c+f, decode(c+f), decode(c+f) == c) for c in C ]"
   ]
  },
  {
   "cell_type": "code",
   "execution_count": null,
   "id": "19ded84c-ef23-4e4f-83e9-d9711f08de2f",
   "metadata": {},
   "outputs": [],
   "source": []
  }
 ],
 "metadata": {
  "kernelspec": {
   "display_name": "Python 3 (ipykernel)",
   "language": "python",
   "name": "python3"
  },
  "language_info": {
   "codemirror_mode": {
    "name": "ipython",
    "version": 3
   },
   "file_extension": ".py",
   "mimetype": "text/x-python",
   "name": "python",
   "nbconvert_exporter": "python",
   "pygments_lexer": "ipython3",
   "version": "3.11.6"
  }
 },
 "nbformat": 4,
 "nbformat_minor": 5
}
