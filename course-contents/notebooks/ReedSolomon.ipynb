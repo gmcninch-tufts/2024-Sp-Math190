{
 "cells": [
  {
   "cell_type": "code",
   "execution_count": 50,
   "id": "4d373d36-03eb-4103-8af6-d78aaa9a6b03",
   "metadata": {},
   "outputs": [
    {
     "data": {
      "text/plain": [
       "Univariate Polynomial Ring in a over Finite Field of size 7"
      ]
     },
     "execution_count": 50,
     "metadata": {},
     "output_type": "execute_result"
    }
   ],
   "source": [
    "k = GF(7)\n",
    "\n",
    "vv = ', '.join([ f\"a{n}\" for n in range(9)])\n",
    "aa = k[\"T, X, Y, a, b, c\"].gens()\n",
    "\n",
    "T, X, Y, a, b, c = aa\n",
    "\n",
    "R = PolynomialRing(k,a)\n",
    "\n",
    "R\n"
   ]
  },
  {
   "cell_type": "code",
   "execution_count": 51,
   "id": "aeb74a39-d717-47f5-8a4f-bea2f0de5996",
   "metadata": {},
   "outputs": [
    {
     "data": {
      "text/plain": [
       "T^2*c + T*b + a"
      ]
     },
     "execution_count": 51,
     "metadata": {},
     "output_type": "execute_result"
    }
   ],
   "source": [
    "f = a + b * T + c * T^2\n",
    "f"
   ]
  },
  {
   "cell_type": "code",
   "execution_count": 55,
   "id": "52a4b621-cf2f-45d2-801d-730f9092527c",
   "metadata": {},
   "outputs": [
    {
     "data": {
      "text/plain": [
       "Y^2*a + X*Y*b + X^2*c"
      ]
     },
     "execution_count": 55,
     "metadata": {},
     "output_type": "execute_result"
    }
   ],
   "source": [
    "g = Y^2*f(T=X/Y)\n",
    "g"
   ]
  },
  {
   "cell_type": "code",
   "execution_count": 57,
   "id": "676f4595-8765-4d29-8e05-37d707627368",
   "metadata": {},
   "outputs": [
    {
     "data": {
      "text/plain": [
       "True"
      ]
     },
     "execution_count": 57,
     "metadata": {},
     "output_type": "execute_result"
    }
   ],
   "source": [
    "g(X=T,Y=1) == f"
   ]
  },
  {
   "cell_type": "code",
   "execution_count": 58,
   "id": "4775b033-aa1d-4fc5-8003-6602a943c6a5",
   "metadata": {},
   "outputs": [
    {
     "data": {
      "text/plain": [
       "c"
      ]
     },
     "execution_count": 58,
     "metadata": {},
     "output_type": "execute_result"
    }
   ],
   "source": [
    "g(X=1,Y=0)"
   ]
  },
  {
   "cell_type": "code",
   "execution_count": null,
   "id": "e53d6bdb-8dce-40d0-87ff-7d58273cb142",
   "metadata": {},
   "outputs": [],
   "source": []
  }
 ],
 "metadata": {
  "kernelspec": {
   "display_name": "SageMath 10.2",
   "language": "sage",
   "name": "sagemath"
  },
  "language_info": {
   "codemirror_mode": {
    "name": "ipython",
    "version": 3
   },
   "file_extension": ".py",
   "mimetype": "text/x-python",
   "name": "python",
   "nbconvert_exporter": "python",
   "pygments_lexer": "ipython3",
   "version": "3.11.6"
  }
 },
 "nbformat": 4,
 "nbformat_minor": 5
}
