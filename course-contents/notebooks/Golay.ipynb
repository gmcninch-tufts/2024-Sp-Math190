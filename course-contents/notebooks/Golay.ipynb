{
 "cells": [
  {
   "cell_type": "code",
   "execution_count": 1,
   "id": "7873129b-937d-4126-afb1-13f8921ddf25",
   "metadata": {},
   "outputs": [
    {
     "data": {
      "text/plain": [
       "(T + 2) * (T^5 + 2*T^3 + T^2 + 2*T + 2) * (T^5 + T^4 + 2*T^3 + T^2 + 2)"
      ]
     },
     "execution_count": 1,
     "metadata": {},
     "output_type": "execute_result"
    }
   ],
   "source": [
    "k = GF(3)\n",
    "R.<T> = PolynomialRing(k)\n",
    "(T^11-1).factor()"
   ]
  },
  {
   "cell_type": "code",
   "execution_count": 2,
   "id": "9787c40b-f880-4ad8-b5b2-8d072e4c4aea",
   "metadata": {},
   "outputs": [
    {
     "data": {
      "text/plain": [
       "z^3 + z^2 + z"
      ]
     },
     "execution_count": 2,
     "metadata": {},
     "output_type": "execute_result"
    }
   ],
   "source": [
    "\n",
    "l.<z> = GF(3^5)\n",
    "\n",
    "\n",
    "z^11"
   ]
  },
  {
   "cell_type": "code",
   "execution_count": 3,
   "id": "ef560b0f-d4c9-4bf2-9cd7-110771f1ea35",
   "metadata": {},
   "outputs": [
    {
     "data": {
      "text/plain": [
       "22"
      ]
     },
     "execution_count": 3,
     "metadata": {},
     "output_type": "execute_result"
    }
   ],
   "source": [
    "(3^5 - 1)/ 11"
   ]
  },
  {
   "cell_type": "code",
   "execution_count": 4,
   "id": "d1493955-fff3-401e-a7ca-1fd57ee1b4b7",
   "metadata": {},
   "outputs": [],
   "source": [
    "w=z^22"
   ]
  },
  {
   "cell_type": "code",
   "execution_count": 5,
   "id": "d1980ad8-3f18-4799-a4de-82eb28d8439b",
   "metadata": {},
   "outputs": [
    {
     "data": {
      "text/plain": [
       "T^5 + T^4 + 2*T^3 + T^2 + 2"
      ]
     },
     "execution_count": 5,
     "metadata": {},
     "output_type": "execute_result"
    }
   ],
   "source": [
    "f = product([ T-w^(3^i) for i in range(5) ])\n",
    "f"
   ]
  },
  {
   "cell_type": "code",
   "execution_count": 30,
   "id": "7a944175-8d79-4b23-bfbf-ffb15f6f1334",
   "metadata": {},
   "outputs": [],
   "source": [
    "vars = var(' '.join([ f\"a{n}\" for n in range(5) ]))\n",
    "S.<a1,a2,a3,a4> = PolynomialRing(R)\n",
    "\n",
    "F = 1 + a1*T + a2*T^2 + a3*T^3 + a4*T^4 + T^5\n",
    "G = 1 + a4*T + a3*T^2 + a2*T^3 + a1*T^4 + T^5\n"
   ]
  },
  {
   "cell_type": "code",
   "execution_count": null,
   "id": "8c9c9caa-09a6-4f21-a007-f482dc7fb0e3",
   "metadata": {},
   "outputs": [],
   "source": []
  }
 ],
 "metadata": {
  "kernelspec": {
   "display_name": "SageMath 10.2",
   "language": "sage",
   "name": "sagemath"
  },
  "language_info": {
   "codemirror_mode": {
    "name": "ipython",
    "version": 3
   },
   "file_extension": ".py",
   "mimetype": "text/x-python",
   "name": "python",
   "nbconvert_exporter": "python",
   "pygments_lexer": "ipython3",
   "version": "3.11.6"
  }
 },
 "nbformat": 4,
 "nbformat_minor": 5
}
