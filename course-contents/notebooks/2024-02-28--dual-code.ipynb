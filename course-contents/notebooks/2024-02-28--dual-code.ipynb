{
 "cells": [
  {
   "cell_type": "code",
   "execution_count": 2,
   "id": "907e75c4-6731-41b0-a5aa-37028ddf6cf0",
   "metadata": {},
   "outputs": [],
   "source": [
    "k = GF(2)\n",
    "V = VectorSpace(k,8)\n",
    "\n",
    "C = V.subspace([V([1,0,0,0,1,1,1,0]),\n",
    "                V([0,1,0,0,1,1,0,1]),\n",
    "                V([0,0,1,0,1,0,1,1]),\n",
    "                V([0,0,0,1,0,1,1,1])])\n",
    "\n",
    "G = MatrixSpace(k,4,8).matrix(C.basis())\n"
   ]
  },
  {
   "cell_type": "markdown",
   "id": "40ad889f-afff-47ad-a93f-700f222afd44",
   "metadata": {},
   "source": [
    "We see that $C \\subset C^\\perp$ since `G * G.T == 0`."
   ]
  },
  {
   "cell_type": "code",
   "execution_count": 3,
   "id": "fa4ced51-bc7a-4dd3-b7d2-fe0a1f9f0e51",
   "metadata": {},
   "outputs": [
    {
     "data": {
      "text/plain": [
       "[0 0 0 0]\n",
       "[0 0 0 0]\n",
       "[0 0 0 0]\n",
       "[0 0 0 0]"
      ]
     },
     "execution_count": 3,
     "metadata": {},
     "output_type": "execute_result"
    }
   ],
   "source": [
    "G * G.T"
   ]
  },
  {
   "cell_type": "markdown",
   "id": "d3114ba9-eb61-4bec-b186-9bbb30cdf3de",
   "metadata": {},
   "source": [
    "Equality holds because we know $4=\\dim C = 8-4=\\dim C^\\perp$ in this case."
   ]
  },
  {
   "cell_type": "markdown",
   "id": "7db80482-42c2-4f56-9b1f-3adf4350ee92",
   "metadata": {},
   "source": [
    "(Though really the point is that the weight of each vector in $C$ is *even*)"
   ]
  },
  {
   "cell_type": "code",
   "execution_count": 3,
   "id": "260cadb5-fe63-4fd2-8b51-7367907ebe23",
   "metadata": {},
   "outputs": [
    {
     "data": {
      "text/plain": [
       "[0, 4, 4, 4, 4, 4, 4, 4, 4, 4, 4, 4, 4, 4, 4, 8]"
      ]
     },
     "execution_count": 3,
     "metadata": {},
     "output_type": "execute_result"
    }
   ],
   "source": [
    "def weight(v):\n",
    "    r = [x for x in v if x != 0]\n",
    "    return len(r)\n",
    "\n",
    "\n",
    "[ weight(c) for c in C ]"
   ]
  },
  {
   "cell_type": "code",
   "execution_count": 17,
   "id": "23bb5060-a438-4a24-9ed1-48b07cbff52b",
   "metadata": {},
   "outputs": [
    {
     "data": {
      "text/plain": [
       "T^8 + 14*T^4 + 1"
      ]
     },
     "execution_count": 17,
     "metadata": {},
     "output_type": "execute_result"
    }
   ],
   "source": [
    "R.<T> = PolynomialRing(ZZ)\n",
    "\n",
    "## compute the weight enumerator, as an element of R\n",
    "def WE(C):\n",
    "    return sum([ T^weight(c) for c in C ])\n",
    "\n",
    "WE(C)"
   ]
  },
  {
   "cell_type": "markdown",
   "id": "bd2db68a-2346-46d3-9466-a840f9c4eb0b",
   "metadata": {},
   "source": [
    "Now, let us suppose that $C$ is just *some* `[8,4]_2` self-dual code with weight enumerator\n",
    "$$\\displaystyle A(C) = 1 + \\sum_{i=1}^8 a_i T^i$$ (not necessarily the one we specified above).\n",
    "\n",
    "We are going to investigate what the *McWilliams identities* tell us about the coefficients $a_i$."
   ]
  },
  {
   "cell_type": "code",
   "execution_count": 5,
   "id": "9f1b2169-2044-4d76-a44c-bfdbc0906ef8",
   "metadata": {},
   "outputs": [
    {
     "data": {
      "text/plain": [
       "(a1, a2, a3, a4, a5, a6, a7, a8)"
      ]
     },
     "execution_count": 5,
     "metadata": {},
     "output_type": "execute_result"
    }
   ],
   "source": [
    "vars = var(' '.join([ f\"a{n}\" for n in range(1,9) ]))\n",
    "S = PolynomialRing(R,vars)\n",
    "\n",
    "#S.variable_names()\n",
    "vars"
   ]
  },
  {
   "cell_type": "code",
   "execution_count": 6,
   "id": "45e287c3-f639-4381-a2b3-258ac2814179",
   "metadata": {},
   "outputs": [],
   "source": [
    "A = 1 + sum([vars[n] * T^(n+1) for n in range(8) ])\n"
   ]
  },
  {
   "cell_type": "code",
   "execution_count": 7,
   "id": "a14f30f2-0917-4504-894f-b4b322475a7c",
   "metadata": {},
   "outputs": [
    {
     "data": {
      "text/plain": [
       "-1/16*(T^8 + 8*T^7 + 28*T^6 + 56*T^5 + 70*T^4 + 56*T^3 + 28*T^2 + 8*T + 1)*((T - 1)*a1/(T + 1) - (T - 1)^2*a2/(T + 1)^2 + (T - 1)^3*a3/(T + 1)^3 - (T - 1)^4*a4/(T + 1)^4 + (T - 1)^5*a5/(T + 1)^5 - (T - 1)^6*a6/(T + 1)^6 + (T - 1)^7*a7/(T + 1)^7 - (T - 1)^8*a8/(T + 1)^8 - 1)"
      ]
     },
     "execution_count": 7,
     "metadata": {},
     "output_type": "execute_result"
    }
   ],
   "source": [
    "# The McWilliams identity gives the following formula for the\n",
    "# weigth enumerator for the dual code\n",
    "Adual = 2^(-4) * (1+T)^8 * A(T = (1-T)/(1+T) )\n",
    "Adual"
   ]
  },
  {
   "cell_type": "code",
   "execution_count": 8,
   "id": "c430010d-4e38-46ca-8851-dcc3f6ba9dba",
   "metadata": {},
   "outputs": [
    {
     "data": {
      "text/plain": [
       "1/16*a1 + 1/16*a2 + 1/16*a3 + 1/16*a4 + 1/16*a5 + 1/16*a6 + 1/16*a7 + 1/16*a8 + 1/16"
      ]
     },
     "execution_count": 8,
     "metadata": {},
     "output_type": "execute_result"
    }
   ],
   "source": [
    "# we can get the constant term of a poly by evaluation at T=0\n",
    "Adual(T=0)"
   ]
  },
  {
   "cell_type": "code",
   "execution_count": 9,
   "id": "96b7d437-60e6-4a56-8adf-7632e92572df",
   "metadata": {},
   "outputs": [
    {
     "data": {
      "text/plain": [
       "3/8*a1 + 1/4*a2 + 1/8*a3 - 1/8*a5 - 1/4*a6 - 3/8*a7 - 1/2*a8 + 1/2"
      ]
     },
     "execution_count": 9,
     "metadata": {},
     "output_type": "execute_result"
    }
   ],
   "source": [
    "# and we can get the coeff of T by evaluting the derivative at T=0\n",
    "Adual.diff(T)(T=0)"
   ]
  },
  {
   "cell_type": "code",
   "execution_count": 10,
   "id": "22a6e45b-06b6-4148-a5ce-41a4006733d2",
   "metadata": {},
   "outputs": [],
   "source": [
    "# More generally, we can get coefficients of T inductively by repeated differentiation:\n",
    "def coeff(F,n):\n",
    "    # return nth coefficient of polynomial F in variable T\n",
    "    if n==0:\n",
    "        return F(T=0)\n",
    "    else:\n",
    "        return (1/n)*coeff(F.diff(T),n-1)\n",
    "\n",
    "# return the coefficients of F, as a list of length deg(F) + 1\n",
    "def allCoeffs(F):\n",
    "    return [ coeff(F,n) for n in range(F.degree(T)+1) ]"
   ]
  },
  {
   "cell_type": "code",
   "execution_count": 11,
   "id": "94b57cef-50ee-450c-bf23-337e388dcf7e",
   "metadata": {},
   "outputs": [
    {
     "data": {
      "text/plain": [
       "[1, a1, a2, a3, a4, a5, a6, a7, a8]"
      ]
     },
     "execution_count": 11,
     "metadata": {},
     "output_type": "execute_result"
    }
   ],
   "source": [
    "allCoeffs(A)"
   ]
  },
  {
   "cell_type": "code",
   "execution_count": 12,
   "id": "eab3443d-1e06-4817-910a-f31e9509fc7d",
   "metadata": {},
   "outputs": [
    {
     "data": {
      "text/plain": [
       "[1/16*a1 + 1/16*a2 + 1/16*a3 + 1/16*a4 + 1/16*a5 + 1/16*a6 + 1/16*a7 + 1/16*a8 + 1/16,\n",
       " 3/8*a1 + 1/4*a2 + 1/8*a3 - 1/8*a5 - 1/4*a6 - 3/8*a7 - 1/2*a8 + 1/2,\n",
       " 7/8*a1 + 1/4*a2 - 1/8*a3 - 1/4*a4 - 1/8*a5 + 1/4*a6 + 7/8*a7 + 7/4*a8 + 7/4,\n",
       " 7/8*a1 - 1/4*a2 - 3/8*a3 + 3/8*a5 + 1/4*a6 - 7/8*a7 - 7/2*a8 + 7/2,\n",
       " -5/8*a2 + 3/8*a4 - 5/8*a6 + 35/8*a8 + 35/8,\n",
       " -7/8*a1 - 1/4*a2 + 3/8*a3 - 3/8*a5 + 1/4*a6 + 7/8*a7 - 7/2*a8 + 7/2,\n",
       " -7/8*a1 + 1/4*a2 + 1/8*a3 - 1/4*a4 + 1/8*a5 + 1/4*a6 - 7/8*a7 + 7/4*a8 + 7/4,\n",
       " -3/8*a1 + 1/4*a2 - 1/8*a3 + 1/8*a5 - 1/4*a6 + 3/8*a7 - 1/2*a8 + 1/2,\n",
       " -1/16*a1 + 1/16*a2 - 1/16*a3 + 1/16*a4 - 1/16*a5 + 1/16*a6 - 1/16*a7 + 1/16*a8 + 1/16]"
      ]
     },
     "execution_count": 12,
     "metadata": {},
     "output_type": "execute_result"
    }
   ],
   "source": [
    "allCoeffs(Adual)"
   ]
  },
  {
   "cell_type": "markdown",
   "id": "553e7594-ad75-4d76-a40d-0e2607b9fd84",
   "metadata": {},
   "source": [
    "So if $C$ is self-dual, we can compute the equations that the coefficients of $A(T)$ must satisfy, as follows:"
   ]
  },
  {
   "cell_type": "code",
   "execution_count": 13,
   "id": "2a06fd7d-98d4-4f01-9d4f-436579df51cd",
   "metadata": {},
   "outputs": [
    {
     "data": {
      "text/plain": [
       "[1 == 1/16*a1 + 1/16*a2 + 1/16*a3 + 1/16*a4 + 1/16*a5 + 1/16*a6 + 1/16*a7 + 1/16*a8 + 1/16,\n",
       " a1 == 3/8*a1 + 1/4*a2 + 1/8*a3 - 1/8*a5 - 1/4*a6 - 3/8*a7 - 1/2*a8 + 1/2,\n",
       " a2 == 7/8*a1 + 1/4*a2 - 1/8*a3 - 1/4*a4 - 1/8*a5 + 1/4*a6 + 7/8*a7 + 7/4*a8 + 7/4,\n",
       " a3 == 7/8*a1 - 1/4*a2 - 3/8*a3 + 3/8*a5 + 1/4*a6 - 7/8*a7 - 7/2*a8 + 7/2,\n",
       " a4 == -5/8*a2 + 3/8*a4 - 5/8*a6 + 35/8*a8 + 35/8,\n",
       " a5 == -7/8*a1 - 1/4*a2 + 3/8*a3 - 3/8*a5 + 1/4*a6 + 7/8*a7 - 7/2*a8 + 7/2,\n",
       " a6 == -7/8*a1 + 1/4*a2 + 1/8*a3 - 1/4*a4 + 1/8*a5 + 1/4*a6 - 7/8*a7 + 7/4*a8 + 7/4,\n",
       " a7 == -3/8*a1 + 1/4*a2 - 1/8*a3 + 1/8*a5 - 1/4*a6 + 3/8*a7 - 1/2*a8 + 1/2,\n",
       " a8 == -1/16*a1 + 1/16*a2 - 1/16*a3 + 1/16*a4 - 1/16*a5 + 1/16*a6 - 1/16*a7 + 1/16*a8 + 1/16]"
      ]
     },
     "execution_count": 13,
     "metadata": {},
     "output_type": "execute_result"
    }
   ],
   "source": [
    "# this gives coefficient equations required in order that `A == Adual`\n",
    "#\n",
    "eqs = [ A == B for (A,B) in zip(allCoeffs(A),allCoeffs(Adual)) ]\n",
    "eqs"
   ]
  },
  {
   "cell_type": "markdown",
   "id": "1f3e3f6d-f9ca-4b52-9fd6-06da4e36eee1",
   "metadata": {},
   "source": [
    "Since $C$ is *self-dual* and since we work over $\\mathbb{F}_2$, it is easy to see that any codeword in $C$ must have *even* weight.\n",
    "\n",
    "So we also need `a1 == a3 == a5 == a7 == 0`"
   ]
  },
  {
   "cell_type": "code",
   "execution_count": 18,
   "id": "7428a1cf-ae30-4564-bd16-5a3638c07696",
   "metadata": {},
   "outputs": [
    {
     "data": {
      "text/plain": [
       "[{a1: 0, a2: r2, a3: 0, a4: -2*r2 + 14, a5: 0, a6: r2, a7: 0, a8: 1}]"
      ]
     },
     "execution_count": 18,
     "metadata": {},
     "output_type": "execute_result"
    }
   ],
   "source": [
    "# make the equality conditions for vanishing of a_odd\n",
    "odd = [ v == 0 for v in [a1,a3,a5,a7]]\n",
    "\n",
    "# finally, we can *solve* these equations'\n",
    "\n",
    "sol = solve(eqs + odd,vars,solution_dict=True)\n",
    "sol"
   ]
  },
  {
   "cell_type": "markdown",
   "id": "63a0fa3c-b7ee-4599-b82f-78774eb8b5cc",
   "metadata": {},
   "source": [
    "We get a *parametrized solution*. The parameterization tells us that \n",
    "the possible weight enumerators $A$ for a self-dual `[8,4]_2` code are given by the formula\n",
    "\n",
    "$$1 + r(T^2 - 2T^4 + T^6) + 14 T^4 + T^8$$\n",
    "\n",
    "Since the coefficient $T^2$ is $r$ and the coeff of $T^4$ is $14 - 2r$, and since both must be non-negative, we must have $r \\in \\{0,1,..,7\\}$.\n",
    "\n",
    "The self-dual code described above corresponds to the case $r = 0$.\n",
    "\n",
    "Note that in any event, the coefficient of $T^8$ is always 1; this shows that a self-dual $[8,4]_2$ code always contains the *all-one vector*\n"
   ]
  },
  {
   "cell_type": "code",
   "execution_count": 21,
   "id": "cb8d79f3-237a-4290-8973-2c6140ca9cb6",
   "metadata": {},
   "outputs": [
    {
     "data": {
      "text/plain": [
       "[1, 1, 1, 1, 1, 1, 1, 1]"
      ]
     },
     "execution_count": 21,
     "metadata": {},
     "output_type": "execute_result"
    }
   ],
   "source": [
    "one = 8*[1]\n",
    "one"
   ]
  },
  {
   "cell_type": "markdown",
   "id": "88f6cd68-08dd-4f74-a767-745a02f9c845",
   "metadata": {},
   "source": [
    "*Question:* We know there is a self-dual `[8,4]_2` code with weight enumerator $1 + 14 T^4 + T^8$. What about the other possibilities?\n",
    "\n",
    "E.g., is there one with weight enumerator\n",
    "$1 + (T^2 - 2T^4 + T^6) + 14 T^4 + T^8 = 1 + T^2 + 12 T^4 + T^6 + T^8$?"
   ]
  },
  {
   "cell_type": "code",
   "execution_count": null,
   "id": "c2007a01-c2e4-4fa9-97d9-929069c2b652",
   "metadata": {},
   "outputs": [],
   "source": []
  }
 ],
 "metadata": {
  "kernelspec": {
   "display_name": "Python 3 (ipykernel)",
   "language": "python",
   "name": "python3"
  },
  "language_info": {
   "codemirror_mode": {
    "name": "ipython",
    "version": 3
   },
   "file_extension": ".py",
   "mimetype": "text/x-python",
   "name": "python",
   "nbconvert_exporter": "python",
   "pygments_lexer": "ipython3",
   "version": "3.11.6"
  }
 },
 "nbformat": 4,
 "nbformat_minor": 5
}
