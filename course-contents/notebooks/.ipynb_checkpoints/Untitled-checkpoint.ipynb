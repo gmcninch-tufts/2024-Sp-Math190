{
 "cells": [
  {
   "cell_type": "code",
   "execution_count": 111,
   "id": "fa77ce8c-c3f0-4091-9693-431235a2cd17",
   "metadata": {},
   "outputs": [],
   "source": []
  },
  {
   "cell_type": "code",
   "execution_count": 112,
   "id": "4910c782-0776-49d6-99fa-c7feb70f80c1",
   "metadata": {},
   "outputs": [],
   "source": [
    "S.<t> = PolynomialRing(k)\n",
    "\n",
    "N = X^2 - 3*Y^2\n",
    "T = X*Y\n"
   ]
  },
  {
   "cell_type": "code",
   "execution_count": 124,
   "id": "7f5311e8-fd23-4ef9-ab98-789258394c45",
   "metadata": {},
   "outputs": [
    {
     "name": "stdout",
     "output_type": "stream",
     "text": [
      "64 48\n"
     ]
    },
    {
     "data": {
      "text/plain": [
       "[50, 50, 64, 50, 64, 64]"
      ]
     },
     "execution_count": 124,
     "metadata": {},
     "output_type": "execute_result"
    }
   ],
   "source": [
    "def test(q):\n",
    "    k = GF(q)\n",
    "    V = VectorSpace(k,4)\n",
    "    R.<X,Y,Z,W> = PolynomialRing(k)\n",
    "    F = lambda a: X*Y + Z^2 + a*W^2\n",
    "\n",
    "    def is_square(a):\n",
    "        if a in [ b^2 for b in k ]:\n",
    "            return True\n",
    "        else:\n",
    "    \n",
    "    def eval(F,v):\n",
    "        return F(X=v[0],Y=v[1],Z=v[2],W=v[3])\n",
    "    f = q^2 + 2*q + 1\n",
    "    g= (q-1)*(q+1)\n",
    "    print(f,g)\n",
    "    def count_sols(F):\n",
    "        pts = [ v for v in V if eval(F,v)==0 and v != 0]\n",
    "        return len(pts)/(q-1)\n",
    "    return [ count_sols(F(a)) for a in k if a !=0 ]\n",
    "\n",
    "test(7)"
   ]
  },
  {
   "cell_type": "code",
   "execution_count": 117,
   "id": "00485ab6-20a3-47a3-960e-9c03a1656f34",
   "metadata": {},
   "outputs": [
    {
     "data": {
      "text/plain": [
       "64"
      ]
     },
     "execution_count": 117,
     "metadata": {},
     "output_type": "execute_result"
    }
   ],
   "source": [
    "\n",
    "f(7)"
   ]
  },
  {
   "cell_type": "code",
   "execution_count": 51,
   "id": "ea49b4a6-05ba-46a0-ac06-c757b3f5e7a6",
   "metadata": {},
   "outputs": [],
   "source": [
    "ell.<z> = GF(7^4)"
   ]
  },
  {
   "cell_type": "code",
   "execution_count": 92,
   "id": "532058d2-7f3b-4eea-986b-b580a40e7d50",
   "metadata": {},
   "outputs": [
    {
     "data": {
      "text/plain": [
       "[True, True, True, True]"
      ]
     },
     "execution_count": 92,
     "metadata": {},
     "output_type": "execute_result"
    }
   ],
   "source": [
    "def trace(x):\n",
    "    return sum([x^(p^i) for i in range(n)])\n",
    "\n",
    "def is_square(x,k):\n",
    "    if x in [ a^2 for a in k]:\n",
    "        return True\n",
    "    else:\n",
    "        return False\n",
    "\n",
    "def M(p,n):\n",
    "    ell.<z> = GF(p^n)\n",
    "    M = MatrixSpace(ell,n).matrix([[trace(z^(i+j),p,n) for i in range(n) ] for j in range(n)])\n",
    "    return is_square(M.determinant(),ell)\n",
    "    \n",
    "[ M(31,i) for i in range(1,5) ]"
   ]
  },
  {
   "cell_type": "code",
   "execution_count": 56,
   "id": "23c593a4-0440-4ce7-9f85-c9f06139987e",
   "metadata": {},
   "outputs": [
    {
     "data": {
      "text/plain": [
       "[3 1 1]\n",
       "[1 1 3]\n",
       "[1 3 6]"
      ]
     },
     "execution_count": 56,
     "metadata": {},
     "output_type": "execute_result"
    }
   ],
   "source": [
    "M"
   ]
  },
  {
   "cell_type": "code",
   "execution_count": 58,
   "id": "e80ede4b-14c5-4535-8930-cf29757fee28",
   "metadata": {},
   "outputs": [
    {
     "data": {
      "text/plain": [
       "True"
      ]
     },
     "execution_count": 58,
     "metadata": {},
     "output_type": "execute_result"
    }
   ],
   "source": [
    "\n",
    "\n",
    "is_square(4,k)"
   ]
  },
  {
   "cell_type": "code",
   "execution_count": null,
   "id": "af2c2c96-d255-434d-a0ff-b7dc7c4656ee",
   "metadata": {},
   "outputs": [],
   "source": []
  }
 ],
 "metadata": {
  "kernelspec": {
   "display_name": "SageMath 10.2",
   "language": "sage",
   "name": "sagemath"
  },
  "language_info": {
   "codemirror_mode": {
    "name": "ipython",
    "version": 3
   },
   "file_extension": ".py",
   "mimetype": "text/x-python",
   "name": "python",
   "nbconvert_exporter": "python",
   "pygments_lexer": "ipython3",
   "version": "3.11.6"
  }
 },
 "nbformat": 4,
 "nbformat_minor": 5
}
