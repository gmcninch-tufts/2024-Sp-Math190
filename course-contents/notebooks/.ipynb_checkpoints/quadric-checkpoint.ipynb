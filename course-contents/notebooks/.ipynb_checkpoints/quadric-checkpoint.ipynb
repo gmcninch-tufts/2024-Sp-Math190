{
 "cells": [
  {
   "cell_type": "code",
   "execution_count": 32,
   "id": "e09a98df-ebc3-4bb7-92f4-85edf7430617",
   "metadata": {},
   "outputs": [],
   "source": [
    "p=3\n",
    "k=GF(p)\n",
    "V=VectorSpace(k,4)\n",
    "P=ProjectiveSpace(k,3)"
   ]
  },
  {
   "cell_type": "code",
   "execution_count": 2,
   "id": "72cf2179-1078-42f5-a3cf-00afa9874ea1",
   "metadata": {},
   "outputs": [
    {
     "data": {
      "text/plain": [
       "True"
      ]
     },
     "execution_count": 2,
     "metadata": {},
     "output_type": "execute_result"
    }
   ],
   "source": [
    "R.<T0,T1,T2,T3> = PolynomialRing(k)\n",
    "S.<X> = PolynomialRing(k)\n",
    "\n",
    "f = T2^2 + T2*T3 + 2*T3^2\n",
    "\n",
    "ff = f(T0=0,T1=0,T2=X,T3=1)\n",
    "ff.is_irreducible()"
   ]
  },
  {
   "cell_type": "code",
   "execution_count": 3,
   "id": "74967167-5910-45ff-ac80-e0015ec295ab",
   "metadata": {},
   "outputs": [
    {
     "data": {
      "text/plain": [
       "T0*T1 - T2^2 - T2*T3 + T3^2"
      ]
     },
     "execution_count": 3,
     "metadata": {},
     "output_type": "execute_result"
    }
   ],
   "source": [
    "Q = T0*T1 - f\n",
    "Q"
   ]
  },
  {
   "cell_type": "code",
   "execution_count": 4,
   "id": "165be0d7-a8f6-400a-9d88-170c2dc96f6e",
   "metadata": {},
   "outputs": [],
   "source": [
    "def myeval(Q,v):\n",
    "    return Q(T0=v[0],T1=v[1],T2=v[2],T3=v[3])"
   ]
  },
  {
   "cell_type": "code",
   "execution_count": 5,
   "id": "a120ba3e-7fdf-4bd7-bad8-ffb13daf345e",
   "metadata": {},
   "outputs": [
    {
     "data": {
      "text/plain": [
       "10"
      ]
     },
     "execution_count": 5,
     "metadata": {},
     "output_type": "execute_result"
    }
   ],
   "source": [
    "Q = [ p for p in P if myeval(Q,p)==0 ]\n",
    "len(Q)"
   ]
  },
  {
   "cell_type": "code",
   "execution_count": 6,
   "id": "90c9de37-85b2-4003-9f54-4281f38145bb",
   "metadata": {},
   "outputs": [
    {
     "data": {
      "text/plain": [
       "[1 1 1 2 2 2 1 2 0 1]\n",
       "[1 2 2 1 1 2 1 2 1 0]\n",
       "[1 0 2 0 2 1 1 1 0 0]\n",
       "[1 1 1 1 1 1 0 0 0 0]"
      ]
     },
     "execution_count": 6,
     "metadata": {},
     "output_type": "execute_result"
    }
   ],
   "source": [
    "H = MatrixSpace(k,len(Q),4).matrix([ p for p in Q]).T\n",
    "H"
   ]
  },
  {
   "cell_type": "code",
   "execution_count": 7,
   "id": "cae126a6-5687-4fd5-932b-4c565fc7477b",
   "metadata": {},
   "outputs": [],
   "source": [
    "W = VectorSpace(k,len(Q))\n",
    "Cperp = W.subspace([ h for h in H ])"
   ]
  },
  {
   "cell_type": "code",
   "execution_count": 8,
   "id": "0da42983-3eb3-4658-94ec-35e059f1d835",
   "metadata": {},
   "outputs": [
    {
     "data": {
      "text/plain": [
       "20*Y^9 + 60*Y^6 + 1"
      ]
     },
     "execution_count": 8,
     "metadata": {},
     "output_type": "execute_result"
    }
   ],
   "source": [
    "def weight(v):\n",
    "    r = [x for x in v if x != 0]\n",
    "    return len(r)\n",
    "\n",
    "T.<Y>=PolynomialRing(ZZ)\n",
    "\n",
    "## compute the weight enumerator, as an element of ZZ[X]\n",
    "def WE(D):\n",
    "    return sum([ Y^weight(c) for c in D ])\n",
    "\n",
    "WE(Cperp)"
   ]
  },
  {
   "cell_type": "code",
   "execution_count": 37,
   "id": "2ac48f02-c6f9-4663-99fe-bec7a1eac16b",
   "metadata": {},
   "outputs": [],
   "source": [
    "def countIncidentPoints(v):\n",
    "    return len([ q for q in Q if v*V(list(q))==0 ])\n"
   ]
  },
  {
   "cell_type": "code",
   "execution_count": null,
   "id": "611bee3a-9eff-49aa-95c5-90e28076752d",
   "metadata": {},
   "outputs": [],
   "source": []
  }
 ],
 "metadata": {
  "kernelspec": {
   "display_name": "SageMath 10.2",
   "language": "sage",
   "name": "sagemath"
  },
  "language_info": {
   "codemirror_mode": {
    "name": "ipython",
    "version": 3
   },
   "file_extension": ".py",
   "mimetype": "text/x-python",
   "name": "python",
   "nbconvert_exporter": "python",
   "pygments_lexer": "ipython3",
   "version": "3.11.6"
  }
 },
 "nbformat": 4,
 "nbformat_minor": 5
}
