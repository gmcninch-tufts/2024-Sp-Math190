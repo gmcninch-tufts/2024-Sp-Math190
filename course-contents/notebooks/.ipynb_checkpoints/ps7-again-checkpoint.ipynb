{
 "cells": [
  {
   "cell_type": "code",
   "execution_count": 3,
   "id": "bbc593e3-12e6-46ee-b9de-6ad69260ea91",
   "metadata": {},
   "outputs": [],
   "source": [
    "k = GF(4)\n",
    "R.<T> = PolynomialRing(k)\n",
    "\n",
    "f = T^11 - 1\n",
    "\n",
    "ff = f.factor()\n",
    "\n",
    "g,_ = ff[1]\n",
    "h,_ = ff[2]"
   ]
  },
  {
   "cell_type": "code",
   "execution_count": null,
   "id": "e4e49b6f-8c10-4499-a961-37ec417ae0bc",
   "metadata": {},
   "outputs": [],
   "source": []
  }
 ],
 "metadata": {
  "kernelspec": {
   "display_name": "SageMath 10.2",
   "language": "sage",
   "name": "sagemath"
  },
  "language_info": {
   "codemirror_mode": {
    "name": "ipython",
    "version": 3
   },
   "file_extension": ".py",
   "mimetype": "text/x-python",
   "name": "python",
   "nbconvert_exporter": "python",
   "pygments_lexer": "ipython3",
   "version": "3.11.6"
  }
 },
 "nbformat": 4,
 "nbformat_minor": 5
}
