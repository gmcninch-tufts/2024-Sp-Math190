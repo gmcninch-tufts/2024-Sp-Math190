{
 "cells": [
  {
   "cell_type": "code",
   "execution_count": 36,
   "id": "f0ee86a9-d993-4e56-92b9-71cee7d2eadd",
   "metadata": {},
   "outputs": [
    {
     "name": "stdout",
     "output_type": "stream",
     "text": [
      "Reed Solomon code with q = 19 and k = 5\n",
      "Can correct t = 7 errors.\n",
      "test decoding of 15 random vectors in C each with <=7 random errors\n",
      "\n",
      "all passed? True\n",
      "------\n",
      "\n",
      "sent/received/error: \n",
      "\n"
     ]
    },
    {
     "data": {
      "text/html": [
       "<html>\\(\\displaystyle \\left(\\begin{array}{rrrrrrrrrrrrrrrrrrr}\n",
       "13 & 14 & 12 & 6 & 10 & 15 & 8 & 10 & 0 & 10 & 11 & 8 & 2 & 9 & 3 & 11 & 18 & 5 & 6 \\\\\n",
       "14 & 14 & 4 & 8 & 10 & 18 & 8 & 10 & 0 & 10 & 11 & 8 & 5 & 9 & 3 & 5 & 18 & 5 & 6 \\\\\n",
       "1 & 0 & 11 & 2 & 0 & 3 & 0 & 0 & 0 & 0 & 0 & 0 & 3 & 0 & 0 & 13 & 0 & 0 & 0\n",
       "\\end{array}\\right)\\)</html>"
      ],
      "text/latex": [
       "$\\displaystyle \\left(\\begin{array}{rrrrrrrrrrrrrrrrrrr}\n",
       "13 & 14 & 12 & 6 & 10 & 15 & 8 & 10 & 0 & 10 & 11 & 8 & 2 & 9 & 3 & 11 & 18 & 5 & 6 \\\\\n",
       "14 & 14 & 4 & 8 & 10 & 18 & 8 & 10 & 0 & 10 & 11 & 8 & 5 & 9 & 3 & 5 & 18 & 5 & 6 \\\\\n",
       "1 & 0 & 11 & 2 & 0 & 3 & 0 & 0 & 0 & 0 & 0 & 0 & 3 & 0 & 0 & 13 & 0 & 0 & 0\n",
       "\\end{array}\\right)$"
      ],
      "text/plain": [
       "[13 14 12  6 10 15  8 10  0 10 11  8  2  9  3 11 18  5  6]\n",
       "[14 14  4  8 10 18  8 10  0 10 11  8  5  9  3  5 18  5  6]\n",
       "[ 1  0 11  2  0  3  0  0  0  0  0  0  3  0  0 13  0  0  0]"
      ]
     },
     "metadata": {},
     "output_type": "display_data"
    },
    {
     "name": "stdout",
     "output_type": "stream",
     "text": [
      "\n",
      "decoded correctly? True\n",
      "-----\n",
      "\n",
      "sent/received/error: \n",
      "\n"
     ]
    },
    {
     "data": {
      "text/html": [
       "<html>\\(\\displaystyle \\left(\\begin{array}{rrrrrrrrrrrrrrrrrrr}\n",
       "7 & 11 & 0 & 11 & 15 & 12 & 12 & 16 & 16 & 14 & 3 & 5 & 14 & 15 & 3 & 2 & 8 & 8 & 18 \\\\\n",
       "7 & 0 & 16 & 1 & 15 & 2 & 12 & 16 & 16 & 14 & 3 & 5 & 14 & 15 & 3 & 2 & 6 & 8 & 18 \\\\\n",
       "0 & 8 & 16 & 9 & 0 & 9 & 0 & 0 & 0 & 0 & 0 & 0 & 0 & 0 & 0 & 0 & 17 & 0 & 0\n",
       "\\end{array}\\right)\\)</html>"
      ],
      "text/latex": [
       "$\\displaystyle \\left(\\begin{array}{rrrrrrrrrrrrrrrrrrr}\n",
       "7 & 11 & 0 & 11 & 15 & 12 & 12 & 16 & 16 & 14 & 3 & 5 & 14 & 15 & 3 & 2 & 8 & 8 & 18 \\\\\n",
       "7 & 0 & 16 & 1 & 15 & 2 & 12 & 16 & 16 & 14 & 3 & 5 & 14 & 15 & 3 & 2 & 6 & 8 & 18 \\\\\n",
       "0 & 8 & 16 & 9 & 0 & 9 & 0 & 0 & 0 & 0 & 0 & 0 & 0 & 0 & 0 & 0 & 17 & 0 & 0\n",
       "\\end{array}\\right)$"
      ],
      "text/plain": [
       "[ 7 11  0 11 15 12 12 16 16 14  3  5 14 15  3  2  8  8 18]\n",
       "[ 7  0 16  1 15  2 12 16 16 14  3  5 14 15  3  2  6  8 18]\n",
       "[ 0  8 16  9  0  9  0  0  0  0  0  0  0  0  0  0 17  0  0]"
      ]
     },
     "metadata": {},
     "output_type": "display_data"
    },
    {
     "name": "stdout",
     "output_type": "stream",
     "text": [
      "\n",
      "decoded correctly? True\n",
      "-----\n",
      "\n",
      "sent/received/error: \n",
      "\n"
     ]
    },
    {
     "data": {
      "text/html": [
       "<html>\\(\\displaystyle \\left(\\begin{array}{rrrrrrrrrrrrrrrrrrr}\n",
       "5 & 13 & 5 & 5 & 0 & 16 & 4 & 11 & 9 & 9 & 4 & 7 & 13 & 18 & 0 & 14 & 2 & 2 & 15 \\\\\n",
       "5 & 13 & 1 & 5 & 0 & 16 & 4 & 5 & 9 & 9 & 4 & 7 & 9 & 0 & 17 & 14 & 2 & 2 & 15 \\\\\n",
       "0 & 0 & 15 & 0 & 0 & 0 & 0 & 13 & 0 & 0 & 0 & 0 & 15 & 1 & 17 & 0 & 0 & 0 & 0\n",
       "\\end{array}\\right)\\)</html>"
      ],
      "text/latex": [
       "$\\displaystyle \\left(\\begin{array}{rrrrrrrrrrrrrrrrrrr}\n",
       "5 & 13 & 5 & 5 & 0 & 16 & 4 & 11 & 9 & 9 & 4 & 7 & 13 & 18 & 0 & 14 & 2 & 2 & 15 \\\\\n",
       "5 & 13 & 1 & 5 & 0 & 16 & 4 & 5 & 9 & 9 & 4 & 7 & 9 & 0 & 17 & 14 & 2 & 2 & 15 \\\\\n",
       "0 & 0 & 15 & 0 & 0 & 0 & 0 & 13 & 0 & 0 & 0 & 0 & 15 & 1 & 17 & 0 & 0 & 0 & 0\n",
       "\\end{array}\\right)$"
      ],
      "text/plain": [
       "[ 5 13  5  5  0 16  4 11  9  9  4  7 13 18  0 14  2  2 15]\n",
       "[ 5 13  1  5  0 16  4  5  9  9  4  7  9  0 17 14  2  2 15]\n",
       "[ 0  0 15  0  0  0  0 13  0  0  0  0 15  1 17  0  0  0  0]"
      ]
     },
     "metadata": {},
     "output_type": "display_data"
    },
    {
     "name": "stdout",
     "output_type": "stream",
     "text": [
      "\n",
      "decoded correctly? True\n",
      "-----\n",
      "\n",
      "sent/received/error: \n",
      "\n"
     ]
    },
    {
     "data": {
      "text/html": [
       "<html>\\(\\displaystyle \\left(\\begin{array}{rrrrrrrrrrrrrrrrrrr}\n",
       "17 & 1 & 7 & 5 & 3 & 9 & 12 & 1 & 3 & 7 & 2 & 15 & 16 & 13 & 14 & 8 & 3 & 7 & 9 \\\\\n",
       "17 & 1 & 7 & 5 & 3 & 15 & 12 & 17 & 1 & 7 & 5 & 15 & 16 & 13 & 14 & 13 & 3 & 7 & 5 \\\\\n",
       "0 & 0 & 0 & 0 & 0 & 6 & 0 & 16 & 17 & 0 & 3 & 0 & 0 & 0 & 0 & 5 & 0 & 0 & 15\n",
       "\\end{array}\\right)\\)</html>"
      ],
      "text/latex": [
       "$\\displaystyle \\left(\\begin{array}{rrrrrrrrrrrrrrrrrrr}\n",
       "17 & 1 & 7 & 5 & 3 & 9 & 12 & 1 & 3 & 7 & 2 & 15 & 16 & 13 & 14 & 8 & 3 & 7 & 9 \\\\\n",
       "17 & 1 & 7 & 5 & 3 & 15 & 12 & 17 & 1 & 7 & 5 & 15 & 16 & 13 & 14 & 13 & 3 & 7 & 5 \\\\\n",
       "0 & 0 & 0 & 0 & 0 & 6 & 0 & 16 & 17 & 0 & 3 & 0 & 0 & 0 & 0 & 5 & 0 & 0 & 15\n",
       "\\end{array}\\right)$"
      ],
      "text/plain": [
       "[17  1  7  5  3  9 12  1  3  7  2 15 16 13 14  8  3  7  9]\n",
       "[17  1  7  5  3 15 12 17  1  7  5 15 16 13 14 13  3  7  5]\n",
       "[ 0  0  0  0  0  6  0 16 17  0  3  0  0  0  0  5  0  0 15]"
      ]
     },
     "metadata": {},
     "output_type": "display_data"
    },
    {
     "name": "stdout",
     "output_type": "stream",
     "text": [
      "\n",
      "decoded correctly? True\n",
      "-----\n",
      "\n",
      "sent/received/error: \n",
      "\n"
     ]
    },
    {
     "data": {
      "text/html": [
       "<html>\\(\\displaystyle \\left(\\begin{array}{rrrrrrrrrrrrrrrrrrr}\n",
       "12 & 14 & 10 & 6 & 17 & 10 & 18 & 7 & 9 & 8 & 16 & 16 & 0 & 7 & 9 & 6 & 7 & 11 & 7 \\\\\n",
       "12 & 8 & 10 & 6 & 17 & 10 & 18 & 7 & 11 & 8 & 8 & 16 & 0 & 7 & 9 & 6 & 8 & 2 & 7 \\\\\n",
       "0 & 13 & 0 & 0 & 0 & 0 & 0 & 0 & 2 & 0 & 11 & 0 & 0 & 0 & 0 & 0 & 1 & 10 & 0\n",
       "\\end{array}\\right)\\)</html>"
      ],
      "text/latex": [
       "$\\displaystyle \\left(\\begin{array}{rrrrrrrrrrrrrrrrrrr}\n",
       "12 & 14 & 10 & 6 & 17 & 10 & 18 & 7 & 9 & 8 & 16 & 16 & 0 & 7 & 9 & 6 & 7 & 11 & 7 \\\\\n",
       "12 & 8 & 10 & 6 & 17 & 10 & 18 & 7 & 11 & 8 & 8 & 16 & 0 & 7 & 9 & 6 & 8 & 2 & 7 \\\\\n",
       "0 & 13 & 0 & 0 & 0 & 0 & 0 & 0 & 2 & 0 & 11 & 0 & 0 & 0 & 0 & 0 & 1 & 10 & 0\n",
       "\\end{array}\\right)$"
      ],
      "text/plain": [
       "[12 14 10  6 17 10 18  7  9  8 16 16  0  7  9  6  7 11  7]\n",
       "[12  8 10  6 17 10 18  7 11  8  8 16  0  7  9  6  8  2  7]\n",
       "[ 0 13  0  0  0  0  0  0  2  0 11  0  0  0  0  0  1 10  0]"
      ]
     },
     "metadata": {},
     "output_type": "display_data"
    },
    {
     "name": "stdout",
     "output_type": "stream",
     "text": [
      "\n",
      "decoded correctly? True\n",
      "-----\n",
      "\n",
      "sent/received/error: \n",
      "\n"
     ]
    },
    {
     "data": {
      "text/html": [
       "<html>\\(\\displaystyle \\left(\\begin{array}{rrrrrrrrrrrrrrrrrrr}\n",
       "14 & 2 & 14 & 13 & 7 & 11 & 9 & 11 & 15 & 7 & 18 & 10 & 9 & 10 & 15 & 14 & 4 & 8 & 18 \\\\\n",
       "14 & 12 & 11 & 13 & 7 & 11 & 18 & 11 & 15 & 7 & 18 & 10 & 9 & 13 & 15 & 6 & 14 & 14 & 18 \\\\\n",
       "0 & 10 & 16 & 0 & 0 & 0 & 9 & 0 & 0 & 0 & 0 & 0 & 0 & 3 & 0 & 11 & 10 & 6 & 0\n",
       "\\end{array}\\right)\\)</html>"
      ],
      "text/latex": [
       "$\\displaystyle \\left(\\begin{array}{rrrrrrrrrrrrrrrrrrr}\n",
       "14 & 2 & 14 & 13 & 7 & 11 & 9 & 11 & 15 & 7 & 18 & 10 & 9 & 10 & 15 & 14 & 4 & 8 & 18 \\\\\n",
       "14 & 12 & 11 & 13 & 7 & 11 & 18 & 11 & 15 & 7 & 18 & 10 & 9 & 13 & 15 & 6 & 14 & 14 & 18 \\\\\n",
       "0 & 10 & 16 & 0 & 0 & 0 & 9 & 0 & 0 & 0 & 0 & 0 & 0 & 3 & 0 & 11 & 10 & 6 & 0\n",
       "\\end{array}\\right)$"
      ],
      "text/plain": [
       "[14  2 14 13  7 11  9 11 15  7 18 10  9 10 15 14  4  8 18]\n",
       "[14 12 11 13  7 11 18 11 15  7 18 10  9 13 15  6 14 14 18]\n",
       "[ 0 10 16  0  0  0  9  0  0  0  0  0  0  3  0 11 10  6  0]"
      ]
     },
     "metadata": {},
     "output_type": "display_data"
    },
    {
     "name": "stdout",
     "output_type": "stream",
     "text": [
      "\n",
      "decoded correctly? True\n",
      "-----\n",
      "\n",
      "sent/received/error: \n",
      "\n"
     ]
    },
    {
     "data": {
      "text/html": [
       "<html>\\(\\displaystyle \\left(\\begin{array}{rrrrrrrrrrrrrrrrrrr}\n",
       "1 & 17 & 1 & 3 & 8 & 12 & 3 & 18 & 10 & 0 & 1 & 18 & 10 & 4 & 0 & 9 & 15 & 13 & 9 \\\\\n",
       "5 & 17 & 1 & 3 & 8 & 18 & 11 & 4 & 10 & 9 & 5 & 18 & 10 & 14 & 0 & 9 & 15 & 13 & 9 \\\\\n",
       "4 & 0 & 0 & 0 & 0 & 6 & 8 & 5 & 0 & 9 & 4 & 0 & 0 & 10 & 0 & 0 & 0 & 0 & 0\n",
       "\\end{array}\\right)\\)</html>"
      ],
      "text/latex": [
       "$\\displaystyle \\left(\\begin{array}{rrrrrrrrrrrrrrrrrrr}\n",
       "1 & 17 & 1 & 3 & 8 & 12 & 3 & 18 & 10 & 0 & 1 & 18 & 10 & 4 & 0 & 9 & 15 & 13 & 9 \\\\\n",
       "5 & 17 & 1 & 3 & 8 & 18 & 11 & 4 & 10 & 9 & 5 & 18 & 10 & 14 & 0 & 9 & 15 & 13 & 9 \\\\\n",
       "4 & 0 & 0 & 0 & 0 & 6 & 8 & 5 & 0 & 9 & 4 & 0 & 0 & 10 & 0 & 0 & 0 & 0 & 0\n",
       "\\end{array}\\right)$"
      ],
      "text/plain": [
       "[ 1 17  1  3  8 12  3 18 10  0  1 18 10  4  0  9 15 13  9]\n",
       "[ 5 17  1  3  8 18 11  4 10  9  5 18 10 14  0  9 15 13  9]\n",
       "[ 4  0  0  0  0  6  8  5  0  9  4  0  0 10  0  0  0  0  0]"
      ]
     },
     "metadata": {},
     "output_type": "display_data"
    },
    {
     "name": "stdout",
     "output_type": "stream",
     "text": [
      "\n",
      "decoded correctly? True\n",
      "-----\n",
      "\n",
      "sent/received/error: \n",
      "\n"
     ]
    },
    {
     "data": {
      "text/html": [
       "<html>\\(\\displaystyle \\left(\\begin{array}{rrrrrrrrrrrrrrrrrrr}\n",
       "10 & 4 & 0 & 9 & 5 & 1 & 11 & 12 & 1 & 14 & 12 & 14 & 2 & 16 & 2 & 2 & 2 & 8 & 8 \\\\\n",
       "10 & 5 & 0 & 9 & 5 & 18 & 2 & 12 & 1 & 14 & 12 & 14 & 4 & 16 & 12 & 2 & 2 & 8 & 8 \\\\\n",
       "0 & 1 & 0 & 0 & 0 & 17 & 10 & 0 & 0 & 0 & 0 & 0 & 2 & 0 & 10 & 0 & 0 & 0 & 0\n",
       "\\end{array}\\right)\\)</html>"
      ],
      "text/latex": [
       "$\\displaystyle \\left(\\begin{array}{rrrrrrrrrrrrrrrrrrr}\n",
       "10 & 4 & 0 & 9 & 5 & 1 & 11 & 12 & 1 & 14 & 12 & 14 & 2 & 16 & 2 & 2 & 2 & 8 & 8 \\\\\n",
       "10 & 5 & 0 & 9 & 5 & 18 & 2 & 12 & 1 & 14 & 12 & 14 & 4 & 16 & 12 & 2 & 2 & 8 & 8 \\\\\n",
       "0 & 1 & 0 & 0 & 0 & 17 & 10 & 0 & 0 & 0 & 0 & 0 & 2 & 0 & 10 & 0 & 0 & 0 & 0\n",
       "\\end{array}\\right)$"
      ],
      "text/plain": [
       "[10  4  0  9  5  1 11 12  1 14 12 14  2 16  2  2  2  8  8]\n",
       "[10  5  0  9  5 18  2 12  1 14 12 14  4 16 12  2  2  8  8]\n",
       "[ 0  1  0  0  0 17 10  0  0  0  0  0  2  0 10  0  0  0  0]"
      ]
     },
     "metadata": {},
     "output_type": "display_data"
    },
    {
     "name": "stdout",
     "output_type": "stream",
     "text": [
      "\n",
      "decoded correctly? True\n",
      "-----\n",
      "\n",
      "sent/received/error: \n",
      "\n"
     ]
    },
    {
     "data": {
      "text/html": [
       "<html>\\(\\displaystyle \\left(\\begin{array}{rrrrrrrrrrrrrrrrrrr}\n",
       "17 & 7 & 6 & 5 & 16 & 15 & 18 & 5 & 15 & 13 & 4 & 14 & 14 & 15 & 11 & 17 & 12 & 15 & 9 \\\\\n",
       "17 & 7 & 6 & 5 & 16 & 15 & 18 & 5 & 15 & 13 & 4 & 14 & 4 & 15 & 16 & 8 & 12 & 12 & 9 \\\\\n",
       "0 & 0 & 0 & 0 & 0 & 0 & 0 & 0 & 0 & 0 & 0 & 0 & 9 & 0 & 5 & 10 & 0 & 16 & 0\n",
       "\\end{array}\\right)\\)</html>"
      ],
      "text/latex": [
       "$\\displaystyle \\left(\\begin{array}{rrrrrrrrrrrrrrrrrrr}\n",
       "17 & 7 & 6 & 5 & 16 & 15 & 18 & 5 & 15 & 13 & 4 & 14 & 14 & 15 & 11 & 17 & 12 & 15 & 9 \\\\\n",
       "17 & 7 & 6 & 5 & 16 & 15 & 18 & 5 & 15 & 13 & 4 & 14 & 4 & 15 & 16 & 8 & 12 & 12 & 9 \\\\\n",
       "0 & 0 & 0 & 0 & 0 & 0 & 0 & 0 & 0 & 0 & 0 & 0 & 9 & 0 & 5 & 10 & 0 & 16 & 0\n",
       "\\end{array}\\right)$"
      ],
      "text/plain": [
       "[17  7  6  5 16 15 18  5 15 13  4 14 14 15 11 17 12 15  9]\n",
       "[17  7  6  5 16 15 18  5 15 13  4 14  4 15 16  8 12 12  9]\n",
       "[ 0  0  0  0  0  0  0  0  0  0  0  0  9  0  5 10  0 16  0]"
      ]
     },
     "metadata": {},
     "output_type": "display_data"
    },
    {
     "name": "stdout",
     "output_type": "stream",
     "text": [
      "\n",
      "decoded correctly? True\n",
      "-----\n",
      "\n",
      "sent/received/error: \n",
      "\n"
     ]
    },
    {
     "data": {
      "text/html": [
       "<html>\\(\\displaystyle \\left(\\begin{array}{rrrrrrrrrrrrrrrrrrr}\n",
       "5 & 11 & 15 & 9 & 8 & 12 & 6 & 17 & 0 & 9 & 7 & 18 & 13 & 5 & 11 & 14 & 1 & 1 & 9 \\\\\n",
       "5 & 11 & 15 & 9 & 8 & 10 & 10 & 1 & 0 & 9 & 7 & 18 & 13 & 5 & 11 & 14 & 1 & 1 & 17 \\\\\n",
       "0 & 0 & 0 & 0 & 0 & 17 & 4 & 3 & 0 & 0 & 0 & 0 & 0 & 0 & 0 & 0 & 0 & 0 & 8\n",
       "\\end{array}\\right)\\)</html>"
      ],
      "text/latex": [
       "$\\displaystyle \\left(\\begin{array}{rrrrrrrrrrrrrrrrrrr}\n",
       "5 & 11 & 15 & 9 & 8 & 12 & 6 & 17 & 0 & 9 & 7 & 18 & 13 & 5 & 11 & 14 & 1 & 1 & 9 \\\\\n",
       "5 & 11 & 15 & 9 & 8 & 10 & 10 & 1 & 0 & 9 & 7 & 18 & 13 & 5 & 11 & 14 & 1 & 1 & 17 \\\\\n",
       "0 & 0 & 0 & 0 & 0 & 17 & 4 & 3 & 0 & 0 & 0 & 0 & 0 & 0 & 0 & 0 & 0 & 0 & 8\n",
       "\\end{array}\\right)$"
      ],
      "text/plain": [
       "[ 5 11 15  9  8 12  6 17  0  9  7 18 13  5 11 14  1  1  9]\n",
       "[ 5 11 15  9  8 10 10  1  0  9  7 18 13  5 11 14  1  1 17]\n",
       "[ 0  0  0  0  0 17  4  3  0  0  0  0  0  0  0  0  0  0  8]"
      ]
     },
     "metadata": {},
     "output_type": "display_data"
    },
    {
     "name": "stdout",
     "output_type": "stream",
     "text": [
      "\n",
      "decoded correctly? True\n",
      "-----\n",
      "\n",
      "sent/received/error: \n",
      "\n"
     ]
    },
    {
     "data": {
      "text/html": [
       "<html>\\(\\displaystyle \\left(\\begin{array}{rrrrrrrrrrrrrrrrrrr}\n",
       "11 & 16 & 5 & 1 & 9 & 16 & 10 & 18 & 11 & 18 & 12 & 5 & 10 & 3 & 18 & 14 & 8 & 18 & 6 \\\\\n",
       "11 & 16 & 15 & 1 & 9 & 16 & 10 & 17 & 11 & 18 & 12 & 5 & 10 & 3 & 9 & 18 & 8 & 18 & 15 \\\\\n",
       "0 & 0 & 10 & 0 & 0 & 0 & 0 & 18 & 0 & 0 & 0 & 0 & 0 & 0 & 10 & 4 & 0 & 0 & 9\n",
       "\\end{array}\\right)\\)</html>"
      ],
      "text/latex": [
       "$\\displaystyle \\left(\\begin{array}{rrrrrrrrrrrrrrrrrrr}\n",
       "11 & 16 & 5 & 1 & 9 & 16 & 10 & 18 & 11 & 18 & 12 & 5 & 10 & 3 & 18 & 14 & 8 & 18 & 6 \\\\\n",
       "11 & 16 & 15 & 1 & 9 & 16 & 10 & 17 & 11 & 18 & 12 & 5 & 10 & 3 & 9 & 18 & 8 & 18 & 15 \\\\\n",
       "0 & 0 & 10 & 0 & 0 & 0 & 0 & 18 & 0 & 0 & 0 & 0 & 0 & 0 & 10 & 4 & 0 & 0 & 9\n",
       "\\end{array}\\right)$"
      ],
      "text/plain": [
       "[11 16  5  1  9 16 10 18 11 18 12  5 10  3 18 14  8 18  6]\n",
       "[11 16 15  1  9 16 10 17 11 18 12  5 10  3  9 18  8 18 15]\n",
       "[ 0  0 10  0  0  0  0 18  0  0  0  0  0  0 10  4  0  0  9]"
      ]
     },
     "metadata": {},
     "output_type": "display_data"
    },
    {
     "name": "stdout",
     "output_type": "stream",
     "text": [
      "\n",
      "decoded correctly? True\n",
      "-----\n",
      "\n",
      "sent/received/error: \n",
      "\n"
     ]
    },
    {
     "data": {
      "text/html": [
       "<html>\\(\\displaystyle \\left(\\begin{array}{rrrrrrrrrrrrrrrrrrr}\n",
       "12 & 18 & 10 & 5 & 3 & 6 & 18 & 7 & 0 & 7 & 2 & 18 & 14 & 8 & 1 & 15 & 17 & 14 & 15 \\\\\n",
       "0 & 18 & 10 & 5 & 3 & 3 & 18 & 7 & 0 & 7 & 2 & 1 & 0 & 8 & 1 & 15 & 0 & 14 & 15 \\\\\n",
       "7 & 0 & 0 & 0 & 0 & 16 & 0 & 0 & 0 & 0 & 0 & 2 & 5 & 0 & 0 & 0 & 2 & 0 & 0\n",
       "\\end{array}\\right)\\)</html>"
      ],
      "text/latex": [
       "$\\displaystyle \\left(\\begin{array}{rrrrrrrrrrrrrrrrrrr}\n",
       "12 & 18 & 10 & 5 & 3 & 6 & 18 & 7 & 0 & 7 & 2 & 18 & 14 & 8 & 1 & 15 & 17 & 14 & 15 \\\\\n",
       "0 & 18 & 10 & 5 & 3 & 3 & 18 & 7 & 0 & 7 & 2 & 1 & 0 & 8 & 1 & 15 & 0 & 14 & 15 \\\\\n",
       "7 & 0 & 0 & 0 & 0 & 16 & 0 & 0 & 0 & 0 & 0 & 2 & 5 & 0 & 0 & 0 & 2 & 0 & 0\n",
       "\\end{array}\\right)$"
      ],
      "text/plain": [
       "[12 18 10  5  3  6 18  7  0  7  2 18 14  8  1 15 17 14 15]\n",
       "[ 0 18 10  5  3  3 18  7  0  7  2  1  0  8  1 15  0 14 15]\n",
       "[ 7  0  0  0  0 16  0  0  0  0  0  2  5  0  0  0  2  0  0]"
      ]
     },
     "metadata": {},
     "output_type": "display_data"
    },
    {
     "name": "stdout",
     "output_type": "stream",
     "text": [
      "\n",
      "decoded correctly? True\n",
      "-----\n",
      "\n",
      "sent/received/error: \n",
      "\n"
     ]
    },
    {
     "data": {
      "text/html": [
       "<html>\\(\\displaystyle \\left(\\begin{array}{rrrrrrrrrrrrrrrrrrr}\n",
       "8 & 17 & 8 & 9 & 13 & 16 & 17 & 18 & 5 & 5 & 10 & 15 & 18 & 1 & 6 & 2 & 18 & 10 & 13 \\\\\n",
       "8 & 5 & 16 & 9 & 13 & 3 & 3 & 18 & 5 & 1 & 10 & 15 & 18 & 2 & 18 & 2 & 18 & 10 & 13 \\\\\n",
       "0 & 7 & 8 & 0 & 0 & 6 & 5 & 0 & 0 & 15 & 0 & 0 & 0 & 1 & 12 & 0 & 0 & 0 & 0\n",
       "\\end{array}\\right)\\)</html>"
      ],
      "text/latex": [
       "$\\displaystyle \\left(\\begin{array}{rrrrrrrrrrrrrrrrrrr}\n",
       "8 & 17 & 8 & 9 & 13 & 16 & 17 & 18 & 5 & 5 & 10 & 15 & 18 & 1 & 6 & 2 & 18 & 10 & 13 \\\\\n",
       "8 & 5 & 16 & 9 & 13 & 3 & 3 & 18 & 5 & 1 & 10 & 15 & 18 & 2 & 18 & 2 & 18 & 10 & 13 \\\\\n",
       "0 & 7 & 8 & 0 & 0 & 6 & 5 & 0 & 0 & 15 & 0 & 0 & 0 & 1 & 12 & 0 & 0 & 0 & 0\n",
       "\\end{array}\\right)$"
      ],
      "text/plain": [
       "[ 8 17  8  9 13 16 17 18  5  5 10 15 18  1  6  2 18 10 13]\n",
       "[ 8  5 16  9 13  3  3 18  5  1 10 15 18  2 18  2 18 10 13]\n",
       "[ 0  7  8  0  0  6  5  0  0 15  0  0  0  1 12  0  0  0  0]"
      ]
     },
     "metadata": {},
     "output_type": "display_data"
    },
    {
     "name": "stdout",
     "output_type": "stream",
     "text": [
      "\n",
      "decoded correctly? True\n",
      "-----\n",
      "\n",
      "sent/received/error: \n",
      "\n"
     ]
    },
    {
     "data": {
      "text/html": [
       "<html>\\(\\displaystyle \\left(\\begin{array}{rrrrrrrrrrrrrrrrrrr}\n",
       "12 & 3 & 17 & 18 & 2 & 16 & 6 & 7 & 10 & 0 & 13 & 3 & 13 & 4 & 7 & 9 & 10 & 4 & 17 \\\\\n",
       "16 & 3 & 14 & 0 & 2 & 16 & 6 & 9 & 10 & 0 & 13 & 3 & 13 & 4 & 7 & 9 & 10 & 4 & 17 \\\\\n",
       "4 & 0 & 16 & 1 & 0 & 0 & 0 & 2 & 0 & 0 & 0 & 0 & 0 & 0 & 0 & 0 & 0 & 0 & 0\n",
       "\\end{array}\\right)\\)</html>"
      ],
      "text/latex": [
       "$\\displaystyle \\left(\\begin{array}{rrrrrrrrrrrrrrrrrrr}\n",
       "12 & 3 & 17 & 18 & 2 & 16 & 6 & 7 & 10 & 0 & 13 & 3 & 13 & 4 & 7 & 9 & 10 & 4 & 17 \\\\\n",
       "16 & 3 & 14 & 0 & 2 & 16 & 6 & 9 & 10 & 0 & 13 & 3 & 13 & 4 & 7 & 9 & 10 & 4 & 17 \\\\\n",
       "4 & 0 & 16 & 1 & 0 & 0 & 0 & 2 & 0 & 0 & 0 & 0 & 0 & 0 & 0 & 0 & 0 & 0 & 0\n",
       "\\end{array}\\right)$"
      ],
      "text/plain": [
       "[12  3 17 18  2 16  6  7 10  0 13  3 13  4  7  9 10  4 17]\n",
       "[16  3 14  0  2 16  6  9 10  0 13  3 13  4  7  9 10  4 17]\n",
       "[ 4  0 16  1  0  0  0  2  0  0  0  0  0  0  0  0  0  0  0]"
      ]
     },
     "metadata": {},
     "output_type": "display_data"
    },
    {
     "name": "stdout",
     "output_type": "stream",
     "text": [
      "\n",
      "decoded correctly? True\n",
      "-----\n",
      "\n",
      "sent/received/error: \n",
      "\n"
     ]
    },
    {
     "data": {
      "text/html": [
       "<html>\\(\\displaystyle \\left(\\begin{array}{rrrrrrrrrrrrrrrrrrr}\n",
       "8 & 6 & 14 & 6 & 1 & 6 & 16 & 14 & 9 & 17 & 4 & 0 & 4 & 3 & 10 & 7 & 2 & 10 & 15 \\\\\n",
       "8 & 5 & 14 & 6 & 1 & 15 & 16 & 14 & 9 & 7 & 4 & 3 & 3 & 3 & 10 & 7 & 2 & 10 & 15 \\\\\n",
       "0 & 18 & 0 & 0 & 0 & 9 & 0 & 0 & 0 & 9 & 0 & 3 & 18 & 0 & 0 & 0 & 0 & 0 & 0\n",
       "\\end{array}\\right)\\)</html>"
      ],
      "text/latex": [
       "$\\displaystyle \\left(\\begin{array}{rrrrrrrrrrrrrrrrrrr}\n",
       "8 & 6 & 14 & 6 & 1 & 6 & 16 & 14 & 9 & 17 & 4 & 0 & 4 & 3 & 10 & 7 & 2 & 10 & 15 \\\\\n",
       "8 & 5 & 14 & 6 & 1 & 15 & 16 & 14 & 9 & 7 & 4 & 3 & 3 & 3 & 10 & 7 & 2 & 10 & 15 \\\\\n",
       "0 & 18 & 0 & 0 & 0 & 9 & 0 & 0 & 0 & 9 & 0 & 3 & 18 & 0 & 0 & 0 & 0 & 0 & 0\n",
       "\\end{array}\\right)$"
      ],
      "text/plain": [
       "[ 8  6 14  6  1  6 16 14  9 17  4  0  4  3 10  7  2 10 15]\n",
       "[ 8  5 14  6  1 15 16 14  9  7  4  3  3  3 10  7  2 10 15]\n",
       "[ 0 18  0  0  0  9  0  0  0  9  0  3 18  0  0  0  0  0  0]"
      ]
     },
     "metadata": {},
     "output_type": "display_data"
    },
    {
     "name": "stdout",
     "output_type": "stream",
     "text": [
      "\n",
      "decoded correctly? True\n",
      "-----\n",
      "\n"
     ]
    }
   ],
   "source": [
    "class ReedSolomon:\n",
    "    def __init__(self,q,k):\n",
    "        self.q = q\n",
    "        self.F = GF(q)\n",
    "\n",
    "        self.k = k\n",
    "        self.t = floor((q-k)/2)  # we should be able to correct this many errors!\n",
    "        \n",
    "        self.V = VectorSpace(self.F,self.q)\n",
    "\n",
    "        self.R = self.F['T']\n",
    "        self.T = self.R.0  \n",
    "        \n",
    "    def vectorize(self,f):\n",
    "        if f.degree() < self.k:\n",
    "            return self.V([ f(a) for a in self.F ])\n",
    "        else:\n",
    "            print(\"error\")\n",
    "\n",
    "    def decode(self,v):\n",
    "        q = self.q\n",
    "        k = self.k\n",
    "        \n",
    "        M1 = floor((1/2)*(q-k))\n",
    "        M2 = k + ceil((1/2)*(q-k)) - 1\n",
    "\n",
    "        # the elements of the field F\n",
    "        elts = [ a for a in self.F ]    \n",
    "        \n",
    "        def mkRow(i):\n",
    "            return [ elts[i]^j for j in range(M2+1) ] + [-elts[i]^j * v[i] for j in range(M1+1) ]\n",
    "\n",
    "        M = MatrixSpace(self.F,q,q+1).matrix([ mkRow(i) for i in range(q) ])\n",
    "\n",
    "        # get a vector in the null space of V.\n",
    "        coeffs = M.right_kernel().basis()[0]\n",
    "\n",
    "        T = self.T\n",
    "\n",
    "        # use the vector in the null space of V to build polynomials g and h\n",
    "        g = sum([ coeffs[j] * T^j      for j in range(M2+1) ])\n",
    "        h = sum([ coeffs[M2+1+j] * T^j for j in range(M1+1) ])\n",
    "\n",
    "        # our solution is the quotient f = g/h\n",
    "        # h divides g, so we \"coerce\" the ratio g/h to be element of self.R -- i.e. a polynomial\n",
    "        # and not just a rational function of self.T\n",
    "        f = self.R(g/h)\n",
    "\n",
    "        # return the vector corresponding to f - this the decoded vector.\n",
    "        return self.vectorize(f)\n",
    "\n",
    "\n",
    "    def random_field_element(self):\n",
    "        elts = [ a for a in self.F ]\n",
    "        return choice(elts)\n",
    "\n",
    "    def random_poly(self):\n",
    "        # return a random polynomial of degree < k\n",
    "\n",
    "        T = self.T\n",
    "        return sum([ self.random_field_element()*T^j for j in range(self.k) ])\n",
    "\n",
    "    def random_error(self):\n",
    "        q = self.q\n",
    "        k = self.k\n",
    "        t = self.t\n",
    "                    \n",
    "        # choose t random indices\n",
    "        ll = [ choice(range(q)) for _ in range(t) ]\n",
    "\n",
    "        # return a random error vector, according to the indices in ll\n",
    "        return self.V([ self.random_field_element() if j in ll else 0 for j in range(q) ])\n",
    "\n",
    "\n",
    "    def display_result(self,res):\n",
    "        print(\"sent/received/error: \\n\")\n",
    "        M = MatrixSpace(self.F,3,self.q).matrix([ res['sent'], res['received'], res['error'] ])\n",
    "        pretty_print(M)\n",
    "        print(f\"\\ndecoded correctly? {res['passed']}\") \n",
    "\n",
    "    \n",
    "    def test(self):\n",
    "        f = self.random_poly()\n",
    "        v = self.vectorize(f)\n",
    "        e = self.random_error()\n",
    "        return { \"sent\": v,\n",
    "                 \"poly\": f,\n",
    "                 \"received\": v + e,\n",
    "                 \"error\": e,\n",
    "                 \"passed\": v == self.decode(v+e)\n",
    "               }\n",
    "    \n",
    "\n",
    "    def run_tests(self,m):\n",
    "        print(f\"Reed Solomon code with q = {self.q} and k = {self.k}\")\n",
    "        print(f\"Can correct t = {self.t} errors.\")\n",
    "        print(f\"test decoding of {m} random vectors in C each with <={self.t} random errors\\n\")\n",
    "        test_results = [ self.test() for _ in range(m) ]\n",
    "        \n",
    "        all_passed = all([ res['passed'] for res in test_results ])\n",
    "        print(f\"all passed? {all_passed}\")\n",
    "        print(\"------\\n\")\n",
    "        \n",
    "        for res in test_results:\n",
    "            self.display_result(res)\n",
    "            print(\"-----\\n\")\n",
    "\n",
    "rs = ReedSolomon(19,5)\n"
   ]
  },
  {
   "cell_type": "code",
   "execution_count": null,
   "id": "a4b8bbf2-7cf0-4197-9e5d-16b5a42d6f14",
   "metadata": {},
   "outputs": [],
   "source": []
  }
 ],
 "metadata": {
  "kernelspec": {
   "display_name": "SageMath 10.2",
   "language": "sage",
   "name": "sagemath"
  },
  "language_info": {
   "codemirror_mode": {
    "name": "ipython",
    "version": 3
   },
   "file_extension": ".py",
   "mimetype": "text/x-python",
   "name": "python",
   "nbconvert_exporter": "python",
   "pygments_lexer": "ipython3",
   "version": "3.11.6"
  }
 },
 "nbformat": 4,
 "nbformat_minor": 5
}
