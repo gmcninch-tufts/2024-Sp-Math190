{
 "cells": [
  {
   "cell_type": "code",
   "execution_count": 2,
   "id": "12bc9caf-e4a7-4bcf-93a2-0727a94e2697",
   "metadata": {},
   "outputs": [
    {
     "data": {
      "text/plain": [
       "11"
      ]
     },
     "execution_count": 2,
     "metadata": {},
     "output_type": "execute_result"
    }
   ],
   "source": [
    "k.<z2>=GF(4)\n",
    "R.<T> = PolynomialRing(k)\n",
    "f = T^11 - 1\n",
    "\n",
    "l.<w>  = GF(4^5)\n",
    "n = int((4^5-1)/11)\n",
    "\n",
    "z= w^n\n",
    "\n",
    "multiplicative_order(z)\n",
    "\n"
   ]
  },
  {
   "cell_type": "code",
   "execution_count": 4,
   "id": "1bacae37-68d0-44b3-bdf2-0d668da81ade",
   "metadata": {},
   "outputs": [],
   "source": [
    "#product([ T-z^(4^i) for i in range(5) ])\n"
   ]
  },
  {
   "cell_type": "code",
   "execution_count": 3,
   "id": "037cf25e-2f61-43a0-aa37-7ab6d6f4ae1c",
   "metadata": {},
   "outputs": [
    {
     "data": {
      "text/plain": [
       "(T + 1) * (T^5 + z2*T^4 + T^3 + T^2 + (z2 + 1)*T + 1) * (T^5 + (z2 + 1)*T^4 + T^3 + T^2 + z2*T + 1)"
      ]
     },
     "execution_count": 3,
     "metadata": {},
     "output_type": "execute_result"
    }
   ],
   "source": [
    "f.factor()"
   ]
  },
  {
   "cell_type": "code",
   "execution_count": 4,
   "id": "01aa5566-2a53-49c9-89c5-b2e316e5eee5",
   "metadata": {},
   "outputs": [
    {
     "data": {
      "text/plain": [
       "[(T + 1, 1),\n",
       " (T^5 + z2*T^4 + T^3 + T^2 + (z2 + 1)*T + 1, 1),\n",
       " (T^5 + (z2 + 1)*T^4 + T^3 + T^2 + z2*T + 1, 1)]"
      ]
     },
     "execution_count": 4,
     "metadata": {},
     "output_type": "execute_result"
    }
   ],
   "source": [
    "fs = list(f.factor())\n",
    "fs"
   ]
  },
  {
   "cell_type": "code",
   "execution_count": 5,
   "id": "3cac2695-0705-412a-81c5-999682669028",
   "metadata": {},
   "outputs": [
    {
     "data": {
      "text/plain": [
       "(T^5 + z2*T^4 + T^3 + T^2 + (z2 + 1)*T + 1,\n",
       " T^5 + (z2 + 1)*T^4 + T^3 + T^2 + z2*T + 1)"
      ]
     },
     "execution_count": 5,
     "metadata": {},
     "output_type": "execute_result"
    }
   ],
   "source": [
    "(g,_) = fs[1]\n",
    "(h,_) = fs[2]\n",
    "\n",
    "(g,h)"
   ]
  },
  {
   "cell_type": "code",
   "execution_count": 6,
   "id": "a64f255f-8723-4bcd-b88f-44dc61acc23b",
   "metadata": {},
   "outputs": [
    {
     "data": {
      "text/plain": [
       "(X^5 + (w^5 + w^3 + w)*X^4 + X^3 + X^2 + (w^5 + w^3 + w + 1)*X + 1,\n",
       " X^5 + (w^5 + w^3 + w + 1)*X^4 + X^3 + X^2 + (w^5 + w^3 + w)*X + 1)"
      ]
     },
     "execution_count": 6,
     "metadata": {},
     "output_type": "execute_result"
    }
   ],
   "source": [
    "S.<X>  = PolynomialRing(l)\n",
    "gg=product([ X-z^(4^i) for i in range(5) ])\n",
    "\n",
    "hh = product([X- z^(2*4^i) for i in range(5)])\n",
    "\n",
    "(gg,hh)"
   ]
  },
  {
   "cell_type": "code",
   "execution_count": 7,
   "id": "37c0dcf8-b47b-4e63-a8af-17dcc94738c7",
   "metadata": {},
   "outputs": [
    {
     "data": {
      "text/plain": [
       "341"
      ]
     },
     "execution_count": 7,
     "metadata": {},
     "output_type": "execute_result"
    }
   ],
   "source": [
    "(4^5-1)/3"
   ]
  },
  {
   "cell_type": "code",
   "execution_count": 8,
   "id": "afcadcbe-7183-4cdc-ab2d-16bf373e5311",
   "metadata": {},
   "outputs": [
    {
     "data": {
      "text/plain": [
       "0"
      ]
     },
     "execution_count": 8,
     "metadata": {},
     "output_type": "execute_result"
    }
   ],
   "source": [
    "m = X^2 + X + 1\n",
    "m(w^5 + w^3 + w)"
   ]
  },
  {
   "cell_type": "code",
   "execution_count": 11,
   "id": "8d3d12b8-dec0-4d7d-9428-79feae3f1f89",
   "metadata": {},
   "outputs": [
    {
     "data": {
      "text/plain": [
       "[5, 5]"
      ]
     },
     "execution_count": 11,
     "metadata": {},
     "output_type": "execute_result"
    }
   ],
   "source": [
    "V = VectorSpace(k,11)\n",
    "\n",
    "def pad(ll,n):\n",
    "    # pad the list ll with 0's to make it have length n\n",
    "    x = len(ll)\n",
    "    if x < n:\n",
    "        return ll + (n-x)*[0]\n",
    "    else:\n",
    "        return ll[0:n]\n",
    "\n",
    "def vectorize(p,n):\n",
    "    # make a vector of length n out of a polynomial\n",
    "    coeffs = p.coefficients(sparse=False)\n",
    "    return V(pad(coeffs,n))\n",
    "\n",
    "\n",
    "def mkCode(p):\n",
    "    # vectorize the polynomial T^i * p and use the  vectors as a basis for the code C\n",
    "    # I'm assuming deg p = 5...\n",
    "    return V.subspace([ vectorize( T^i * p, 11) for i in range(6) ])\n",
    "\n",
    "C1 = mkCode(g)\n",
    "C2 = mkCode(h)\n",
    "\n",
    "def weight(v):\n",
    "    r = [x for x in v if x != 0]\n",
    "    return len(r)\n",
    "\n",
    "def min_distance(D):\n",
    "    # brute-force computation of minimal distance of D\n",
    "    return min([ weight(v) for v in D if v != 0])\n",
    "\n",
    "[ min_distance(c) for c in [C1,C2]]"
   ]
  },
  {
   "cell_type": "code",
   "execution_count": null,
   "id": "5f94a08a-4833-4334-b59d-a405c9da2232",
   "metadata": {},
   "outputs": [],
   "source": []
  }
 ],
 "metadata": {
  "kernelspec": {
   "display_name": "Python 3 (ipykernel)",
   "language": "python",
   "name": "python3"
  },
  "language_info": {
   "codemirror_mode": {
    "name": "ipython",
    "version": 3
   },
   "file_extension": ".py",
   "mimetype": "text/x-python",
   "name": "python",
   "nbconvert_exporter": "python",
   "pygments_lexer": "ipython3",
   "version": "3.11.6"
  }
 },
 "nbformat": 4,
 "nbformat_minor": 5
}
