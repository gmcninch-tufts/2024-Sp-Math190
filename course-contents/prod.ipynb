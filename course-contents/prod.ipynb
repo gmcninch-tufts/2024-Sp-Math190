{
 "cells": [
  {
   "cell_type": "code",
   "execution_count": 8,
   "id": "c584b779-62b5-4ceb-b159-10dfc752c502",
   "metadata": {},
   "outputs": [
    {
     "data": {
      "text/plain": [
       "T^8 + 12"
      ]
     },
     "execution_count": 8,
     "metadata": {},
     "output_type": "execute_result"
    }
   ],
   "source": [
    "k = GF(13)\n",
    "k.<T> = PolynomialRing(k)\n",
    "\n",
    "f = (T-1)*(T-12)*(T-5)*(T-8)*(T^2 - 5)*(T^2 - 8)\n",
    "f\n",
    "\n"
   ]
  },
  {
   "cell_type": "code",
   "execution_count": 7,
   "id": "c038d610-9f76-4b39-874c-3cc03ecf9efb",
   "metadata": {},
   "outputs": [
    {
     "data": {
      "text/plain": [
       "[True, True]"
      ]
     },
     "execution_count": 7,
     "metadata": {},
     "output_type": "execute_result"
    }
   ],
   "source": [
    "[f.is_irreducible() for f in [ T^2 - 5, T^2 -8 ]]"
   ]
  },
  {
   "cell_type": "code",
   "execution_count": 14,
   "id": "b88ec71e-9f40-4bde-af0f-e9246bfb5082",
   "metadata": {},
   "outputs": [
    {
     "data": {
      "text/plain": [
       "(T + 4) * (T^10 + 9*T^9 + 3*T^8 + T^7 + 9*T^6 + 3*T^5 + T^4 + 9*T^3 + 3*T^2 + T + 9)"
      ]
     },
     "execution_count": 14,
     "metadata": {},
     "output_type": "execute_result"
    }
   ],
   "source": [
    "(T^11  - 3).factor()"
   ]
  },
  {
   "cell_type": "code",
   "execution_count": 15,
   "id": "4b8fc9b7-4ea9-4256-8337-8faf444d7b9d",
   "metadata": {},
   "outputs": [
    {
     "data": {
      "text/plain": [
       "(T + 1) * (T + 5) * (T + 8) * (T + 12) * (T^2 + 5) * (T^2 + 8)"
      ]
     },
     "execution_count": 15,
     "metadata": {},
     "output_type": "execute_result"
    }
   ],
   "source": [
    "(T^8  -1).factor()"
   ]
  },
  {
   "cell_type": "code",
   "execution_count": 19,
   "id": "4ea3f13e-58fc-45cb-95a0-9109564be512",
   "metadata": {},
   "outputs": [
    {
     "data": {
      "text/plain": [
       "0"
      ]
     },
     "execution_count": 19,
     "metadata": {},
     "output_type": "execute_result"
    }
   ],
   "source": [
    "binomial(6,7)"
   ]
  },
  {
   "cell_type": "code",
   "execution_count": 21,
   "id": "3d6e5281-2626-409c-a44a-9aa0fce2a413",
   "metadata": {},
   "outputs": [],
   "source": [
    "def delta(n,q,m):\n",
    "    return sum([ binomial(n,j) * (q-1)**j for j in range(m+1) ])"
   ]
  }
 ],
 "metadata": {
  "kernelspec": {
   "display_name": "SageMath 10.2",
   "language": "sage",
   "name": "sagemath"
  },
  "language_info": {
   "codemirror_mode": {
    "name": "ipython",
    "version": 3
   },
   "file_extension": ".py",
   "mimetype": "text/x-python",
   "name": "python",
   "nbconvert_exporter": "python",
   "pygments_lexer": "ipython3",
   "version": "3.11.6"
  }
 },
 "nbformat": 4,
 "nbformat_minor": 5
}
