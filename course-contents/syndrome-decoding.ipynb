{
 "cells": [
  {
   "cell_type": "code",
   "execution_count": 67,
   "id": "ea26b72d-d260-4df0-8231-d22dbd3b1b33",
   "metadata": {},
   "outputs": [
    {
     "data": {
      "text/plain": [
       "[2 2 1 0 0]\n",
       "[2 0 0 1 0]\n",
       "[0 2 0 0 1]"
      ]
     },
     "execution_count": 67,
     "metadata": {},
     "output_type": "execute_result"
    }
   ],
   "source": [
    "K = GF(3);\n",
    "V = VectorSpace(K,5)\n",
    "\n",
    "C= V.subspace([V([1,0,1,1,0]),\n",
    "               V([0,1,1,0,1])])\n",
    "\n",
    "G = MatrixSpace(K,2,5).matrix(C.basis())\n",
    "G\n",
    "\n",
    "A = MatrixSpace(K,2,3).matrix([b[2:5] for b in G])\n",
    "\n",
    "\n",
    "H=block_matrix([[-A.transpose(),MatrixSpace(K,3,3).one()]],\n",
    "               subdivide=False)  \n",
    "\n",
    "def weight(v):\n",
    "    r = [x for x in v if x != 0]\n",
    "    return len(r)\n",
    "\n",
    "min([ weight(v) for v in C if v != 0])\n",
    "\n",
    "H"
   ]
  },
  {
   "cell_type": "code",
   "execution_count": 68,
   "id": "e0d00292-66c3-438c-8128-1888e553255d",
   "metadata": {},
   "outputs": [
    {
     "data": {
      "text/plain": [
       "{(0, 0, 0): (0, 0, 0, 0, 0),\n",
       " (2, 2, 0): (1, 0, 0, 0, 0),\n",
       " (1, 1, 0): (2, 0, 0, 0, 0),\n",
       " (2, 0, 2): (0, 1, 0, 0, 0),\n",
       " (1, 0, 1): (0, 2, 0, 0, 0),\n",
       " (1, 0, 0): (0, 0, 1, 0, 0),\n",
       " (2, 0, 0): (0, 0, 2, 0, 0),\n",
       " (0, 1, 0): (0, 0, 0, 1, 0),\n",
       " (0, 2, 0): (0, 0, 0, 2, 0),\n",
       " (0, 0, 1): (0, 0, 0, 0, 1),\n",
       " (0, 0, 2): (0, 0, 0, 0, 2)}"
      ]
     },
     "execution_count": 68,
     "metadata": {},
     "output_type": "execute_result"
    }
   ],
   "source": [
    "lookup = { tuple(H*v):v for v in V if weight(v) < 2 }\n",
    "lookup"
   ]
  },
  {
   "cell_type": "code",
   "execution_count": 69,
   "id": "b807883b-385c-4be2-8a48-0697f835ed4a",
   "metadata": {},
   "outputs": [],
   "source": [
    "def decode(v):\n",
    "    return v-lookup[tuple(H*v)]"
   ]
  },
  {
   "cell_type": "code",
   "execution_count": 70,
   "id": "818484b5-eab7-43a9-ad38-9a03f8e4df01",
   "metadata": {},
   "outputs": [
    {
     "data": {
      "text/plain": [
       "[((0, 0, 0, 0, 0), True),\n",
       " ((1, 0, 1, 1, 0), True),\n",
       " ((2, 0, 2, 2, 0), True),\n",
       " ((0, 1, 1, 0, 1), True),\n",
       " ((1, 1, 2, 1, 1), True),\n",
       " ((2, 1, 0, 2, 1), True),\n",
       " ((0, 2, 2, 0, 2), True),\n",
       " ((1, 2, 0, 1, 2), True),\n",
       " ((2, 2, 1, 2, 2), True)]"
      ]
     },
     "execution_count": 70,
     "metadata": {},
     "output_type": "execute_result"
    }
   ],
   "source": [
    "[ (decode(c), c==decode(c)) for c in C ]"
   ]
  },
  {
   "cell_type": "code",
   "execution_count": 77,
   "id": "53d067e6-140b-4ff3-aa11-24146ac222f4",
   "metadata": {},
   "outputs": [
    {
     "data": {
      "text/plain": [
       "[((1, 0, 0, 0, 0),\n",
       "  [((1, 0, 0, 0, 0), (0, 0, 0, 0, 0), True),\n",
       "   ((2, 0, 1, 1, 0), (1, 0, 1, 1, 0), True),\n",
       "   ((0, 0, 2, 2, 0), (2, 0, 2, 2, 0), True),\n",
       "   ((1, 1, 1, 0, 1), (0, 1, 1, 0, 1), True),\n",
       "   ((2, 1, 2, 1, 1), (1, 1, 2, 1, 1), True),\n",
       "   ((0, 1, 0, 2, 1), (2, 1, 0, 2, 1), True),\n",
       "   ((1, 2, 2, 0, 2), (0, 2, 2, 0, 2), True),\n",
       "   ((2, 2, 0, 1, 2), (1, 2, 0, 1, 2), True),\n",
       "   ((0, 2, 1, 2, 2), (2, 2, 1, 2, 2), True)]),\n",
       " ((0, 1, 0, 0, 0),\n",
       "  [((0, 1, 0, 0, 0), (0, 0, 0, 0, 0), True),\n",
       "   ((1, 1, 1, 1, 0), (1, 0, 1, 1, 0), True),\n",
       "   ((2, 1, 2, 2, 0), (2, 0, 2, 2, 0), True),\n",
       "   ((0, 2, 1, 0, 1), (0, 1, 1, 0, 1), True),\n",
       "   ((1, 2, 2, 1, 1), (1, 1, 2, 1, 1), True),\n",
       "   ((2, 2, 0, 2, 1), (2, 1, 0, 2, 1), True),\n",
       "   ((0, 0, 2, 0, 2), (0, 2, 2, 0, 2), True),\n",
       "   ((1, 0, 0, 1, 2), (1, 2, 0, 1, 2), True),\n",
       "   ((2, 0, 1, 2, 2), (2, 2, 1, 2, 2), True)]),\n",
       " ((0, 0, 1, 0, 0),\n",
       "  [((0, 0, 1, 0, 0), (0, 0, 0, 0, 0), True),\n",
       "   ((1, 0, 2, 1, 0), (1, 0, 1, 1, 0), True),\n",
       "   ((2, 0, 0, 2, 0), (2, 0, 2, 2, 0), True),\n",
       "   ((0, 1, 2, 0, 1), (0, 1, 1, 0, 1), True),\n",
       "   ((1, 1, 0, 1, 1), (1, 1, 2, 1, 1), True),\n",
       "   ((2, 1, 1, 2, 1), (2, 1, 0, 2, 1), True),\n",
       "   ((0, 2, 0, 0, 2), (0, 2, 2, 0, 2), True),\n",
       "   ((1, 2, 1, 1, 2), (1, 2, 0, 1, 2), True),\n",
       "   ((2, 2, 2, 2, 2), (2, 2, 1, 2, 2), True)]),\n",
       " ((0, 0, 0, 1, 0),\n",
       "  [((0, 0, 0, 1, 0), (0, 0, 0, 0, 0), True),\n",
       "   ((1, 0, 1, 2, 0), (1, 0, 1, 1, 0), True),\n",
       "   ((2, 0, 2, 0, 0), (2, 0, 2, 2, 0), True),\n",
       "   ((0, 1, 1, 1, 1), (0, 1, 1, 0, 1), True),\n",
       "   ((1, 1, 2, 2, 1), (1, 1, 2, 1, 1), True),\n",
       "   ((2, 1, 0, 0, 1), (2, 1, 0, 2, 1), True),\n",
       "   ((0, 2, 2, 1, 2), (0, 2, 2, 0, 2), True),\n",
       "   ((1, 2, 0, 2, 2), (1, 2, 0, 1, 2), True),\n",
       "   ((2, 2, 1, 0, 2), (2, 2, 1, 2, 2), True)]),\n",
       " ((0, 0, 0, 0, 1),\n",
       "  [((0, 0, 0, 0, 1), (0, 0, 0, 0, 0), True),\n",
       "   ((1, 0, 1, 1, 1), (1, 0, 1, 1, 0), True),\n",
       "   ((2, 0, 2, 2, 1), (2, 0, 2, 2, 0), True),\n",
       "   ((0, 1, 1, 0, 2), (0, 1, 1, 0, 1), True),\n",
       "   ((1, 1, 2, 1, 2), (1, 1, 2, 1, 1), True),\n",
       "   ((2, 1, 0, 2, 2), (2, 1, 0, 2, 1), True),\n",
       "   ((0, 2, 2, 0, 0), (0, 2, 2, 0, 2), True),\n",
       "   ((1, 2, 0, 1, 0), (1, 2, 0, 1, 2), True),\n",
       "   ((2, 2, 1, 2, 0), (2, 2, 1, 2, 2), True)])]"
      ]
     },
     "execution_count": 77,
     "metadata": {},
     "output_type": "execute_result"
    }
   ],
   "source": [
    "# consider \"error vectors\" of weight 1\n",
    "\n",
    "[ (e,[(c+e, decode(c+e), decode(c+e) ==  c) for c in C]) for e in V.basis()]"
   ]
  },
  {
   "cell_type": "code",
   "execution_count": 72,
   "id": "89c8890f-fa7d-4682-8e84-7aacfb2ca5ee",
   "metadata": {},
   "outputs": [
    {
     "data": {
      "text/plain": [
       "[((0, 1, 1, 0, 0), (0, 1, 1, 0, 1), False),\n",
       " ((1, 1, 2, 1, 0), (1, 1, 2, 1, 1), False),\n",
       " ((2, 1, 0, 2, 0), (2, 1, 0, 2, 1), False),\n",
       " ((0, 2, 2, 0, 1), (0, 2, 2, 0, 2), False),\n",
       " ((1, 2, 0, 1, 1), (1, 2, 0, 1, 2), False),\n",
       " ((2, 2, 1, 2, 1), (2, 2, 1, 2, 2), False),\n",
       " ((0, 0, 0, 0, 2), (0, 0, 0, 0, 0), False),\n",
       " ((1, 0, 1, 1, 2), (1, 0, 1, 1, 0), False),\n",
       " ((2, 0, 2, 2, 2), (2, 0, 2, 2, 0), False)]"
      ]
     },
     "execution_count": 72,
     "metadata": {},
     "output_type": "execute_result"
    }
   ],
   "source": [
    "# consider an \"error vector\" with weight 2\n",
    "f = V([0,1,1,0,0])\n",
    "\n",
    "[ (c+f, decode(c+f), decode(c+f) == c) for c in C ]"
   ]
  },
  {
   "cell_type": "code",
   "execution_count": null,
   "id": "fb326f81-0c4b-48fe-b2c1-a2227316ae77",
   "metadata": {},
   "outputs": [],
   "source": []
  }
 ],
 "metadata": {
  "kernelspec": {
   "display_name": "Python 3 (ipykernel)",
   "language": "python",
   "name": "python3"
  },
  "language_info": {
   "codemirror_mode": {
    "name": "ipython",
    "version": 3
   },
   "file_extension": ".py",
   "mimetype": "text/x-python",
   "name": "python",
   "nbconvert_exporter": "python",
   "pygments_lexer": "ipython3",
   "version": "3.11.6"
  }
 },
 "nbformat": 4,
 "nbformat_minor": 5
}
