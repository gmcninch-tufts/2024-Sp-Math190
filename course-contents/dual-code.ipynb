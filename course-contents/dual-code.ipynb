{
 "cells": [
  {
   "cell_type": "code",
   "execution_count": 17,
   "id": "907e75c4-6731-41b0-a5aa-37028ddf6cf0",
   "metadata": {},
   "outputs": [
    {
     "data": {
      "text/plain": [
       "[1 1 1 0 1 0 0 0]\n",
       "[1 1 0 1 0 1 0 0]\n",
       "[1 0 1 1 0 0 1 0]\n",
       "[0 1 1 1 0 0 0 1]"
      ]
     },
     "execution_count": 17,
     "metadata": {},
     "output_type": "execute_result"
    }
   ],
   "source": [
    "k = GF(2)\n",
    "V = VectorSpace(k,8)\n",
    "\n",
    "C = V.subspace([V([1,0,0,0,1,1,1,0]),\n",
    "                V([0,1,0,0,1,1,0,1]),\n",
    "                V([0,0,1,0,1,0,1,1]),\n",
    "                V([0,0,0,1,0,1,1,1])])\n",
    "\n",
    "G = MatrixSpace(k,4,8).matrix(C.basis())\n",
    "\n",
    "A = MatrixSpace(k,4,4).matrix([b[4:8] for b in G])\n",
    "\n",
    "\n",
    "H=block_matrix([[-A.transpose(),MatrixSpace(k,4,4).one()]],\n",
    "               subdivide=False)  \n",
    "\n",
    "H"
   ]
  },
  {
   "cell_type": "markdown",
   "id": "1068d2a8-cd77-4cfc-ad9e-e21476c689d2",
   "metadata": {},
   "source": [
    "We can check mechanically that C is self-dual:"
   ]
  },
  {
   "cell_type": "code",
   "execution_count": 23,
   "id": "190810e9-4d62-4961-88da-8cde2264406e",
   "metadata": {},
   "outputs": [
    {
     "data": {
      "text/plain": [
       "[\n",
       "[0 0 0 0]  [0 0 0 0]\n",
       "[0 0 0 0]  [0 0 0 0]\n",
       "[0 0 0 0]  [0 0 0 0]\n",
       "[0 0 0 0], [0 0 0 0]\n",
       "]"
      ]
     },
     "execution_count": 23,
     "metadata": {},
     "output_type": "execute_result"
    }
   ],
   "source": [
    "[ H * G.T, G * H.T ]"
   ]
  },
  {
   "cell_type": "markdown",
   "id": "7db80482-42c2-4f56-9b1f-3adf4350ee92",
   "metadata": {},
   "source": [
    "(Though really the point is that the weigth of each vector in $C$ is *even*)"
   ]
  },
  {
   "cell_type": "code",
   "execution_count": 24,
   "id": "260cadb5-fe63-4fd2-8b51-7367907ebe23",
   "metadata": {},
   "outputs": [
    {
     "data": {
      "text/plain": [
       "[0, 4, 4, 4, 4, 4, 4, 4, 4, 4, 4, 4, 4, 4, 4, 8]"
      ]
     },
     "execution_count": 24,
     "metadata": {},
     "output_type": "execute_result"
    }
   ],
   "source": [
    "def weight(v):\n",
    "    r = [x for x in v if x != 0]\n",
    "    return len(r)\n",
    "\n",
    "\n",
    "[ weight(c) for c in C ]"
   ]
  },
  {
   "cell_type": "code",
   "execution_count": 72,
   "id": "23bb5060-a438-4a24-9ed1-48b07cbff52b",
   "metadata": {},
   "outputs": [
    {
     "data": {
      "text/plain": [
       "T^8 + 14*T^4 + 1"
      ]
     },
     "execution_count": 72,
     "metadata": {},
     "output_type": "execute_result"
    }
   ],
   "source": [
    "R.<T> = PolynomialRing(ZZ)\n",
    "\n",
    "## compute the weight enumerator\n",
    "def WE(C):\n",
    "    return sum([ T^weight(c) for c in C ])\n",
    "\n",
    "WE(C)"
   ]
  },
  {
   "cell_type": "markdown",
   "id": "bd2db68a-2346-46d3-9466-a840f9c4eb0b",
   "metadata": {},
   "source": [
    "Suppose that $C$ is some `[8,4]_2` code with weight enumerator\n",
    "$\\displaystyle A(C) = 1 + \\sum_{i=1}^8 a_i T^i$."
   ]
  },
  {
   "cell_type": "code",
   "execution_count": 82,
   "id": "9f1b2169-2044-4d76-a44c-bfdbc0906ef8",
   "metadata": {},
   "outputs": [
    {
     "data": {
      "text/plain": [
       "('a0', 'a1', 'a2', 'a3', 'a4', 'a5', 'a6', 'a7', 'a8')"
      ]
     },
     "execution_count": 82,
     "metadata": {},
     "output_type": "execute_result"
    }
   ],
   "source": [
    "vars = var(' '.join([ f\"a{n}\" for n in range(9) ]))\n",
    "S = PolynomialRing(R,vars)\n",
    "\n",
    "S.variable_names()"
   ]
  },
  {
   "cell_type": "code",
   "execution_count": 83,
   "id": "45e287c3-f639-4381-a2b3-258ac2814179",
   "metadata": {},
   "outputs": [
    {
     "data": {
      "text/plain": [
       "T^8*a8 + T^7*a7 + T^6*a6 + T^5*a5 + T^4*a4 + T^3*a3 + T^2*a2 + T*a1 + a0"
      ]
     },
     "execution_count": 83,
     "metadata": {},
     "output_type": "execute_result"
    }
   ],
   "source": [
    "Ax = sum([vars[n] * T^n for n in range(9) ])\n",
    "Ax"
   ]
  },
  {
   "cell_type": "code",
   "execution_count": 89,
   "id": "a14f30f2-0917-4504-894f-b4b322475a7c",
   "metadata": {},
   "outputs": [],
   "source": [
    "G(T) = 2^-4 * (1+T)^8 * Ax(T = (1-T)/(1+T) )"
   ]
  },
  {
   "cell_type": "code",
   "execution_count": 90,
   "id": "c430010d-4e38-46ca-8851-dcc3f6ba9dba",
   "metadata": {},
   "outputs": [
    {
     "data": {
      "text/plain": [
       "1/16*a0 + 1/16*a1 + 1/16*a2 + 1/16*a3 + 1/16*a4 + 1/16*a5 + 1/16*a6 + 1/16*a7 + 1/16*a8"
      ]
     },
     "execution_count": 90,
     "metadata": {},
     "output_type": "execute_result"
    }
   ],
   "source": [
    "G(T=0)"
   ]
  },
  {
   "cell_type": "code",
   "execution_count": 93,
   "id": "96b7d437-60e6-4a56-8adf-7632e92572df",
   "metadata": {},
   "outputs": [
    {
     "data": {
      "text/plain": [
       "7/2*a0 + 7/4*a1 + 1/2*a2 - 1/4*a3 - 1/2*a4 - 1/4*a5 + 1/2*a6 + 7/4*a7 + 7/2*a8"
      ]
     },
     "execution_count": 93,
     "metadata": {},
     "output_type": "execute_result"
    }
   ],
   "source": [
    "G.diff(T).diff(T)(T=0)"
   ]
  },
  {
   "cell_type": "code",
   "execution_count": 97,
   "id": "22a6e45b-06b6-4148-a5ce-41a4006733d2",
   "metadata": {},
   "outputs": [],
   "source": [
    "def coeff(F,n):\n",
    "    # return nth coefficient of polynomial F in variable T\n",
    "    if n==0:\n",
    "        return F(T=0)\n",
    "    else:\n",
    "        return (1/n)*coeff(F.diff(T),n-1)"
   ]
  },
  {
   "cell_type": "code",
   "execution_count": 105,
   "id": "94b57cef-50ee-450c-bf23-337e388dcf7e",
   "metadata": {},
   "outputs": [
    {
     "data": {
      "text/plain": [
       "[a0, a1, a2, a3, a4, a5, a6, a7, a8, 0]"
      ]
     },
     "execution_count": 105,
     "metadata": {},
     "output_type": "execute_result"
    }
   ],
   "source": [
    "[ coeff(Ax,n) for n in range(10) ]"
   ]
  },
  {
   "cell_type": "code",
   "execution_count": 103,
   "id": "eab3443d-1e06-4817-910a-f31e9509fc7d",
   "metadata": {},
   "outputs": [
    {
     "data": {
      "text/plain": [
       "[1/16*a0 + 1/16*a1 + 1/16*a2 + 1/16*a3 + 1/16*a4 + 1/16*a5 + 1/16*a6 + 1/16*a7 + 1/16*a8,\n",
       " 1/2*a0 + 3/8*a1 + 1/4*a2 + 1/8*a3 - 1/8*a5 - 1/4*a6 - 3/8*a7 - 1/2*a8,\n",
       " 7/4*a0 + 7/8*a1 + 1/4*a2 - 1/8*a3 - 1/4*a4 - 1/8*a5 + 1/4*a6 + 7/8*a7 + 7/4*a8,\n",
       " 7/2*a0 + 7/8*a1 - 1/4*a2 - 3/8*a3 + 3/8*a5 + 1/4*a6 - 7/8*a7 - 7/2*a8,\n",
       " 35/8*a0 - 5/8*a2 + 3/8*a4 - 5/8*a6 + 35/8*a8,\n",
       " 7/2*a0 - 7/8*a1 - 1/4*a2 + 3/8*a3 - 3/8*a5 + 1/4*a6 + 7/8*a7 - 7/2*a8,\n",
       " 7/4*a0 - 7/8*a1 + 1/4*a2 + 1/8*a3 - 1/4*a4 + 1/8*a5 + 1/4*a6 - 7/8*a7 + 7/4*a8,\n",
       " 1/2*a0 - 3/8*a1 + 1/4*a2 - 1/8*a3 + 1/8*a5 - 1/4*a6 + 3/8*a7 - 1/2*a8,\n",
       " 1/16*a0 - 1/16*a1 + 1/16*a2 - 1/16*a3 + 1/16*a4 - 1/16*a5 + 1/16*a6 - 1/16*a7 + 1/16*a8,\n",
       " 0]"
      ]
     },
     "execution_count": 103,
     "metadata": {},
     "output_type": "execute_result"
    }
   ],
   "source": [
    "[ coeff(G,n) for n in range(10) ]"
   ]
  },
  {
   "cell_type": "code",
   "execution_count": null,
   "id": "7428a1cf-ae30-4564-bd16-5a3638c07696",
   "metadata": {},
   "outputs": [],
   "source": []
  }
 ],
 "metadata": {
  "kernelspec": {
   "display_name": "SageMath 10.2",
   "language": "sage",
   "name": "sagemath"
  },
  "language_info": {
   "codemirror_mode": {
    "name": "ipython",
    "version": 3
   },
   "file_extension": ".py",
   "mimetype": "text/x-python",
   "name": "python",
   "nbconvert_exporter": "python",
   "pygments_lexer": "ipython3",
   "version": "3.11.6"
  }
 },
 "nbformat": 4,
 "nbformat_minor": 5
}
